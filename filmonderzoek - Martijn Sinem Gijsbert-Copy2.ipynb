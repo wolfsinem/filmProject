{
 "cells": [
  {
   "cell_type": "code",
   "execution_count": 2,
   "metadata": {},
   "outputs": [],
   "source": [
    "# import necessary libraries\n",
    "\n",
    "import pandas as pd\n",
    "import numpy as np\n",
    "import pandas_profiling\n",
    "\n",
    "import matplotlib.pyplot as plt\n",
    "import seaborn as sns\n",
    "%matplotlib inline\n",
    "\n",
    "import warnings\n",
    "warnings.filterwarnings('ignore')"
   ]
  },
  {
   "cell_type": "code",
   "execution_count": 3,
   "metadata": {},
   "outputs": [],
   "source": [
    "# load dataset\n",
    "movies = pd.read_csv('movie.csv')"
   ]
  },
  {
   "cell_type": "code",
   "execution_count": 4,
   "metadata": {
    "scrolled": true
   },
   "outputs": [
    {
     "data": {
      "text/html": [
       "<div>\n",
       "<style scoped>\n",
       "    .dataframe tbody tr th:only-of-type {\n",
       "        vertical-align: middle;\n",
       "    }\n",
       "\n",
       "    .dataframe tbody tr th {\n",
       "        vertical-align: top;\n",
       "    }\n",
       "\n",
       "    .dataframe thead th {\n",
       "        text-align: right;\n",
       "    }\n",
       "</style>\n",
       "<table border=\"1\" class=\"dataframe\">\n",
       "  <thead>\n",
       "    <tr style=\"text-align: right;\">\n",
       "      <th></th>\n",
       "      <th>color</th>\n",
       "      <th>director_name</th>\n",
       "      <th>num_critic_for_reviews</th>\n",
       "      <th>duration</th>\n",
       "      <th>director_facebook_likes</th>\n",
       "      <th>actor_3_facebook_likes</th>\n",
       "      <th>actor_2_name</th>\n",
       "      <th>actor_1_facebook_likes</th>\n",
       "      <th>gross</th>\n",
       "      <th>genres</th>\n",
       "      <th>...</th>\n",
       "      <th>num_user_for_reviews</th>\n",
       "      <th>language</th>\n",
       "      <th>country</th>\n",
       "      <th>content_rating</th>\n",
       "      <th>budget</th>\n",
       "      <th>title_year</th>\n",
       "      <th>actor_2_facebook_likes</th>\n",
       "      <th>imdb_score</th>\n",
       "      <th>aspect_ratio</th>\n",
       "      <th>movie_facebook_likes</th>\n",
       "    </tr>\n",
       "  </thead>\n",
       "  <tbody>\n",
       "    <tr>\n",
       "      <th>count</th>\n",
       "      <td>5024</td>\n",
       "      <td>4939</td>\n",
       "      <td>4993.000000</td>\n",
       "      <td>5028.000000</td>\n",
       "      <td>4939.000000</td>\n",
       "      <td>5020.000000</td>\n",
       "      <td>5030</td>\n",
       "      <td>5036.000000</td>\n",
       "      <td>4.159000e+03</td>\n",
       "      <td>5043</td>\n",
       "      <td>...</td>\n",
       "      <td>5022.000000</td>\n",
       "      <td>5031</td>\n",
       "      <td>5038</td>\n",
       "      <td>4740</td>\n",
       "      <td>4.551000e+03</td>\n",
       "      <td>4935.000000</td>\n",
       "      <td>5030.000000</td>\n",
       "      <td>5043.000000</td>\n",
       "      <td>4714.000000</td>\n",
       "      <td>5043.000000</td>\n",
       "    </tr>\n",
       "    <tr>\n",
       "      <th>unique</th>\n",
       "      <td>2</td>\n",
       "      <td>2398</td>\n",
       "      <td>NaN</td>\n",
       "      <td>NaN</td>\n",
       "      <td>NaN</td>\n",
       "      <td>NaN</td>\n",
       "      <td>3032</td>\n",
       "      <td>NaN</td>\n",
       "      <td>NaN</td>\n",
       "      <td>914</td>\n",
       "      <td>...</td>\n",
       "      <td>NaN</td>\n",
       "      <td>47</td>\n",
       "      <td>65</td>\n",
       "      <td>18</td>\n",
       "      <td>NaN</td>\n",
       "      <td>NaN</td>\n",
       "      <td>NaN</td>\n",
       "      <td>NaN</td>\n",
       "      <td>NaN</td>\n",
       "      <td>NaN</td>\n",
       "    </tr>\n",
       "    <tr>\n",
       "      <th>top</th>\n",
       "      <td>Color</td>\n",
       "      <td>Steven Spielberg</td>\n",
       "      <td>NaN</td>\n",
       "      <td>NaN</td>\n",
       "      <td>NaN</td>\n",
       "      <td>NaN</td>\n",
       "      <td>Morgan Freeman</td>\n",
       "      <td>NaN</td>\n",
       "      <td>NaN</td>\n",
       "      <td>Drama</td>\n",
       "      <td>...</td>\n",
       "      <td>NaN</td>\n",
       "      <td>English</td>\n",
       "      <td>USA</td>\n",
       "      <td>R</td>\n",
       "      <td>NaN</td>\n",
       "      <td>NaN</td>\n",
       "      <td>NaN</td>\n",
       "      <td>NaN</td>\n",
       "      <td>NaN</td>\n",
       "      <td>NaN</td>\n",
       "    </tr>\n",
       "    <tr>\n",
       "      <th>freq</th>\n",
       "      <td>4815</td>\n",
       "      <td>26</td>\n",
       "      <td>NaN</td>\n",
       "      <td>NaN</td>\n",
       "      <td>NaN</td>\n",
       "      <td>NaN</td>\n",
       "      <td>20</td>\n",
       "      <td>NaN</td>\n",
       "      <td>NaN</td>\n",
       "      <td>236</td>\n",
       "      <td>...</td>\n",
       "      <td>NaN</td>\n",
       "      <td>4704</td>\n",
       "      <td>3807</td>\n",
       "      <td>2118</td>\n",
       "      <td>NaN</td>\n",
       "      <td>NaN</td>\n",
       "      <td>NaN</td>\n",
       "      <td>NaN</td>\n",
       "      <td>NaN</td>\n",
       "      <td>NaN</td>\n",
       "    </tr>\n",
       "    <tr>\n",
       "      <th>mean</th>\n",
       "      <td>NaN</td>\n",
       "      <td>NaN</td>\n",
       "      <td>140.194272</td>\n",
       "      <td>107.201074</td>\n",
       "      <td>686.509212</td>\n",
       "      <td>645.009761</td>\n",
       "      <td>NaN</td>\n",
       "      <td>6560.047061</td>\n",
       "      <td>4.846841e+07</td>\n",
       "      <td>NaN</td>\n",
       "      <td>...</td>\n",
       "      <td>272.770808</td>\n",
       "      <td>NaN</td>\n",
       "      <td>NaN</td>\n",
       "      <td>NaN</td>\n",
       "      <td>3.975262e+07</td>\n",
       "      <td>2002.470517</td>\n",
       "      <td>1651.754473</td>\n",
       "      <td>6.442138</td>\n",
       "      <td>2.220403</td>\n",
       "      <td>7525.964505</td>\n",
       "    </tr>\n",
       "    <tr>\n",
       "      <th>std</th>\n",
       "      <td>NaN</td>\n",
       "      <td>NaN</td>\n",
       "      <td>121.601675</td>\n",
       "      <td>25.197441</td>\n",
       "      <td>2813.328607</td>\n",
       "      <td>1665.041728</td>\n",
       "      <td>NaN</td>\n",
       "      <td>15020.759120</td>\n",
       "      <td>6.845299e+07</td>\n",
       "      <td>NaN</td>\n",
       "      <td>...</td>\n",
       "      <td>377.982886</td>\n",
       "      <td>NaN</td>\n",
       "      <td>NaN</td>\n",
       "      <td>NaN</td>\n",
       "      <td>2.061149e+08</td>\n",
       "      <td>12.474599</td>\n",
       "      <td>4042.438863</td>\n",
       "      <td>1.125116</td>\n",
       "      <td>1.385113</td>\n",
       "      <td>19320.445110</td>\n",
       "    </tr>\n",
       "    <tr>\n",
       "      <th>min</th>\n",
       "      <td>NaN</td>\n",
       "      <td>NaN</td>\n",
       "      <td>1.000000</td>\n",
       "      <td>7.000000</td>\n",
       "      <td>0.000000</td>\n",
       "      <td>0.000000</td>\n",
       "      <td>NaN</td>\n",
       "      <td>0.000000</td>\n",
       "      <td>1.620000e+02</td>\n",
       "      <td>NaN</td>\n",
       "      <td>...</td>\n",
       "      <td>1.000000</td>\n",
       "      <td>NaN</td>\n",
       "      <td>NaN</td>\n",
       "      <td>NaN</td>\n",
       "      <td>2.180000e+02</td>\n",
       "      <td>1916.000000</td>\n",
       "      <td>0.000000</td>\n",
       "      <td>1.600000</td>\n",
       "      <td>1.180000</td>\n",
       "      <td>0.000000</td>\n",
       "    </tr>\n",
       "    <tr>\n",
       "      <th>25%</th>\n",
       "      <td>NaN</td>\n",
       "      <td>NaN</td>\n",
       "      <td>50.000000</td>\n",
       "      <td>93.000000</td>\n",
       "      <td>7.000000</td>\n",
       "      <td>133.000000</td>\n",
       "      <td>NaN</td>\n",
       "      <td>614.000000</td>\n",
       "      <td>5.340988e+06</td>\n",
       "      <td>NaN</td>\n",
       "      <td>...</td>\n",
       "      <td>65.000000</td>\n",
       "      <td>NaN</td>\n",
       "      <td>NaN</td>\n",
       "      <td>NaN</td>\n",
       "      <td>6.000000e+06</td>\n",
       "      <td>1999.000000</td>\n",
       "      <td>281.000000</td>\n",
       "      <td>5.800000</td>\n",
       "      <td>1.850000</td>\n",
       "      <td>0.000000</td>\n",
       "    </tr>\n",
       "    <tr>\n",
       "      <th>50%</th>\n",
       "      <td>NaN</td>\n",
       "      <td>NaN</td>\n",
       "      <td>110.000000</td>\n",
       "      <td>103.000000</td>\n",
       "      <td>49.000000</td>\n",
       "      <td>371.500000</td>\n",
       "      <td>NaN</td>\n",
       "      <td>988.000000</td>\n",
       "      <td>2.551750e+07</td>\n",
       "      <td>NaN</td>\n",
       "      <td>...</td>\n",
       "      <td>156.000000</td>\n",
       "      <td>NaN</td>\n",
       "      <td>NaN</td>\n",
       "      <td>NaN</td>\n",
       "      <td>2.000000e+07</td>\n",
       "      <td>2005.000000</td>\n",
       "      <td>595.000000</td>\n",
       "      <td>6.600000</td>\n",
       "      <td>2.350000</td>\n",
       "      <td>166.000000</td>\n",
       "    </tr>\n",
       "    <tr>\n",
       "      <th>75%</th>\n",
       "      <td>NaN</td>\n",
       "      <td>NaN</td>\n",
       "      <td>195.000000</td>\n",
       "      <td>118.000000</td>\n",
       "      <td>194.500000</td>\n",
       "      <td>636.000000</td>\n",
       "      <td>NaN</td>\n",
       "      <td>11000.000000</td>\n",
       "      <td>6.230944e+07</td>\n",
       "      <td>NaN</td>\n",
       "      <td>...</td>\n",
       "      <td>326.000000</td>\n",
       "      <td>NaN</td>\n",
       "      <td>NaN</td>\n",
       "      <td>NaN</td>\n",
       "      <td>4.500000e+07</td>\n",
       "      <td>2011.000000</td>\n",
       "      <td>918.000000</td>\n",
       "      <td>7.200000</td>\n",
       "      <td>2.350000</td>\n",
       "      <td>3000.000000</td>\n",
       "    </tr>\n",
       "    <tr>\n",
       "      <th>max</th>\n",
       "      <td>NaN</td>\n",
       "      <td>NaN</td>\n",
       "      <td>813.000000</td>\n",
       "      <td>511.000000</td>\n",
       "      <td>23000.000000</td>\n",
       "      <td>23000.000000</td>\n",
       "      <td>NaN</td>\n",
       "      <td>640000.000000</td>\n",
       "      <td>7.605058e+08</td>\n",
       "      <td>NaN</td>\n",
       "      <td>...</td>\n",
       "      <td>5060.000000</td>\n",
       "      <td>NaN</td>\n",
       "      <td>NaN</td>\n",
       "      <td>NaN</td>\n",
       "      <td>1.221550e+10</td>\n",
       "      <td>2016.000000</td>\n",
       "      <td>137000.000000</td>\n",
       "      <td>9.500000</td>\n",
       "      <td>16.000000</td>\n",
       "      <td>349000.000000</td>\n",
       "    </tr>\n",
       "  </tbody>\n",
       "</table>\n",
       "<p>11 rows × 28 columns</p>\n",
       "</div>"
      ],
      "text/plain": [
       "        color     director_name  num_critic_for_reviews     duration  \\\n",
       "count    5024              4939             4993.000000  5028.000000   \n",
       "unique      2              2398                     NaN          NaN   \n",
       "top     Color  Steven Spielberg                     NaN          NaN   \n",
       "freq     4815                26                     NaN          NaN   \n",
       "mean      NaN               NaN              140.194272   107.201074   \n",
       "std       NaN               NaN              121.601675    25.197441   \n",
       "min       NaN               NaN                1.000000     7.000000   \n",
       "25%       NaN               NaN               50.000000    93.000000   \n",
       "50%       NaN               NaN              110.000000   103.000000   \n",
       "75%       NaN               NaN              195.000000   118.000000   \n",
       "max       NaN               NaN              813.000000   511.000000   \n",
       "\n",
       "        director_facebook_likes  actor_3_facebook_likes    actor_2_name  \\\n",
       "count               4939.000000             5020.000000            5030   \n",
       "unique                      NaN                     NaN            3032   \n",
       "top                         NaN                     NaN  Morgan Freeman   \n",
       "freq                        NaN                     NaN              20   \n",
       "mean                 686.509212              645.009761             NaN   \n",
       "std                 2813.328607             1665.041728             NaN   \n",
       "min                    0.000000                0.000000             NaN   \n",
       "25%                    7.000000              133.000000             NaN   \n",
       "50%                   49.000000              371.500000             NaN   \n",
       "75%                  194.500000              636.000000             NaN   \n",
       "max                23000.000000            23000.000000             NaN   \n",
       "\n",
       "        actor_1_facebook_likes         gross genres  ... num_user_for_reviews  \\\n",
       "count              5036.000000  4.159000e+03   5043  ...          5022.000000   \n",
       "unique                     NaN           NaN    914  ...                  NaN   \n",
       "top                        NaN           NaN  Drama  ...                  NaN   \n",
       "freq                       NaN           NaN    236  ...                  NaN   \n",
       "mean               6560.047061  4.846841e+07    NaN  ...           272.770808   \n",
       "std               15020.759120  6.845299e+07    NaN  ...           377.982886   \n",
       "min                   0.000000  1.620000e+02    NaN  ...             1.000000   \n",
       "25%                 614.000000  5.340988e+06    NaN  ...            65.000000   \n",
       "50%                 988.000000  2.551750e+07    NaN  ...           156.000000   \n",
       "75%               11000.000000  6.230944e+07    NaN  ...           326.000000   \n",
       "max              640000.000000  7.605058e+08    NaN  ...          5060.000000   \n",
       "\n",
       "       language  country  content_rating        budget   title_year  \\\n",
       "count      5031     5038            4740  4.551000e+03  4935.000000   \n",
       "unique       47       65              18           NaN          NaN   \n",
       "top     English      USA               R           NaN          NaN   \n",
       "freq       4704     3807            2118           NaN          NaN   \n",
       "mean        NaN      NaN             NaN  3.975262e+07  2002.470517   \n",
       "std         NaN      NaN             NaN  2.061149e+08    12.474599   \n",
       "min         NaN      NaN             NaN  2.180000e+02  1916.000000   \n",
       "25%         NaN      NaN             NaN  6.000000e+06  1999.000000   \n",
       "50%         NaN      NaN             NaN  2.000000e+07  2005.000000   \n",
       "75%         NaN      NaN             NaN  4.500000e+07  2011.000000   \n",
       "max         NaN      NaN             NaN  1.221550e+10  2016.000000   \n",
       "\n",
       "       actor_2_facebook_likes   imdb_score  aspect_ratio movie_facebook_likes  \n",
       "count             5030.000000  5043.000000   4714.000000          5043.000000  \n",
       "unique                    NaN          NaN           NaN                  NaN  \n",
       "top                       NaN          NaN           NaN                  NaN  \n",
       "freq                      NaN          NaN           NaN                  NaN  \n",
       "mean              1651.754473     6.442138      2.220403          7525.964505  \n",
       "std               4042.438863     1.125116      1.385113         19320.445110  \n",
       "min                  0.000000     1.600000      1.180000             0.000000  \n",
       "25%                281.000000     5.800000      1.850000             0.000000  \n",
       "50%                595.000000     6.600000      2.350000           166.000000  \n",
       "75%                918.000000     7.200000      2.350000          3000.000000  \n",
       "max             137000.000000     9.500000     16.000000        349000.000000  \n",
       "\n",
       "[11 rows x 28 columns]"
      ]
     },
     "execution_count": 4,
     "metadata": {},
     "output_type": "execute_result"
    }
   ],
   "source": [
    "# read in and explore data\n",
    "movies.describe(include='all')"
   ]
  },
  {
   "cell_type": "markdown",
   "metadata": {},
   "source": [
    "# Data analyses "
   ]
  },
  {
   "cell_type": "markdown",
   "metadata": {},
   "source": [
    "# Opschonen Dataset\n",
    "Bij het opschonen van de dataset kunnen we een variabele 'selection' maken die de kolommen meeneemt uit bovenstaande selectie:"
   ]
  },
  {
   "cell_type": "code",
   "execution_count": 5,
   "metadata": {},
   "outputs": [],
   "source": [
    "selection = movies[['movie_title', 'title_year', 'imdb_score', 'movie_facebook_likes', 'director_name', 'gross', 'duration', 'num_voted_users', 'actor_1_name', 'actor_2_name', 'actor_3_name', 'actor_1_facebook_likes', 'actor_2_facebook_likes', 'actor_3_facebook_likes', 'genres']]"
   ]
  },
  {
   "cell_type": "code",
   "execution_count": 6,
   "metadata": {},
   "outputs": [],
   "source": [
    "selection.dropna(subset=['movie_title'], inplace=True)\n",
    "selection.dropna(thresh=14, inplace=True)\n",
    "selection.drop_duplicates(subset=None, keep='first', inplace=True)"
   ]
  },
  {
   "cell_type": "code",
   "execution_count": 7,
   "metadata": {},
   "outputs": [
    {
     "data": {
      "text/html": [
       "<div>\n",
       "<style scoped>\n",
       "    .dataframe tbody tr th:only-of-type {\n",
       "        vertical-align: middle;\n",
       "    }\n",
       "\n",
       "    .dataframe tbody tr th {\n",
       "        vertical-align: top;\n",
       "    }\n",
       "\n",
       "    .dataframe thead th {\n",
       "        text-align: right;\n",
       "    }\n",
       "</style>\n",
       "<table border=\"1\" class=\"dataframe\">\n",
       "  <thead>\n",
       "    <tr style=\"text-align: right;\">\n",
       "      <th></th>\n",
       "      <th>title_year</th>\n",
       "      <th>imdb_score</th>\n",
       "      <th>movie_facebook_likes</th>\n",
       "      <th>director_name</th>\n",
       "      <th>gross</th>\n",
       "      <th>duration</th>\n",
       "      <th>num_voted_users</th>\n",
       "      <th>actor_1_name</th>\n",
       "      <th>actor_2_name</th>\n",
       "      <th>actor_3_name</th>\n",
       "      <th>actor_1_facebook_likes</th>\n",
       "      <th>actor_2_facebook_likes</th>\n",
       "      <th>actor_3_facebook_likes</th>\n",
       "      <th>genres</th>\n",
       "    </tr>\n",
       "    <tr>\n",
       "      <th>movie_title</th>\n",
       "      <th></th>\n",
       "      <th></th>\n",
       "      <th></th>\n",
       "      <th></th>\n",
       "      <th></th>\n",
       "      <th></th>\n",
       "      <th></th>\n",
       "      <th></th>\n",
       "      <th></th>\n",
       "      <th></th>\n",
       "      <th></th>\n",
       "      <th></th>\n",
       "      <th></th>\n",
       "      <th></th>\n",
       "    </tr>\n",
       "  </thead>\n",
       "  <tbody>\n",
       "    <tr>\n",
       "      <th>Avatar</th>\n",
       "      <td>2009</td>\n",
       "      <td>7.9</td>\n",
       "      <td>33000</td>\n",
       "      <td>James Cameron</td>\n",
       "      <td>760505847</td>\n",
       "      <td>178</td>\n",
       "      <td>886204</td>\n",
       "      <td>CCH Pounder</td>\n",
       "      <td>Joel David Moore</td>\n",
       "      <td>Wes Studi</td>\n",
       "      <td>1000</td>\n",
       "      <td>936</td>\n",
       "      <td>855</td>\n",
       "      <td>Action|Adventure|Fantasy|Sci-Fi</td>\n",
       "    </tr>\n",
       "    <tr>\n",
       "      <th>Pirates of the Caribbean: At World's End</th>\n",
       "      <td>2007</td>\n",
       "      <td>7.1</td>\n",
       "      <td>0</td>\n",
       "      <td>Gore Verbinski</td>\n",
       "      <td>309404152</td>\n",
       "      <td>169</td>\n",
       "      <td>471220</td>\n",
       "      <td>Johnny Depp</td>\n",
       "      <td>Orlando Bloom</td>\n",
       "      <td>Jack Davenport</td>\n",
       "      <td>40000</td>\n",
       "      <td>5000</td>\n",
       "      <td>1000</td>\n",
       "      <td>Action|Adventure|Fantasy</td>\n",
       "    </tr>\n",
       "    <tr>\n",
       "      <th>Spectre</th>\n",
       "      <td>2015</td>\n",
       "      <td>6.8</td>\n",
       "      <td>85000</td>\n",
       "      <td>Sam Mendes</td>\n",
       "      <td>200074175</td>\n",
       "      <td>148</td>\n",
       "      <td>275868</td>\n",
       "      <td>Christoph Waltz</td>\n",
       "      <td>Rory Kinnear</td>\n",
       "      <td>Stephanie Sigman</td>\n",
       "      <td>11000</td>\n",
       "      <td>393</td>\n",
       "      <td>161</td>\n",
       "      <td>Action|Adventure|Thriller</td>\n",
       "    </tr>\n",
       "    <tr>\n",
       "      <th>The Dark Knight Rises</th>\n",
       "      <td>2012</td>\n",
       "      <td>8.5</td>\n",
       "      <td>164000</td>\n",
       "      <td>Christopher Nolan</td>\n",
       "      <td>448130642</td>\n",
       "      <td>164</td>\n",
       "      <td>1144337</td>\n",
       "      <td>Tom Hardy</td>\n",
       "      <td>Christian Bale</td>\n",
       "      <td>Joseph Gordon-Levitt</td>\n",
       "      <td>27000</td>\n",
       "      <td>23000</td>\n",
       "      <td>23000</td>\n",
       "      <td>Action|Thriller</td>\n",
       "    </tr>\n",
       "    <tr>\n",
       "      <th>John Carter</th>\n",
       "      <td>2012</td>\n",
       "      <td>6.6</td>\n",
       "      <td>24000</td>\n",
       "      <td>Andrew Stanton</td>\n",
       "      <td>73058679</td>\n",
       "      <td>132</td>\n",
       "      <td>212204</td>\n",
       "      <td>Daryl Sabara</td>\n",
       "      <td>Samantha Morton</td>\n",
       "      <td>Polly Walker</td>\n",
       "      <td>640</td>\n",
       "      <td>632</td>\n",
       "      <td>530</td>\n",
       "      <td>Action|Adventure|Sci-Fi</td>\n",
       "    </tr>\n",
       "    <tr>\n",
       "      <th>Spider-Man 3</th>\n",
       "      <td>2007</td>\n",
       "      <td>6.2</td>\n",
       "      <td>0</td>\n",
       "      <td>Sam Raimi</td>\n",
       "      <td>336530303</td>\n",
       "      <td>156</td>\n",
       "      <td>383056</td>\n",
       "      <td>J.K. Simmons</td>\n",
       "      <td>James Franco</td>\n",
       "      <td>Kirsten Dunst</td>\n",
       "      <td>24000</td>\n",
       "      <td>11000</td>\n",
       "      <td>4000</td>\n",
       "      <td>Action|Adventure|Romance</td>\n",
       "    </tr>\n",
       "    <tr>\n",
       "      <th>Tangled</th>\n",
       "      <td>2010</td>\n",
       "      <td>7.8</td>\n",
       "      <td>29000</td>\n",
       "      <td>Nathan Greno</td>\n",
       "      <td>200807262</td>\n",
       "      <td>100</td>\n",
       "      <td>294810</td>\n",
       "      <td>Brad Garrett</td>\n",
       "      <td>Donna Murphy</td>\n",
       "      <td>M.C. Gainey</td>\n",
       "      <td>799</td>\n",
       "      <td>553</td>\n",
       "      <td>284</td>\n",
       "      <td>Adventure|Animation|Comedy|Family|Fantasy|Musi...</td>\n",
       "    </tr>\n",
       "    <tr>\n",
       "      <th>Avengers: Age of Ultron</th>\n",
       "      <td>2015</td>\n",
       "      <td>7.5</td>\n",
       "      <td>118000</td>\n",
       "      <td>Joss Whedon</td>\n",
       "      <td>458991599</td>\n",
       "      <td>141</td>\n",
       "      <td>462669</td>\n",
       "      <td>Chris Hemsworth</td>\n",
       "      <td>Robert Downey Jr.</td>\n",
       "      <td>Scarlett Johansson</td>\n",
       "      <td>26000</td>\n",
       "      <td>21000</td>\n",
       "      <td>19000</td>\n",
       "      <td>Action|Adventure|Sci-Fi</td>\n",
       "    </tr>\n",
       "    <tr>\n",
       "      <th>Harry Potter and the Half-Blood Prince</th>\n",
       "      <td>2009</td>\n",
       "      <td>7.5</td>\n",
       "      <td>10000</td>\n",
       "      <td>David Yates</td>\n",
       "      <td>301956980</td>\n",
       "      <td>153</td>\n",
       "      <td>321795</td>\n",
       "      <td>Alan Rickman</td>\n",
       "      <td>Daniel Radcliffe</td>\n",
       "      <td>Rupert Grint</td>\n",
       "      <td>25000</td>\n",
       "      <td>11000</td>\n",
       "      <td>10000</td>\n",
       "      <td>Adventure|Family|Fantasy|Mystery</td>\n",
       "    </tr>\n",
       "    <tr>\n",
       "      <th>Batman v Superman: Dawn of Justice</th>\n",
       "      <td>2016</td>\n",
       "      <td>6.9</td>\n",
       "      <td>197000</td>\n",
       "      <td>Zack Snyder</td>\n",
       "      <td>330249062</td>\n",
       "      <td>183</td>\n",
       "      <td>371639</td>\n",
       "      <td>Henry Cavill</td>\n",
       "      <td>Lauren Cohan</td>\n",
       "      <td>Alan D. Purwin</td>\n",
       "      <td>15000</td>\n",
       "      <td>4000</td>\n",
       "      <td>2000</td>\n",
       "      <td>Action|Adventure|Sci-Fi</td>\n",
       "    </tr>\n",
       "  </tbody>\n",
       "</table>\n",
       "</div>"
      ],
      "text/plain": [
       "                                           title_year  imdb_score  \\\n",
       "movie_title                                                         \n",
       "Avatar                                           2009         7.9   \n",
       "Pirates of the Caribbean: At World's End         2007         7.1   \n",
       "Spectre                                          2015         6.8   \n",
       "The Dark Knight Rises                            2012         8.5   \n",
       "John Carter                                      2012         6.6   \n",
       "Spider-Man 3                                     2007         6.2   \n",
       "Tangled                                          2010         7.8   \n",
       "Avengers: Age of Ultron                          2015         7.5   \n",
       "Harry Potter and the Half-Blood Prince           2009         7.5   \n",
       "Batman v Superman: Dawn of Justice               2016         6.9   \n",
       "\n",
       "                                           movie_facebook_likes  \\\n",
       "movie_title                                                       \n",
       "Avatar                                                    33000   \n",
       "Pirates of the Caribbean: At World's End                      0   \n",
       "Spectre                                                   85000   \n",
       "The Dark Knight Rises                                    164000   \n",
       "John Carter                                               24000   \n",
       "Spider-Man 3                                                  0   \n",
       "Tangled                                                   29000   \n",
       "Avengers: Age of Ultron                                  118000   \n",
       "Harry Potter and the Half-Blood Prince                    10000   \n",
       "Batman v Superman: Dawn of Justice                       197000   \n",
       "\n",
       "                                               director_name      gross  \\\n",
       "movie_title                                                               \n",
       "Avatar                                         James Cameron  760505847   \n",
       "Pirates of the Caribbean: At World's End      Gore Verbinski  309404152   \n",
       "Spectre                                           Sam Mendes  200074175   \n",
       "The Dark Knight Rises                      Christopher Nolan  448130642   \n",
       "John Carter                                   Andrew Stanton   73058679   \n",
       "Spider-Man 3                                       Sam Raimi  336530303   \n",
       "Tangled                                         Nathan Greno  200807262   \n",
       "Avengers: Age of Ultron                          Joss Whedon  458991599   \n",
       "Harry Potter and the Half-Blood Prince           David Yates  301956980   \n",
       "Batman v Superman: Dawn of Justice               Zack Snyder  330249062   \n",
       "\n",
       "                                           duration  num_voted_users  \\\n",
       "movie_title                                                            \n",
       "Avatar                                          178           886204   \n",
       "Pirates of the Caribbean: At World's End        169           471220   \n",
       "Spectre                                         148           275868   \n",
       "The Dark Knight Rises                           164          1144337   \n",
       "John Carter                                     132           212204   \n",
       "Spider-Man 3                                    156           383056   \n",
       "Tangled                                         100           294810   \n",
       "Avengers: Age of Ultron                         141           462669   \n",
       "Harry Potter and the Half-Blood Prince          153           321795   \n",
       "Batman v Superman: Dawn of Justice              183           371639   \n",
       "\n",
       "                                              actor_1_name       actor_2_name  \\\n",
       "movie_title                                                                     \n",
       "Avatar                                         CCH Pounder   Joel David Moore   \n",
       "Pirates of the Caribbean: At World's End       Johnny Depp      Orlando Bloom   \n",
       "Spectre                                    Christoph Waltz       Rory Kinnear   \n",
       "The Dark Knight Rises                            Tom Hardy     Christian Bale   \n",
       "John Carter                                   Daryl Sabara    Samantha Morton   \n",
       "Spider-Man 3                                  J.K. Simmons       James Franco   \n",
       "Tangled                                       Brad Garrett       Donna Murphy   \n",
       "Avengers: Age of Ultron                    Chris Hemsworth  Robert Downey Jr.   \n",
       "Harry Potter and the Half-Blood Prince        Alan Rickman   Daniel Radcliffe   \n",
       "Batman v Superman: Dawn of Justice            Henry Cavill       Lauren Cohan   \n",
       "\n",
       "                                                   actor_3_name  \\\n",
       "movie_title                                                       \n",
       "Avatar                                                Wes Studi   \n",
       "Pirates of the Caribbean: At World's End         Jack Davenport   \n",
       "Spectre                                        Stephanie Sigman   \n",
       "The Dark Knight Rises                      Joseph Gordon-Levitt   \n",
       "John Carter                                        Polly Walker   \n",
       "Spider-Man 3                                      Kirsten Dunst   \n",
       "Tangled                                             M.C. Gainey   \n",
       "Avengers: Age of Ultron                      Scarlett Johansson   \n",
       "Harry Potter and the Half-Blood Prince             Rupert Grint   \n",
       "Batman v Superman: Dawn of Justice               Alan D. Purwin   \n",
       "\n",
       "                                           actor_1_facebook_likes  \\\n",
       "movie_title                                                         \n",
       "Avatar                                                       1000   \n",
       "Pirates of the Caribbean: At World's End                    40000   \n",
       "Spectre                                                     11000   \n",
       "The Dark Knight Rises                                       27000   \n",
       "John Carter                                                   640   \n",
       "Spider-Man 3                                                24000   \n",
       "Tangled                                                       799   \n",
       "Avengers: Age of Ultron                                     26000   \n",
       "Harry Potter and the Half-Blood Prince                      25000   \n",
       "Batman v Superman: Dawn of Justice                          15000   \n",
       "\n",
       "                                           actor_2_facebook_likes  \\\n",
       "movie_title                                                         \n",
       "Avatar                                                        936   \n",
       "Pirates of the Caribbean: At World's End                     5000   \n",
       "Spectre                                                       393   \n",
       "The Dark Knight Rises                                       23000   \n",
       "John Carter                                                   632   \n",
       "Spider-Man 3                                                11000   \n",
       "Tangled                                                       553   \n",
       "Avengers: Age of Ultron                                     21000   \n",
       "Harry Potter and the Half-Blood Prince                      11000   \n",
       "Batman v Superman: Dawn of Justice                           4000   \n",
       "\n",
       "                                           actor_3_facebook_likes  \\\n",
       "movie_title                                                         \n",
       "Avatar                                                        855   \n",
       "Pirates of the Caribbean: At World's End                     1000   \n",
       "Spectre                                                       161   \n",
       "The Dark Knight Rises                                       23000   \n",
       "John Carter                                                   530   \n",
       "Spider-Man 3                                                 4000   \n",
       "Tangled                                                       284   \n",
       "Avengers: Age of Ultron                                     19000   \n",
       "Harry Potter and the Half-Blood Prince                      10000   \n",
       "Batman v Superman: Dawn of Justice                           2000   \n",
       "\n",
       "                                                                                      genres  \n",
       "movie_title                                                                                   \n",
       "Avatar                                                       Action|Adventure|Fantasy|Sci-Fi  \n",
       "Pirates of the Caribbean: At World's End                            Action|Adventure|Fantasy  \n",
       "Spectre                                                            Action|Adventure|Thriller  \n",
       "The Dark Knight Rises                                                        Action|Thriller  \n",
       "John Carter                                                          Action|Adventure|Sci-Fi  \n",
       "Spider-Man 3                                                        Action|Adventure|Romance  \n",
       "Tangled                                    Adventure|Animation|Comedy|Family|Fantasy|Musi...  \n",
       "Avengers: Age of Ultron                                              Action|Adventure|Sci-Fi  \n",
       "Harry Potter and the Half-Blood Prince                      Adventure|Family|Fantasy|Mystery  \n",
       "Batman v Superman: Dawn of Justice                                   Action|Adventure|Sci-Fi  "
      ]
     },
     "execution_count": 7,
     "metadata": {},
     "output_type": "execute_result"
    }
   ],
   "source": [
    "selection[['title_year', 'gross', 'duration', 'actor_1_facebook_likes', 'actor_2_facebook_likes', 'actor_3_facebook_likes']] = selection[['title_year', 'gross', 'duration', 'actor_1_facebook_likes', 'actor_2_facebook_likes', 'actor_3_facebook_likes']].fillna(value=0)\n",
    "selection = selection.astype({'title_year': int, 'gross': int, 'duration': int, 'actor_1_facebook_likes': int, 'actor_2_facebook_likes': int, 'actor_3_facebook_likes': int})\n",
    "selection.set_index('movie_title', inplace=True)\n",
    "selection.head(10)"
   ]
  },
  {
   "cell_type": "markdown",
   "metadata": {},
   "source": [
    "Door selection.dtypes te gebruiken kunnen we zien dat elke kolom nu in het gewenste formaat staat:"
   ]
  },
  {
   "cell_type": "markdown",
   "metadata": {},
   "source": [
    "# Wat is de invloed op populariteit van een film als er een populaire acteur wordt gecast?\n",
    "\n",
    "- bereken de populariteit van een acteur -> naam linken aan facebook-likes\n",
    "- bereken de populariteit van een film -> film linken aan imdb-score"
   ]
  },
  {
   "cell_type": "code",
   "execution_count": 8,
   "metadata": {},
   "outputs": [],
   "source": [
    "actor_1_name = selection['actor_1_name']\n",
    "actor_2_name = selection['actor_2_name']\n",
    "actor_3_name = selection['actor_3_name']\n",
    "\n",
    "actor_1_facebook_likes = selection['actor_1_facebook_likes']\n",
    "actor_2_facebook_likes = selection['actor_2_facebook_likes']\n",
    "actor_3_facebook_likes = selection['actor_3_facebook_likes']\n",
    "\n",
    "movie_title = selection.index.values.tolist()\n",
    "imdb_score = selection['imdb_score']"
   ]
  },
  {
   "cell_type": "code",
   "execution_count": 9,
   "metadata": {},
   "outputs": [
    {
     "data": {
      "text/plain": [
       "(array([-100000.,       0.,  100000.,  200000.,  300000.,  400000.,\n",
       "         500000.,  600000.,  700000.]), <a list of 9 Text xticklabel objects>)"
      ]
     },
     "execution_count": 9,
     "metadata": {},
     "output_type": "execute_result"
    },
    {
     "data": {
      "image/png": "[encoded data removed]",
      "text/plain": [
       "<Figure size 432x288 with 1 Axes>"
      ]
     },
     "metadata": {
      "needs_background": "light"
     },
     "output_type": "display_data"
    }
   ],
   "source": [
    "# plt.figure(figsize=(20, 10), dpi=100)\n",
    "plt.scatter(actor_1_facebook_likes,imdb_score)\n",
    "plt.xticks(rotation=90)"
   ]
  },
  {
   "cell_type": "markdown",
   "metadata": {},
   "source": [
    "Wat er duidelijk naar voren komt in het grafiek hierboven is dat er wel degelijk een correlatie is tussen imdb_score van een film en de populariteit van een acteur gemeten met facebook likes. \n",
    "Echter zijn er ook  gevallen waarin de facebook likes niet veel over de film zelf vertelt. In het voorbeeld hierboven speelt de acteur met de meeste likes niet in een film die het best heeft gescoord op imdb."
   ]
  },
  {
   "cell_type": "code",
   "execution_count": 16,
   "metadata": {},
   "outputs": [],
   "source": [
    "# import plotly.express as px\n",
    "# iris = px.data.iris()\n",
    "# fig = px.scatter_3d(iris, x='sepal_length', y='sepal_width', z='petal_width',\n",
    "#               color='species')\n",
    "# fig.show()"
   ]
  },
  {
   "cell_type": "code",
   "execution_count": 10,
   "metadata": {},
   "outputs": [],
   "source": [
    "from sklearn.model_selection import train_test_split"
   ]
  },
  {
   "cell_type": "code",
   "execution_count": 11,
   "metadata": {},
   "outputs": [],
   "source": [
    "X_train, X_test, y_train, y_test = train_test_split(actor_1_facebook_likes, imdb_score, test_size = 0.2, random_state = 0)\n",
    "X_train = X_train.values.reshape(-1,1)\n",
    "X_test = X_test.values.reshape(-1,1)\n",
    "y_train = y_train.values.reshape(-1,1)\n",
    "y_test = y_test.values.reshape(-1,1)"
   ]
  },
  {
   "cell_type": "code",
   "execution_count": 12,
   "metadata": {},
   "outputs": [
    {
     "name": "stdout",
     "output_type": "stream",
     "text": [
      "(3890, 1) (3890, 1)\n",
      "(973, 1) (973, 1)\n"
     ]
    }
   ],
   "source": [
    "print(X_train.shape,y_train.shape)\n",
    "print(X_test.shape,y_test.shape)"
   ]
  },
  {
   "cell_type": "code",
   "execution_count": 13,
   "metadata": {},
   "outputs": [],
   "source": [
    "from sklearn.linear_model import LinearRegression\n",
    "lr = LinearRegression()\n",
    "\n",
    "model = lr.fit(X_train,y_train)\n",
    "predictions = lr.predict(X_test)"
   ]
  },
  {
   "cell_type": "markdown",
   "metadata": {},
   "source": [
    "fit functie gebruiken op de train_set om de test_set te voorspellen"
   ]
  },
  {
   "cell_type": "code",
   "execution_count": 14,
   "metadata": {},
   "outputs": [
    {
     "data": {
      "text/plain": [
       "array([[6.48406123],\n",
       "       [6.39517825],\n",
       "       [6.37644616],\n",
       "       [6.37414632],\n",
       "       [6.48961641]])"
      ]
     },
     "execution_count": 14,
     "metadata": {},
     "output_type": "execute_result"
    }
   ],
   "source": [
    "predictions[0:5]"
   ]
  },
  {
   "cell_type": "markdown",
   "metadata": {},
   "source": []
  },
  {
   "cell_type": "code",
   "execution_count": 36,
   "metadata": {},
   "outputs": [
    {
     "data": {
      "text/plain": [
       "<matplotlib.collections.PathCollection at 0x11f5be9e8>"
      ]
     },
     "execution_count": 36,
     "metadata": {},
     "output_type": "execute_result"
    },
    {
     "data": {
      "image/png": "[encoded data removed]",
      "text/plain": [
       "<Figure size 432x288 with 1 Axes>"
      ]
     },
     "metadata": {
      "needs_background": "light"
     },
     "output_type": "display_data"
    }
   ],
   "source": [
    "plt.scatter(y_test,predictions)\n",
    "# x true values en y predictions"
   ]
  },
  {
   "cell_type": "code",
   "execution_count": 37,
   "metadata": {},
   "outputs": [],
   "source": [
    "lr_score = model.score(X_test,y_test) * 100"
   ]
  },
  {
   "cell_type": "code",
   "execution_count": 38,
   "metadata": {},
   "outputs": [
    {
     "data": {
      "text/plain": [
       "0.9596415643765122"
      ]
     },
     "execution_count": 38,
     "metadata": {},
     "output_type": "execute_result"
    }
   ],
   "source": [
    "lr_score"
   ]
  },
  {
   "cell_type": "code",
   "execution_count": 39,
   "metadata": {},
   "outputs": [],
   "source": [
    "# Gaussian Naive Bayes\n",
    "from sklearn.naive_bayes import GaussianNB\n",
    "from sklearn.metrics import accuracy_score"
   ]
  },
  {
   "cell_type": "markdown",
   "metadata": {},
   "source": [
    "Voor het Gaussian algoritme moeten we de float-waarden in de 2D-array converten naar int-waarden"
   ]
  },
  {
   "cell_type": "code",
   "execution_count": 40,
   "metadata": {},
   "outputs": [],
   "source": [
    "y_train2 = y_train.astype(int)\n",
    "y_test2 = y_test.astype(int)\n",
    "\n",
    "gs = GaussianNB()\n",
    "model_gs = gs.fit(X_train,y_train2)\n",
    "predictions_gs = gs.predict(X_test)\n",
    "\n",
    "gs_score = model_gs.score(X_test,y_test2) * 100"
   ]
  },
  {
   "cell_type": "code",
   "execution_count": 41,
   "metadata": {},
   "outputs": [
    {
     "data": {
      "text/plain": [
       "34.42959917780062"
      ]
     },
     "execution_count": 41,
     "metadata": {},
     "output_type": "execute_result"
    }
   ],
   "source": [
    "gs_score"
   ]
  },
  {
   "cell_type": "code",
   "execution_count": 42,
   "metadata": {},
   "outputs": [
    {
     "data": {
      "text/plain": [
       "<matplotlib.collections.PathCollection at 0x11f6b4b38>"
      ]
     },
     "execution_count": 42,
     "metadata": {},
     "output_type": "execute_result"
    },
    {
     "data": {
      "image/png": "[encoded data removed]",
      "text/plain": [
       "<Figure size 432x288 with 1 Axes>"
      ]
     },
     "metadata": {
      "needs_background": "light"
     },
     "output_type": "display_data"
    }
   ],
   "source": [
    "plt.scatter(y_test2,predictions_gs) # hier nog even verder naar kijken; wat betekent het"
   ]
  },
  {
   "cell_type": "code",
   "execution_count": 43,
   "metadata": {},
   "outputs": [],
   "source": [
    "from sklearn.svm import SVC\n",
    "\n",
    "svc = SVC()\n",
    "model_svc = svc.fit(X_train, y_train2)\n",
    "predictions_svc = svc.predict(X_test)\n",
    "\n",
    "svc_score = model_svc.score(X_test,y_test2) * 100"
   ]
  },
  {
   "cell_type": "code",
   "execution_count": 44,
   "metadata": {},
   "outputs": [
    {
     "data": {
      "text/plain": [
       "34.943473792394656"
      ]
     },
     "execution_count": 44,
     "metadata": {},
     "output_type": "execute_result"
    }
   ],
   "source": [
    "svc_score"
   ]
  },
  {
   "cell_type": "code",
   "execution_count": 45,
   "metadata": {},
   "outputs": [],
   "source": [
    "from sklearn.tree import DecisionTreeClassifier"
   ]
  },
  {
   "cell_type": "code",
   "execution_count": 46,
   "metadata": {},
   "outputs": [],
   "source": [
    "dt = DecisionTreeClassifier()\n",
    "model_dt = dt.fit(X_train, y_train2)\n",
    "predictions_dt = dt.predict(X_test)\n",
    "\n",
    "dt_score = model_dt.score(X_test,y_test2) * 100"
   ]
  },
  {
   "cell_type": "code",
   "execution_count": 47,
   "metadata": {},
   "outputs": [
    {
     "data": {
      "text/plain": [
       "31.96300102774923"
      ]
     },
     "execution_count": 47,
     "metadata": {},
     "output_type": "execute_result"
    }
   ],
   "source": [
    "dt_score"
   ]
  },
  {
   "cell_type": "code",
   "execution_count": 48,
   "metadata": {},
   "outputs": [],
   "source": [
    "from sklearn.neighbors import KNeighborsClassifier"
   ]
  },
  {
   "cell_type": "code",
   "execution_count": 49,
   "metadata": {},
   "outputs": [],
   "source": [
    "knn = KNeighborsClassifier()\n",
    "model_knn = knn.fit(X_train, y_train2)\n",
    "predictions_knn = knn.predict(X_test)\n",
    "\n",
    "knn_score = model_knn.score(X_test,y_test2) * 100"
   ]
  },
  {
   "cell_type": "code",
   "execution_count": 50,
   "metadata": {},
   "outputs": [
    {
     "data": {
      "text/plain": [
       "31.551901336073996"
      ]
     },
     "execution_count": 50,
     "metadata": {},
     "output_type": "execute_result"
    }
   ],
   "source": [
    "knn_score"
   ]
  },
  {
   "cell_type": "code",
   "execution_count": 51,
   "metadata": {},
   "outputs": [],
   "source": [
    "from sklearn.linear_model import Perceptron"
   ]
  },
  {
   "cell_type": "code",
   "execution_count": 52,
   "metadata": {},
   "outputs": [],
   "source": [
    "perceptron = Perceptron()\n",
    "model_perceptron = perceptron.fit(X_train, y_train2)\n",
    "predictions_perceptron = perceptron.predict(X_test)\n",
    "\n",
    "perceptron_score = model_perceptron.score(X_test,y_test2) * 100"
   ]
  },
  {
   "cell_type": "code",
   "execution_count": 53,
   "metadata": {},
   "outputs": [
    {
     "data": {
      "text/plain": [
       "6.3720452209660845"
      ]
     },
     "execution_count": 53,
     "metadata": {},
     "output_type": "execute_result"
    }
   ],
   "source": [
    "perceptron_score"
   ]
  },
  {
   "cell_type": "code",
   "execution_count": 55,
   "metadata": {},
   "outputs": [],
   "source": [
    "from sklearn.ensemble import RandomForestClassifier"
   ]
  },
  {
   "cell_type": "code",
   "execution_count": 56,
   "metadata": {},
   "outputs": [],
   "source": [
    "randomforest = RandomForestClassifier()\n",
    "model_randomforest = randomforest.fit(X_train, y_train2)\n",
    "predictions_randomforest = randomforest.predict(X_test)\n",
    "\n",
    "randomforest_score = model_randomforest.score(X_test,y_test2) * 100"
   ]
  },
  {
   "cell_type": "code",
   "execution_count": 57,
   "metadata": {},
   "outputs": [
    {
     "data": {
      "text/plain": [
       "33.19630010277492"
      ]
     },
     "execution_count": 57,
     "metadata": {},
     "output_type": "execute_result"
    }
   ],
   "source": [
    "randomforest_score"
   ]
  },
  {
   "cell_type": "code",
   "execution_count": 58,
   "metadata": {},
   "outputs": [],
   "source": [
    "from sklearn.linear_model import SGDClassifier"
   ]
  },
  {
   "cell_type": "code",
   "execution_count": 59,
   "metadata": {},
   "outputs": [],
   "source": [
    "sgd = SGDClassifier()\n",
    "model_sgd = sgd.fit(X_train, y_train2)\n",
    "predictions_sgd = sgd.predict(X_test)\n",
    "\n",
    "sgd_score = model_sgd.score(X_test, y_test2) * 100"
   ]
  },
  {
   "cell_type": "code",
   "execution_count": 60,
   "metadata": {},
   "outputs": [
    {
     "data": {
      "text/plain": [
       "34.943473792394656"
      ]
     },
     "execution_count": 60,
     "metadata": {},
     "output_type": "execute_result"
    }
   ],
   "source": [
    "sgd_score"
   ]
  },
  {
   "cell_type": "code",
   "execution_count": 61,
   "metadata": {},
   "outputs": [],
   "source": [
    "from sklearn.ensemble import GradientBoostingClassifier"
   ]
  },
  {
   "cell_type": "code",
   "execution_count": 62,
   "metadata": {},
   "outputs": [],
   "source": [
    "gbk = GradientBoostingClassifier()\n",
    "\n",
    "model_gbk = gbk.fit(X_train, y_train2)\n",
    "predictions_gbk = gbk.predict(X_test)\n",
    "\n",
    "gbk_score = model_gbk.score(X_test, y_test2) * 100"
   ]
  },
  {
   "cell_type": "code",
   "execution_count": 63,
   "metadata": {},
   "outputs": [
    {
     "data": {
      "text/plain": [
       "34.224049331963"
      ]
     },
     "execution_count": 63,
     "metadata": {},
     "output_type": "execute_result"
    }
   ],
   "source": [
    "gbk_score"
   ]
  },
  {
   "cell_type": "code",
   "execution_count": 64,
   "metadata": {},
   "outputs": [
    {
     "data": {
      "text/html": [
       "<div>\n",
       "<style scoped>\n",
       "    .dataframe tbody tr th:only-of-type {\n",
       "        vertical-align: middle;\n",
       "    }\n",
       "\n",
       "    .dataframe tbody tr th {\n",
       "        vertical-align: top;\n",
       "    }\n",
       "\n",
       "    .dataframe thead th {\n",
       "        text-align: right;\n",
       "    }\n",
       "</style>\n",
       "<table border=\"1\" class=\"dataframe\">\n",
       "  <thead>\n",
       "    <tr style=\"text-align: right;\">\n",
       "      <th></th>\n",
       "      <th>Model</th>\n",
       "      <th>Score</th>\n",
       "    </tr>\n",
       "  </thead>\n",
       "  <tbody>\n",
       "    <tr>\n",
       "      <th>2</th>\n",
       "      <td>SVC</td>\n",
       "      <td>34.943474</td>\n",
       "    </tr>\n",
       "    <tr>\n",
       "      <th>6</th>\n",
       "      <td>SGDClassifier</td>\n",
       "      <td>34.943474</td>\n",
       "    </tr>\n",
       "    <tr>\n",
       "      <th>1</th>\n",
       "      <td>Gaussian</td>\n",
       "      <td>34.429599</td>\n",
       "    </tr>\n",
       "    <tr>\n",
       "      <th>7</th>\n",
       "      <td>GradientBoostingClassifier</td>\n",
       "      <td>34.224049</td>\n",
       "    </tr>\n",
       "    <tr>\n",
       "      <th>3</th>\n",
       "      <td>Decision Tree</td>\n",
       "      <td>31.963001</td>\n",
       "    </tr>\n",
       "    <tr>\n",
       "      <th>4</th>\n",
       "      <td>Kneighbors</td>\n",
       "      <td>31.551901</td>\n",
       "    </tr>\n",
       "    <tr>\n",
       "      <th>5</th>\n",
       "      <td>Perceptron</td>\n",
       "      <td>6.372045</td>\n",
       "    </tr>\n",
       "    <tr>\n",
       "      <th>0</th>\n",
       "      <td>Logistic Regression</td>\n",
       "      <td>0.959642</td>\n",
       "    </tr>\n",
       "  </tbody>\n",
       "</table>\n",
       "</div>"
      ],
      "text/plain": [
       "                        Model      Score\n",
       "2                         SVC  34.943474\n",
       "6               SGDClassifier  34.943474\n",
       "1                    Gaussian  34.429599\n",
       "7  GradientBoostingClassifier  34.224049\n",
       "3               Decision Tree  31.963001\n",
       "4                  Kneighbors  31.551901\n",
       "5                  Perceptron   6.372045\n",
       "0         Logistic Regression   0.959642"
      ]
     },
     "execution_count": 64,
     "metadata": {},
     "output_type": "execute_result"
    }
   ],
   "source": [
    "vergelijking = pd.DataFrame({'Model':['Logistic Regression','Gaussian','SVC','Decision Tree','Kneighbors','Perceptron','SGDClassifier','GradientBoostingClassifier'],'Score': [lr_score,gs_score,svc_score,dt_score,knn_score,perceptron_score,sgd_score,gbk_score]})\n",
    "vergelijking.sort_values(by='Score',ascending=False)"
   ]
  },
  {
   "cell_type": "code",
   "execution_count": 72,
   "metadata": {},
   "outputs": [
    {
     "name": "stdout",
     "output_type": "stream",
     "text": [
      "0\n"
     ]
    }
   ],
   "source": [
    "num_voted_users = selection[selection['num_voted_users'] == 0]\n",
    "print(len(num_voted_users)) "
   ]
  },
  {
   "cell_type": "code",
   "execution_count": null,
   "metadata": {},
   "outputs": [],
   "source": []
  }
 ],
 "metadata": {
  "kernelspec": {
   "display_name": "Python 3",
   "language": "python",
   "name": "python3"
  },
  "language_info": {
   "codemirror_mode": {
    "name": "ipython",
    "version": 3
   },
   "file_extension": ".py",
   "mimetype": "text/x-python",
   "name": "python",
   "nbconvert_exporter": "python",
   "pygments_lexer": "ipython3",
   "version": "3.7.0"
  }
 },
 "nbformat": 4,
 "nbformat_minor": 2
}
