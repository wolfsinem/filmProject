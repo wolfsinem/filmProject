{
 "cells": [
  {
   "cell_type": "code",
   "execution_count": 1,
   "metadata": {},
   "outputs": [],
   "source": [
    "# import necessary libraries\n",
    "import pandas as pd\n",
    "import numpy as np\n",
    "import pandas_profiling\n",
    "from pylab import *\n",
    "\n",
    "import matplotlib.pyplot as plt\n",
    "import seaborn as sns\n",
    "%matplotlib inline\n",
    "\n",
    "import warnings\n",
    "warnings.filterwarnings('ignore')"
   ]
  },
  {
   "cell_type": "code",
   "execution_count": 2,
   "metadata": {},
   "outputs": [
    {
     "data": {
      "text/html": [
       "<div>\n",
       "<style scoped>\n",
       "    .dataframe tbody tr th:only-of-type {\n",
       "        vertical-align: middle;\n",
       "    }\n",
       "\n",
       "    .dataframe tbody tr th {\n",
       "        vertical-align: top;\n",
       "    }\n",
       "\n",
       "    .dataframe thead th {\n",
       "        text-align: right;\n",
       "    }\n",
       "</style>\n",
       "<table border=\"1\" class=\"dataframe\">\n",
       "  <thead>\n",
       "    <tr style=\"text-align: right;\">\n",
       "      <th></th>\n",
       "      <th>color</th>\n",
       "      <th>director_name</th>\n",
       "      <th>num_critic_for_reviews</th>\n",
       "      <th>duration</th>\n",
       "      <th>director_facebook_likes</th>\n",
       "      <th>actor_3_facebook_likes</th>\n",
       "      <th>actor_2_name</th>\n",
       "      <th>actor_1_facebook_likes</th>\n",
       "      <th>gross</th>\n",
       "      <th>genres</th>\n",
       "      <th>...</th>\n",
       "      <th>num_user_for_reviews</th>\n",
       "      <th>language</th>\n",
       "      <th>country</th>\n",
       "      <th>content_rating</th>\n",
       "      <th>budget</th>\n",
       "      <th>title_year</th>\n",
       "      <th>actor_2_facebook_likes</th>\n",
       "      <th>imdb_score</th>\n",
       "      <th>aspect_ratio</th>\n",
       "      <th>movie_facebook_likes</th>\n",
       "    </tr>\n",
       "  </thead>\n",
       "  <tbody>\n",
       "    <tr>\n",
       "      <th>count</th>\n",
       "      <td>5024</td>\n",
       "      <td>4939</td>\n",
       "      <td>4993.000000</td>\n",
       "      <td>5028.000000</td>\n",
       "      <td>4939.000000</td>\n",
       "      <td>5020.000000</td>\n",
       "      <td>5030</td>\n",
       "      <td>5036.000000</td>\n",
       "      <td>4.159000e+03</td>\n",
       "      <td>5043</td>\n",
       "      <td>...</td>\n",
       "      <td>5022.000000</td>\n",
       "      <td>5031</td>\n",
       "      <td>5038</td>\n",
       "      <td>4740</td>\n",
       "      <td>4.551000e+03</td>\n",
       "      <td>4935.000000</td>\n",
       "      <td>5030.000000</td>\n",
       "      <td>5043.000000</td>\n",
       "      <td>4714.000000</td>\n",
       "      <td>5043.000000</td>\n",
       "    </tr>\n",
       "    <tr>\n",
       "      <th>unique</th>\n",
       "      <td>2</td>\n",
       "      <td>2398</td>\n",
       "      <td>NaN</td>\n",
       "      <td>NaN</td>\n",
       "      <td>NaN</td>\n",
       "      <td>NaN</td>\n",
       "      <td>3032</td>\n",
       "      <td>NaN</td>\n",
       "      <td>NaN</td>\n",
       "      <td>914</td>\n",
       "      <td>...</td>\n",
       "      <td>NaN</td>\n",
       "      <td>47</td>\n",
       "      <td>65</td>\n",
       "      <td>18</td>\n",
       "      <td>NaN</td>\n",
       "      <td>NaN</td>\n",
       "      <td>NaN</td>\n",
       "      <td>NaN</td>\n",
       "      <td>NaN</td>\n",
       "      <td>NaN</td>\n",
       "    </tr>\n",
       "    <tr>\n",
       "      <th>top</th>\n",
       "      <td>Color</td>\n",
       "      <td>Steven Spielberg</td>\n",
       "      <td>NaN</td>\n",
       "      <td>NaN</td>\n",
       "      <td>NaN</td>\n",
       "      <td>NaN</td>\n",
       "      <td>Morgan Freeman</td>\n",
       "      <td>NaN</td>\n",
       "      <td>NaN</td>\n",
       "      <td>Drama</td>\n",
       "      <td>...</td>\n",
       "      <td>NaN</td>\n",
       "      <td>English</td>\n",
       "      <td>USA</td>\n",
       "      <td>R</td>\n",
       "      <td>NaN</td>\n",
       "      <td>NaN</td>\n",
       "      <td>NaN</td>\n",
       "      <td>NaN</td>\n",
       "      <td>NaN</td>\n",
       "      <td>NaN</td>\n",
       "    </tr>\n",
       "    <tr>\n",
       "      <th>freq</th>\n",
       "      <td>4815</td>\n",
       "      <td>26</td>\n",
       "      <td>NaN</td>\n",
       "      <td>NaN</td>\n",
       "      <td>NaN</td>\n",
       "      <td>NaN</td>\n",
       "      <td>20</td>\n",
       "      <td>NaN</td>\n",
       "      <td>NaN</td>\n",
       "      <td>236</td>\n",
       "      <td>...</td>\n",
       "      <td>NaN</td>\n",
       "      <td>4704</td>\n",
       "      <td>3807</td>\n",
       "      <td>2118</td>\n",
       "      <td>NaN</td>\n",
       "      <td>NaN</td>\n",
       "      <td>NaN</td>\n",
       "      <td>NaN</td>\n",
       "      <td>NaN</td>\n",
       "      <td>NaN</td>\n",
       "    </tr>\n",
       "    <tr>\n",
       "      <th>mean</th>\n",
       "      <td>NaN</td>\n",
       "      <td>NaN</td>\n",
       "      <td>140.194272</td>\n",
       "      <td>107.201074</td>\n",
       "      <td>686.509212</td>\n",
       "      <td>645.009761</td>\n",
       "      <td>NaN</td>\n",
       "      <td>6560.047061</td>\n",
       "      <td>4.846841e+07</td>\n",
       "      <td>NaN</td>\n",
       "      <td>...</td>\n",
       "      <td>272.770808</td>\n",
       "      <td>NaN</td>\n",
       "      <td>NaN</td>\n",
       "      <td>NaN</td>\n",
       "      <td>3.975262e+07</td>\n",
       "      <td>2002.470517</td>\n",
       "      <td>1651.754473</td>\n",
       "      <td>6.442138</td>\n",
       "      <td>2.220403</td>\n",
       "      <td>7525.964505</td>\n",
       "    </tr>\n",
       "    <tr>\n",
       "      <th>std</th>\n",
       "      <td>NaN</td>\n",
       "      <td>NaN</td>\n",
       "      <td>121.601675</td>\n",
       "      <td>25.197441</td>\n",
       "      <td>2813.328607</td>\n",
       "      <td>1665.041728</td>\n",
       "      <td>NaN</td>\n",
       "      <td>15020.759120</td>\n",
       "      <td>6.845299e+07</td>\n",
       "      <td>NaN</td>\n",
       "      <td>...</td>\n",
       "      <td>377.982886</td>\n",
       "      <td>NaN</td>\n",
       "      <td>NaN</td>\n",
       "      <td>NaN</td>\n",
       "      <td>2.061149e+08</td>\n",
       "      <td>12.474599</td>\n",
       "      <td>4042.438863</td>\n",
       "      <td>1.125116</td>\n",
       "      <td>1.385113</td>\n",
       "      <td>19320.445110</td>\n",
       "    </tr>\n",
       "    <tr>\n",
       "      <th>min</th>\n",
       "      <td>NaN</td>\n",
       "      <td>NaN</td>\n",
       "      <td>1.000000</td>\n",
       "      <td>7.000000</td>\n",
       "      <td>0.000000</td>\n",
       "      <td>0.000000</td>\n",
       "      <td>NaN</td>\n",
       "      <td>0.000000</td>\n",
       "      <td>1.620000e+02</td>\n",
       "      <td>NaN</td>\n",
       "      <td>...</td>\n",
       "      <td>1.000000</td>\n",
       "      <td>NaN</td>\n",
       "      <td>NaN</td>\n",
       "      <td>NaN</td>\n",
       "      <td>2.180000e+02</td>\n",
       "      <td>1916.000000</td>\n",
       "      <td>0.000000</td>\n",
       "      <td>1.600000</td>\n",
       "      <td>1.180000</td>\n",
       "      <td>0.000000</td>\n",
       "    </tr>\n",
       "    <tr>\n",
       "      <th>25%</th>\n",
       "      <td>NaN</td>\n",
       "      <td>NaN</td>\n",
       "      <td>50.000000</td>\n",
       "      <td>93.000000</td>\n",
       "      <td>7.000000</td>\n",
       "      <td>133.000000</td>\n",
       "      <td>NaN</td>\n",
       "      <td>614.000000</td>\n",
       "      <td>5.340988e+06</td>\n",
       "      <td>NaN</td>\n",
       "      <td>...</td>\n",
       "      <td>65.000000</td>\n",
       "      <td>NaN</td>\n",
       "      <td>NaN</td>\n",
       "      <td>NaN</td>\n",
       "      <td>6.000000e+06</td>\n",
       "      <td>1999.000000</td>\n",
       "      <td>281.000000</td>\n",
       "      <td>5.800000</td>\n",
       "      <td>1.850000</td>\n",
       "      <td>0.000000</td>\n",
       "    </tr>\n",
       "    <tr>\n",
       "      <th>50%</th>\n",
       "      <td>NaN</td>\n",
       "      <td>NaN</td>\n",
       "      <td>110.000000</td>\n",
       "      <td>103.000000</td>\n",
       "      <td>49.000000</td>\n",
       "      <td>371.500000</td>\n",
       "      <td>NaN</td>\n",
       "      <td>988.000000</td>\n",
       "      <td>2.551750e+07</td>\n",
       "      <td>NaN</td>\n",
       "      <td>...</td>\n",
       "      <td>156.000000</td>\n",
       "      <td>NaN</td>\n",
       "      <td>NaN</td>\n",
       "      <td>NaN</td>\n",
       "      <td>2.000000e+07</td>\n",
       "      <td>2005.000000</td>\n",
       "      <td>595.000000</td>\n",
       "      <td>6.600000</td>\n",
       "      <td>2.350000</td>\n",
       "      <td>166.000000</td>\n",
       "    </tr>\n",
       "    <tr>\n",
       "      <th>75%</th>\n",
       "      <td>NaN</td>\n",
       "      <td>NaN</td>\n",
       "      <td>195.000000</td>\n",
       "      <td>118.000000</td>\n",
       "      <td>194.500000</td>\n",
       "      <td>636.000000</td>\n",
       "      <td>NaN</td>\n",
       "      <td>11000.000000</td>\n",
       "      <td>6.230944e+07</td>\n",
       "      <td>NaN</td>\n",
       "      <td>...</td>\n",
       "      <td>326.000000</td>\n",
       "      <td>NaN</td>\n",
       "      <td>NaN</td>\n",
       "      <td>NaN</td>\n",
       "      <td>4.500000e+07</td>\n",
       "      <td>2011.000000</td>\n",
       "      <td>918.000000</td>\n",
       "      <td>7.200000</td>\n",
       "      <td>2.350000</td>\n",
       "      <td>3000.000000</td>\n",
       "    </tr>\n",
       "    <tr>\n",
       "      <th>max</th>\n",
       "      <td>NaN</td>\n",
       "      <td>NaN</td>\n",
       "      <td>813.000000</td>\n",
       "      <td>511.000000</td>\n",
       "      <td>23000.000000</td>\n",
       "      <td>23000.000000</td>\n",
       "      <td>NaN</td>\n",
       "      <td>640000.000000</td>\n",
       "      <td>7.605058e+08</td>\n",
       "      <td>NaN</td>\n",
       "      <td>...</td>\n",
       "      <td>5060.000000</td>\n",
       "      <td>NaN</td>\n",
       "      <td>NaN</td>\n",
       "      <td>NaN</td>\n",
       "      <td>1.221550e+10</td>\n",
       "      <td>2016.000000</td>\n",
       "      <td>137000.000000</td>\n",
       "      <td>9.500000</td>\n",
       "      <td>16.000000</td>\n",
       "      <td>349000.000000</td>\n",
       "    </tr>\n",
       "  </tbody>\n",
       "</table>\n",
       "<p>11 rows × 28 columns</p>\n",
       "</div>"
      ],
      "text/plain": [
       "        color     director_name  num_critic_for_reviews     duration  \\\n",
       "count    5024              4939             4993.000000  5028.000000   \n",
       "unique      2              2398                     NaN          NaN   \n",
       "top     Color  Steven Spielberg                     NaN          NaN   \n",
       "freq     4815                26                     NaN          NaN   \n",
       "mean      NaN               NaN              140.194272   107.201074   \n",
       "std       NaN               NaN              121.601675    25.197441   \n",
       "min       NaN               NaN                1.000000     7.000000   \n",
       "25%       NaN               NaN               50.000000    93.000000   \n",
       "50%       NaN               NaN              110.000000   103.000000   \n",
       "75%       NaN               NaN              195.000000   118.000000   \n",
       "max       NaN               NaN              813.000000   511.000000   \n",
       "\n",
       "        director_facebook_likes  actor_3_facebook_likes    actor_2_name  \\\n",
       "count               4939.000000             5020.000000            5030   \n",
       "unique                      NaN                     NaN            3032   \n",
       "top                         NaN                     NaN  Morgan Freeman   \n",
       "freq                        NaN                     NaN              20   \n",
       "mean                 686.509212              645.009761             NaN   \n",
       "std                 2813.328607             1665.041728             NaN   \n",
       "min                    0.000000                0.000000             NaN   \n",
       "25%                    7.000000              133.000000             NaN   \n",
       "50%                   49.000000              371.500000             NaN   \n",
       "75%                  194.500000              636.000000             NaN   \n",
       "max                23000.000000            23000.000000             NaN   \n",
       "\n",
       "        actor_1_facebook_likes         gross genres  ... num_user_for_reviews  \\\n",
       "count              5036.000000  4.159000e+03   5043  ...          5022.000000   \n",
       "unique                     NaN           NaN    914  ...                  NaN   \n",
       "top                        NaN           NaN  Drama  ...                  NaN   \n",
       "freq                       NaN           NaN    236  ...                  NaN   \n",
       "mean               6560.047061  4.846841e+07    NaN  ...           272.770808   \n",
       "std               15020.759120  6.845299e+07    NaN  ...           377.982886   \n",
       "min                   0.000000  1.620000e+02    NaN  ...             1.000000   \n",
       "25%                 614.000000  5.340988e+06    NaN  ...            65.000000   \n",
       "50%                 988.000000  2.551750e+07    NaN  ...           156.000000   \n",
       "75%               11000.000000  6.230944e+07    NaN  ...           326.000000   \n",
       "max              640000.000000  7.605058e+08    NaN  ...          5060.000000   \n",
       "\n",
       "       language  country  content_rating        budget   title_year  \\\n",
       "count      5031     5038            4740  4.551000e+03  4935.000000   \n",
       "unique       47       65              18           NaN          NaN   \n",
       "top     English      USA               R           NaN          NaN   \n",
       "freq       4704     3807            2118           NaN          NaN   \n",
       "mean        NaN      NaN             NaN  3.975262e+07  2002.470517   \n",
       "std         NaN      NaN             NaN  2.061149e+08    12.474599   \n",
       "min         NaN      NaN             NaN  2.180000e+02  1916.000000   \n",
       "25%         NaN      NaN             NaN  6.000000e+06  1999.000000   \n",
       "50%         NaN      NaN             NaN  2.000000e+07  2005.000000   \n",
       "75%         NaN      NaN             NaN  4.500000e+07  2011.000000   \n",
       "max         NaN      NaN             NaN  1.221550e+10  2016.000000   \n",
       "\n",
       "       actor_2_facebook_likes   imdb_score  aspect_ratio movie_facebook_likes  \n",
       "count             5030.000000  5043.000000   4714.000000          5043.000000  \n",
       "unique                    NaN          NaN           NaN                  NaN  \n",
       "top                       NaN          NaN           NaN                  NaN  \n",
       "freq                      NaN          NaN           NaN                  NaN  \n",
       "mean              1651.754473     6.442138      2.220403          7525.964505  \n",
       "std               4042.438863     1.125116      1.385113         19320.445110  \n",
       "min                  0.000000     1.600000      1.180000             0.000000  \n",
       "25%                281.000000     5.800000      1.850000             0.000000  \n",
       "50%                595.000000     6.600000      2.350000           166.000000  \n",
       "75%                918.000000     7.200000      2.350000          3000.000000  \n",
       "max             137000.000000     9.500000     16.000000        349000.000000  \n",
       "\n",
       "[11 rows x 28 columns]"
      ]
     },
     "execution_count": 2,
     "metadata": {},
     "output_type": "execute_result"
    }
   ],
   "source": [
    "# load dataset\n",
    "movies = pd.read_csv('movie.csv')\n",
    "# read in and explore data\n",
    "movies.describe(include='all')"
   ]
  },
  {
   "cell_type": "markdown",
   "metadata": {},
   "source": [
    "# Data analyses "
   ]
  },
  {
   "cell_type": "markdown",
   "metadata": {},
   "source": [
    "# Opschonen Dataset\n",
    "Bij het opschonen van de dataset kunnen we een variabele 'selection' maken die de kolommen meeneemt uit bovenstaande selectie:"
   ]
  },
  {
   "cell_type": "code",
   "execution_count": 3,
   "metadata": {},
   "outputs": [],
   "source": [
    "selection = movies[['movie_title', 'title_year', 'imdb_score', 'movie_facebook_likes', 'director_name', 'gross', 'duration', 'num_voted_users', 'actor_1_name', 'actor_2_name', 'actor_3_name', 'actor_1_facebook_likes', 'actor_2_facebook_likes', 'actor_3_facebook_likes', 'genres']]"
   ]
  },
  {
   "cell_type": "code",
   "execution_count": 4,
   "metadata": {},
   "outputs": [],
   "source": [
    "selection.dropna(subset=['movie_title'], inplace=True)\n",
    "selection.dropna(thresh=14, inplace=True)\n",
    "selection.drop_duplicates(subset=None, keep='first', inplace=True)"
   ]
  },
  {
   "cell_type": "code",
   "execution_count": 5,
   "metadata": {
    "scrolled": true
   },
   "outputs": [
    {
     "data": {
      "text/html": [
       "<div>\n",
       "<style scoped>\n",
       "    .dataframe tbody tr th:only-of-type {\n",
       "        vertical-align: middle;\n",
       "    }\n",
       "\n",
       "    .dataframe tbody tr th {\n",
       "        vertical-align: top;\n",
       "    }\n",
       "\n",
       "    .dataframe thead th {\n",
       "        text-align: right;\n",
       "    }\n",
       "</style>\n",
       "<table border=\"1\" class=\"dataframe\">\n",
       "  <thead>\n",
       "    <tr style=\"text-align: right;\">\n",
       "      <th></th>\n",
       "      <th>title_year</th>\n",
       "      <th>imdb_score</th>\n",
       "      <th>movie_facebook_likes</th>\n",
       "      <th>director_name</th>\n",
       "      <th>gross</th>\n",
       "      <th>duration</th>\n",
       "      <th>num_voted_users</th>\n",
       "      <th>actor_1_name</th>\n",
       "      <th>actor_2_name</th>\n",
       "      <th>actor_3_name</th>\n",
       "      <th>actor_1_facebook_likes</th>\n",
       "      <th>actor_2_facebook_likes</th>\n",
       "      <th>actor_3_facebook_likes</th>\n",
       "      <th>genres</th>\n",
       "    </tr>\n",
       "    <tr>\n",
       "      <th>movie_title</th>\n",
       "      <th></th>\n",
       "      <th></th>\n",
       "      <th></th>\n",
       "      <th></th>\n",
       "      <th></th>\n",
       "      <th></th>\n",
       "      <th></th>\n",
       "      <th></th>\n",
       "      <th></th>\n",
       "      <th></th>\n",
       "      <th></th>\n",
       "      <th></th>\n",
       "      <th></th>\n",
       "      <th></th>\n",
       "    </tr>\n",
       "  </thead>\n",
       "  <tbody>\n",
       "    <tr>\n",
       "      <th>Avatar</th>\n",
       "      <td>2009</td>\n",
       "      <td>7.9</td>\n",
       "      <td>33000</td>\n",
       "      <td>James Cameron</td>\n",
       "      <td>760505847</td>\n",
       "      <td>178</td>\n",
       "      <td>886204</td>\n",
       "      <td>CCH Pounder</td>\n",
       "      <td>Joel David Moore</td>\n",
       "      <td>Wes Studi</td>\n",
       "      <td>1000</td>\n",
       "      <td>936</td>\n",
       "      <td>855</td>\n",
       "      <td>Action|Adventure|Fantasy|Sci-Fi</td>\n",
       "    </tr>\n",
       "    <tr>\n",
       "      <th>Pirates of the Caribbean: At World's End</th>\n",
       "      <td>2007</td>\n",
       "      <td>7.1</td>\n",
       "      <td>0</td>\n",
       "      <td>Gore Verbinski</td>\n",
       "      <td>309404152</td>\n",
       "      <td>169</td>\n",
       "      <td>471220</td>\n",
       "      <td>Johnny Depp</td>\n",
       "      <td>Orlando Bloom</td>\n",
       "      <td>Jack Davenport</td>\n",
       "      <td>40000</td>\n",
       "      <td>5000</td>\n",
       "      <td>1000</td>\n",
       "      <td>Action|Adventure|Fantasy</td>\n",
       "    </tr>\n",
       "    <tr>\n",
       "      <th>Spectre</th>\n",
       "      <td>2015</td>\n",
       "      <td>6.8</td>\n",
       "      <td>85000</td>\n",
       "      <td>Sam Mendes</td>\n",
       "      <td>200074175</td>\n",
       "      <td>148</td>\n",
       "      <td>275868</td>\n",
       "      <td>Christoph Waltz</td>\n",
       "      <td>Rory Kinnear</td>\n",
       "      <td>Stephanie Sigman</td>\n",
       "      <td>11000</td>\n",
       "      <td>393</td>\n",
       "      <td>161</td>\n",
       "      <td>Action|Adventure|Thriller</td>\n",
       "    </tr>\n",
       "    <tr>\n",
       "      <th>The Dark Knight Rises</th>\n",
       "      <td>2012</td>\n",
       "      <td>8.5</td>\n",
       "      <td>164000</td>\n",
       "      <td>Christopher Nolan</td>\n",
       "      <td>448130642</td>\n",
       "      <td>164</td>\n",
       "      <td>1144337</td>\n",
       "      <td>Tom Hardy</td>\n",
       "      <td>Christian Bale</td>\n",
       "      <td>Joseph Gordon-Levitt</td>\n",
       "      <td>27000</td>\n",
       "      <td>23000</td>\n",
       "      <td>23000</td>\n",
       "      <td>Action|Thriller</td>\n",
       "    </tr>\n",
       "    <tr>\n",
       "      <th>John Carter</th>\n",
       "      <td>2012</td>\n",
       "      <td>6.6</td>\n",
       "      <td>24000</td>\n",
       "      <td>Andrew Stanton</td>\n",
       "      <td>73058679</td>\n",
       "      <td>132</td>\n",
       "      <td>212204</td>\n",
       "      <td>Daryl Sabara</td>\n",
       "      <td>Samantha Morton</td>\n",
       "      <td>Polly Walker</td>\n",
       "      <td>640</td>\n",
       "      <td>632</td>\n",
       "      <td>530</td>\n",
       "      <td>Action|Adventure|Sci-Fi</td>\n",
       "    </tr>\n",
       "    <tr>\n",
       "      <th>Spider-Man 3</th>\n",
       "      <td>2007</td>\n",
       "      <td>6.2</td>\n",
       "      <td>0</td>\n",
       "      <td>Sam Raimi</td>\n",
       "      <td>336530303</td>\n",
       "      <td>156</td>\n",
       "      <td>383056</td>\n",
       "      <td>J.K. Simmons</td>\n",
       "      <td>James Franco</td>\n",
       "      <td>Kirsten Dunst</td>\n",
       "      <td>24000</td>\n",
       "      <td>11000</td>\n",
       "      <td>4000</td>\n",
       "      <td>Action|Adventure|Romance</td>\n",
       "    </tr>\n",
       "    <tr>\n",
       "      <th>Tangled</th>\n",
       "      <td>2010</td>\n",
       "      <td>7.8</td>\n",
       "      <td>29000</td>\n",
       "      <td>Nathan Greno</td>\n",
       "      <td>200807262</td>\n",
       "      <td>100</td>\n",
       "      <td>294810</td>\n",
       "      <td>Brad Garrett</td>\n",
       "      <td>Donna Murphy</td>\n",
       "      <td>M.C. Gainey</td>\n",
       "      <td>799</td>\n",
       "      <td>553</td>\n",
       "      <td>284</td>\n",
       "      <td>Adventure|Animation|Comedy|Family|Fantasy|Musi...</td>\n",
       "    </tr>\n",
       "    <tr>\n",
       "      <th>Avengers: Age of Ultron</th>\n",
       "      <td>2015</td>\n",
       "      <td>7.5</td>\n",
       "      <td>118000</td>\n",
       "      <td>Joss Whedon</td>\n",
       "      <td>458991599</td>\n",
       "      <td>141</td>\n",
       "      <td>462669</td>\n",
       "      <td>Chris Hemsworth</td>\n",
       "      <td>Robert Downey Jr.</td>\n",
       "      <td>Scarlett Johansson</td>\n",
       "      <td>26000</td>\n",
       "      <td>21000</td>\n",
       "      <td>19000</td>\n",
       "      <td>Action|Adventure|Sci-Fi</td>\n",
       "    </tr>\n",
       "    <tr>\n",
       "      <th>Harry Potter and the Half-Blood Prince</th>\n",
       "      <td>2009</td>\n",
       "      <td>7.5</td>\n",
       "      <td>10000</td>\n",
       "      <td>David Yates</td>\n",
       "      <td>301956980</td>\n",
       "      <td>153</td>\n",
       "      <td>321795</td>\n",
       "      <td>Alan Rickman</td>\n",
       "      <td>Daniel Radcliffe</td>\n",
       "      <td>Rupert Grint</td>\n",
       "      <td>25000</td>\n",
       "      <td>11000</td>\n",
       "      <td>10000</td>\n",
       "      <td>Adventure|Family|Fantasy|Mystery</td>\n",
       "    </tr>\n",
       "    <tr>\n",
       "      <th>Batman v Superman: Dawn of Justice</th>\n",
       "      <td>2016</td>\n",
       "      <td>6.9</td>\n",
       "      <td>197000</td>\n",
       "      <td>Zack Snyder</td>\n",
       "      <td>330249062</td>\n",
       "      <td>183</td>\n",
       "      <td>371639</td>\n",
       "      <td>Henry Cavill</td>\n",
       "      <td>Lauren Cohan</td>\n",
       "      <td>Alan D. Purwin</td>\n",
       "      <td>15000</td>\n",
       "      <td>4000</td>\n",
       "      <td>2000</td>\n",
       "      <td>Action|Adventure|Sci-Fi</td>\n",
       "    </tr>\n",
       "  </tbody>\n",
       "</table>\n",
       "</div>"
      ],
      "text/plain": [
       "                                           title_year  imdb_score  \\\n",
       "movie_title                                                         \n",
       "Avatar                                           2009         7.9   \n",
       "Pirates of the Caribbean: At World's End         2007         7.1   \n",
       "Spectre                                          2015         6.8   \n",
       "The Dark Knight Rises                            2012         8.5   \n",
       "John Carter                                      2012         6.6   \n",
       "Spider-Man 3                                     2007         6.2   \n",
       "Tangled                                          2010         7.8   \n",
       "Avengers: Age of Ultron                          2015         7.5   \n",
       "Harry Potter and the Half-Blood Prince           2009         7.5   \n",
       "Batman v Superman: Dawn of Justice               2016         6.9   \n",
       "\n",
       "                                           movie_facebook_likes  \\\n",
       "movie_title                                                       \n",
       "Avatar                                                    33000   \n",
       "Pirates of the Caribbean: At World's End                      0   \n",
       "Spectre                                                   85000   \n",
       "The Dark Knight Rises                                    164000   \n",
       "John Carter                                               24000   \n",
       "Spider-Man 3                                                  0   \n",
       "Tangled                                                   29000   \n",
       "Avengers: Age of Ultron                                  118000   \n",
       "Harry Potter and the Half-Blood Prince                    10000   \n",
       "Batman v Superman: Dawn of Justice                       197000   \n",
       "\n",
       "                                               director_name      gross  \\\n",
       "movie_title                                                               \n",
       "Avatar                                         James Cameron  760505847   \n",
       "Pirates of the Caribbean: At World's End      Gore Verbinski  309404152   \n",
       "Spectre                                           Sam Mendes  200074175   \n",
       "The Dark Knight Rises                      Christopher Nolan  448130642   \n",
       "John Carter                                   Andrew Stanton   73058679   \n",
       "Spider-Man 3                                       Sam Raimi  336530303   \n",
       "Tangled                                         Nathan Greno  200807262   \n",
       "Avengers: Age of Ultron                          Joss Whedon  458991599   \n",
       "Harry Potter and the Half-Blood Prince           David Yates  301956980   \n",
       "Batman v Superman: Dawn of Justice               Zack Snyder  330249062   \n",
       "\n",
       "                                           duration  num_voted_users  \\\n",
       "movie_title                                                            \n",
       "Avatar                                          178           886204   \n",
       "Pirates of the Caribbean: At World's End        169           471220   \n",
       "Spectre                                         148           275868   \n",
       "The Dark Knight Rises                           164          1144337   \n",
       "John Carter                                     132           212204   \n",
       "Spider-Man 3                                    156           383056   \n",
       "Tangled                                         100           294810   \n",
       "Avengers: Age of Ultron                         141           462669   \n",
       "Harry Potter and the Half-Blood Prince          153           321795   \n",
       "Batman v Superman: Dawn of Justice              183           371639   \n",
       "\n",
       "                                              actor_1_name       actor_2_name  \\\n",
       "movie_title                                                                     \n",
       "Avatar                                         CCH Pounder   Joel David Moore   \n",
       "Pirates of the Caribbean: At World's End       Johnny Depp      Orlando Bloom   \n",
       "Spectre                                    Christoph Waltz       Rory Kinnear   \n",
       "The Dark Knight Rises                            Tom Hardy     Christian Bale   \n",
       "John Carter                                   Daryl Sabara    Samantha Morton   \n",
       "Spider-Man 3                                  J.K. Simmons       James Franco   \n",
       "Tangled                                       Brad Garrett       Donna Murphy   \n",
       "Avengers: Age of Ultron                    Chris Hemsworth  Robert Downey Jr.   \n",
       "Harry Potter and the Half-Blood Prince        Alan Rickman   Daniel Radcliffe   \n",
       "Batman v Superman: Dawn of Justice            Henry Cavill       Lauren Cohan   \n",
       "\n",
       "                                                   actor_3_name  \\\n",
       "movie_title                                                       \n",
       "Avatar                                                Wes Studi   \n",
       "Pirates of the Caribbean: At World's End         Jack Davenport   \n",
       "Spectre                                        Stephanie Sigman   \n",
       "The Dark Knight Rises                      Joseph Gordon-Levitt   \n",
       "John Carter                                        Polly Walker   \n",
       "Spider-Man 3                                      Kirsten Dunst   \n",
       "Tangled                                             M.C. Gainey   \n",
       "Avengers: Age of Ultron                      Scarlett Johansson   \n",
       "Harry Potter and the Half-Blood Prince             Rupert Grint   \n",
       "Batman v Superman: Dawn of Justice               Alan D. Purwin   \n",
       "\n",
       "                                           actor_1_facebook_likes  \\\n",
       "movie_title                                                         \n",
       "Avatar                                                       1000   \n",
       "Pirates of the Caribbean: At World's End                    40000   \n",
       "Spectre                                                     11000   \n",
       "The Dark Knight Rises                                       27000   \n",
       "John Carter                                                   640   \n",
       "Spider-Man 3                                                24000   \n",
       "Tangled                                                       799   \n",
       "Avengers: Age of Ultron                                     26000   \n",
       "Harry Potter and the Half-Blood Prince                      25000   \n",
       "Batman v Superman: Dawn of Justice                          15000   \n",
       "\n",
       "                                           actor_2_facebook_likes  \\\n",
       "movie_title                                                         \n",
       "Avatar                                                        936   \n",
       "Pirates of the Caribbean: At World's End                     5000   \n",
       "Spectre                                                       393   \n",
       "The Dark Knight Rises                                       23000   \n",
       "John Carter                                                   632   \n",
       "Spider-Man 3                                                11000   \n",
       "Tangled                                                       553   \n",
       "Avengers: Age of Ultron                                     21000   \n",
       "Harry Potter and the Half-Blood Prince                      11000   \n",
       "Batman v Superman: Dawn of Justice                           4000   \n",
       "\n",
       "                                           actor_3_facebook_likes  \\\n",
       "movie_title                                                         \n",
       "Avatar                                                        855   \n",
       "Pirates of the Caribbean: At World's End                     1000   \n",
       "Spectre                                                       161   \n",
       "The Dark Knight Rises                                       23000   \n",
       "John Carter                                                   530   \n",
       "Spider-Man 3                                                 4000   \n",
       "Tangled                                                       284   \n",
       "Avengers: Age of Ultron                                     19000   \n",
       "Harry Potter and the Half-Blood Prince                      10000   \n",
       "Batman v Superman: Dawn of Justice                           2000   \n",
       "\n",
       "                                                                                      genres  \n",
       "movie_title                                                                                   \n",
       "Avatar                                                       Action|Adventure|Fantasy|Sci-Fi  \n",
       "Pirates of the Caribbean: At World's End                            Action|Adventure|Fantasy  \n",
       "Spectre                                                            Action|Adventure|Thriller  \n",
       "The Dark Knight Rises                                                        Action|Thriller  \n",
       "John Carter                                                          Action|Adventure|Sci-Fi  \n",
       "Spider-Man 3                                                        Action|Adventure|Romance  \n",
       "Tangled                                    Adventure|Animation|Comedy|Family|Fantasy|Musi...  \n",
       "Avengers: Age of Ultron                                              Action|Adventure|Sci-Fi  \n",
       "Harry Potter and the Half-Blood Prince                      Adventure|Family|Fantasy|Mystery  \n",
       "Batman v Superman: Dawn of Justice                                   Action|Adventure|Sci-Fi  "
      ]
     },
     "execution_count": 5,
     "metadata": {},
     "output_type": "execute_result"
    }
   ],
   "source": [
    "selection[['title_year', 'gross', 'duration', 'actor_1_facebook_likes', 'actor_2_facebook_likes', 'actor_3_facebook_likes']] = selection[['title_year', 'gross', 'duration', 'actor_1_facebook_likes', 'actor_2_facebook_likes', 'actor_3_facebook_likes']].fillna(value=0)\n",
    "selection = selection.astype({'title_year': int, 'gross': int, 'duration': int, 'actor_1_facebook_likes': int, 'actor_2_facebook_likes': int, 'actor_3_facebook_likes': int})\n",
    "selection.set_index('movie_title', inplace=True)\n",
    "selection.head(10)"
   ]
  },
  {
   "cell_type": "code",
   "execution_count": 6,
   "metadata": {},
   "outputs": [],
   "source": [
    "# selection.profile_report(style={'full_width':True})"
   ]
  },
  {
   "cell_type": "code",
   "execution_count": 7,
   "metadata": {},
   "outputs": [],
   "source": [
    "# # functie die laat zien hoeveel % van de waarden er mist per kolom\n",
    "# # als we de schone dataset selection nemen komt er overal 0% te staan omdat dit compleet opgeschoond is\n",
    "# def NaN_percent(df, column_name):\n",
    "#     row_count = df[column_name].shape[0]\n",
    "#     empty_values = row_count - df[column_name].count()\n",
    "#     return (100.0*empty_values)/row_count\n",
    "# for i in list(movies):\n",
    "#     print(i +': ' + str(NaN_percent(movies,i))+'%')  "
   ]
  },
  {
   "cell_type": "markdown",
   "metadata": {},
   "source": [
    "# Onderzoeksvraag:\n",
    "## Wat is de invloed op populariteit van een film als er een populaire acteur wordt gecast?\n",
    "\n",
    "\n",
    "We kunnen met zekerheid zeggen dat een acteur/actrice populairder is wanneer hij/zij onder andere veel facebook likes heeft. Hiervoor nemen we twee kolommen:\n",
    "- actor_1_name\n",
    "- actor_1_facebook_likes"
   ]
  },
  {
   "cell_type": "code",
   "execution_count": 8,
   "metadata": {},
   "outputs": [
    {
     "data": {
      "text/plain": [
       "(array([    0.,  5000., 10000., 15000., 20000., 25000., 30000., 35000.,\n",
       "        40000., 45000.]), <a list of 10 Text xticklabel objects>)"
      ]
     },
     "execution_count": 8,
     "metadata": {},
     "output_type": "execute_result"
    },
    {
     "data": {
      "image/png": "[encoded data removed]",
      "text/plain": [
       "<Figure size 432x288 with 1 Axes>"
      ]
     },
     "metadata": {
      "needs_background": "light"
     },
     "output_type": "display_data"
    }
   ],
   "source": [
    "actor_1_name = selection['actor_1_name'].head(10)\n",
    "actor_1_facebook_likes = selection['actor_1_facebook_likes'].head(10)\n",
    "\n",
    "actor_popular = sns.barplot(x=actor_1_facebook_likes, y=actor_1_name, data=selection)\n",
    "plt.xticks(rotation=90)"
   ]
  },
  {
   "cell_type": "code",
   "execution_count": 9,
   "metadata": {},
   "outputs": [
    {
     "data": {
      "text/plain": [
       "movie_title\n",
       "Pirates of the Caribbean: At World's End     40000\n",
       "The Dark Knight Rises                        27000\n",
       "Avengers: Age of Ultron                      26000\n",
       "Harry Potter and the Half-Blood Prince       25000\n",
       "Spider-Man 3                                 24000\n",
       "Batman v Superman: Dawn of Justice           15000\n",
       "Spectre                                      11000\n",
       "Avatar                                        1000\n",
       "Tangled                                        799\n",
       "John Carter                                    640\n",
       "Name: actor_1_facebook_likes, dtype: int64"
      ]
     },
     "execution_count": 9,
     "metadata": {},
     "output_type": "execute_result"
    }
   ],
   "source": [
    "actor_1_facebook_likes.sort_values(ascending=False)"
   ]
  },
  {
   "cell_type": "markdown",
   "metadata": {},
   "source": [
    "Nu gaan we kijken naar de populairste film en dit doen we met de volgende kolommen:\n",
    "- movie_title\n",
    "- imdb_score\n",
    "\n",
    "We overwogen hier ook om kolom num_voted_users mee te nemen maar dit zou niet representatief zijn. Er zouden bijvoorbeeld alleen 3 mensen kunnen stemmen voor een film, als zij allemaal een hoge score geven is het gemiddelde heel erg hoog. "
   ]
  },
  {
   "cell_type": "code",
   "execution_count": 10,
   "metadata": {},
   "outputs": [
    {
     "data": {
      "text/plain": [
       "(array([0., 1., 2., 3., 4., 5., 6., 7., 8., 9.]),\n",
       " <a list of 10 Text xticklabel objects>)"
      ]
     },
     "execution_count": 10,
     "metadata": {},
     "output_type": "execute_result"
    },
    {
     "data": {
      "image/png": "[encoded data removed]",
      "text/plain": [
       "<Figure size 432x288 with 1 Axes>"
      ]
     },
     "metadata": {
      "needs_background": "light"
     },
     "output_type": "display_data"
    }
   ],
   "source": [
    "movie_title = selection.index.values.tolist()\n",
    "imdb_score = selection['imdb_score'].head(10)\n",
    "\n",
    "actor_popular = sns.barplot(x=imdb_score, y=movie_title[:10], data=selection)\n",
    "plt.xticks(rotation=90)"
   ]
  },
  {
   "cell_type": "code",
   "execution_count": 11,
   "metadata": {},
   "outputs": [
    {
     "data": {
      "text/plain": [
       "movie_title\n",
       "The Dark Knight Rises                        8.5\n",
       "Avatar                                       7.9\n",
       "Tangled                                      7.8\n",
       "Harry Potter and the Half-Blood Prince       7.5\n",
       "Avengers: Age of Ultron                      7.5\n",
       "Pirates of the Caribbean: At World's End     7.1\n",
       "Batman v Superman: Dawn of Justice           6.9\n",
       "Spectre                                      6.8\n",
       "John Carter                                  6.6\n",
       "Spider-Man 3                                 6.2\n",
       "Name: imdb_score, dtype: float64"
      ]
     },
     "execution_count": 11,
     "metadata": {},
     "output_type": "execute_result"
    }
   ],
   "source": [
    "imdb_score.sort_values(ascending=False)"
   ]
  },
  {
   "cell_type": "code",
   "execution_count": 12,
   "metadata": {},
   "outputs": [
    {
     "data": {
      "text/plain": [
       "movie_title\n",
       "Anchorman: The Legend of Ron Burgundy     640000\n",
       "Treachery                                 260000\n",
       "Hardflip                                  260000\n",
       "Kickboxer: Vengeance                      260000\n",
       "The Final Destination                     164000\n",
       "Name: actor_1_facebook_likes, dtype: int64"
      ]
     },
     "execution_count": 12,
     "metadata": {},
     "output_type": "execute_result"
    }
   ],
   "source": [
    "totaal_actor_1_facebook_likes = selection['actor_1_facebook_likes']\n",
    "totaal_actor_1_facebook_likes.sort_values(ascending=False)[:5]"
   ]
  },
  {
   "cell_type": "code",
   "execution_count": 13,
   "metadata": {},
   "outputs": [
    {
     "data": {
      "text/plain": [
       "movie_title\n",
       "The Shawshank Redemption     9.3\n",
       "The Godfather                9.2\n",
       "Kickboxer: Vengeance         9.1\n",
       "The Dark Knight              9.0\n",
       "The Godfather: Part II       9.0\n",
       "Name: imdb_score, dtype: float64"
      ]
     },
     "execution_count": 13,
     "metadata": {},
     "output_type": "execute_result"
    }
   ],
   "source": [
    "totaal_imdb_score = selection['imdb_score']\n",
    "totaal_imdb_score.sort_values(ascending=False)[:5]"
   ]
  },
  {
   "cell_type": "code",
   "execution_count": 14,
   "metadata": {},
   "outputs": [
    {
     "data": {
      "text/html": [
       "<div>\n",
       "<style scoped>\n",
       "    .dataframe tbody tr th:only-of-type {\n",
       "        vertical-align: middle;\n",
       "    }\n",
       "\n",
       "    .dataframe tbody tr th {\n",
       "        vertical-align: top;\n",
       "    }\n",
       "\n",
       "    .dataframe thead th {\n",
       "        text-align: right;\n",
       "    }\n",
       "</style>\n",
       "<table border=\"1\" class=\"dataframe\">\n",
       "  <thead>\n",
       "    <tr style=\"text-align: right;\">\n",
       "      <th></th>\n",
       "      <th>title_year</th>\n",
       "      <th>imdb_score</th>\n",
       "      <th>movie_facebook_likes</th>\n",
       "      <th>director_name</th>\n",
       "      <th>gross</th>\n",
       "      <th>duration</th>\n",
       "      <th>num_voted_users</th>\n",
       "      <th>actor_1_name</th>\n",
       "      <th>actor_2_name</th>\n",
       "      <th>actor_3_name</th>\n",
       "      <th>actor_1_facebook_likes</th>\n",
       "      <th>actor_2_facebook_likes</th>\n",
       "      <th>actor_3_facebook_likes</th>\n",
       "      <th>genres</th>\n",
       "    </tr>\n",
       "    <tr>\n",
       "      <th>movie_title</th>\n",
       "      <th></th>\n",
       "      <th></th>\n",
       "      <th></th>\n",
       "      <th></th>\n",
       "      <th></th>\n",
       "      <th></th>\n",
       "      <th></th>\n",
       "      <th></th>\n",
       "      <th></th>\n",
       "      <th></th>\n",
       "      <th></th>\n",
       "      <th></th>\n",
       "      <th></th>\n",
       "      <th></th>\n",
       "    </tr>\n",
       "  </thead>\n",
       "  <tbody>\n",
       "    <tr>\n",
       "      <th>Avatar</th>\n",
       "      <td>2009</td>\n",
       "      <td>7.9</td>\n",
       "      <td>33000</td>\n",
       "      <td>James Cameron</td>\n",
       "      <td>760505847</td>\n",
       "      <td>178</td>\n",
       "      <td>886204</td>\n",
       "      <td>CCH Pounder</td>\n",
       "      <td>Joel David Moore</td>\n",
       "      <td>Wes Studi</td>\n",
       "      <td>1000</td>\n",
       "      <td>936</td>\n",
       "      <td>855</td>\n",
       "      <td>Action|Adventure|Fantasy|Sci-Fi</td>\n",
       "    </tr>\n",
       "    <tr>\n",
       "      <th>Pirates of the Caribbean: At World's End</th>\n",
       "      <td>2007</td>\n",
       "      <td>7.1</td>\n",
       "      <td>0</td>\n",
       "      <td>Gore Verbinski</td>\n",
       "      <td>309404152</td>\n",
       "      <td>169</td>\n",
       "      <td>471220</td>\n",
       "      <td>Johnny Depp</td>\n",
       "      <td>Orlando Bloom</td>\n",
       "      <td>Jack Davenport</td>\n",
       "      <td>40000</td>\n",
       "      <td>5000</td>\n",
       "      <td>1000</td>\n",
       "      <td>Action|Adventure|Fantasy</td>\n",
       "    </tr>\n",
       "    <tr>\n",
       "      <th>Spectre</th>\n",
       "      <td>2015</td>\n",
       "      <td>6.8</td>\n",
       "      <td>85000</td>\n",
       "      <td>Sam Mendes</td>\n",
       "      <td>200074175</td>\n",
       "      <td>148</td>\n",
       "      <td>275868</td>\n",
       "      <td>Christoph Waltz</td>\n",
       "      <td>Rory Kinnear</td>\n",
       "      <td>Stephanie Sigman</td>\n",
       "      <td>11000</td>\n",
       "      <td>393</td>\n",
       "      <td>161</td>\n",
       "      <td>Action|Adventure|Thriller</td>\n",
       "    </tr>\n",
       "    <tr>\n",
       "      <th>The Dark Knight Rises</th>\n",
       "      <td>2012</td>\n",
       "      <td>8.5</td>\n",
       "      <td>164000</td>\n",
       "      <td>Christopher Nolan</td>\n",
       "      <td>448130642</td>\n",
       "      <td>164</td>\n",
       "      <td>1144337</td>\n",
       "      <td>Tom Hardy</td>\n",
       "      <td>Christian Bale</td>\n",
       "      <td>Joseph Gordon-Levitt</td>\n",
       "      <td>27000</td>\n",
       "      <td>23000</td>\n",
       "      <td>23000</td>\n",
       "      <td>Action|Thriller</td>\n",
       "    </tr>\n",
       "    <tr>\n",
       "      <th>John Carter</th>\n",
       "      <td>2012</td>\n",
       "      <td>6.6</td>\n",
       "      <td>24000</td>\n",
       "      <td>Andrew Stanton</td>\n",
       "      <td>73058679</td>\n",
       "      <td>132</td>\n",
       "      <td>212204</td>\n",
       "      <td>Daryl Sabara</td>\n",
       "      <td>Samantha Morton</td>\n",
       "      <td>Polly Walker</td>\n",
       "      <td>640</td>\n",
       "      <td>632</td>\n",
       "      <td>530</td>\n",
       "      <td>Action|Adventure|Sci-Fi</td>\n",
       "    </tr>\n",
       "  </tbody>\n",
       "</table>\n",
       "</div>"
      ],
      "text/plain": [
       "                                           title_year  imdb_score  \\\n",
       "movie_title                                                         \n",
       "Avatar                                           2009         7.9   \n",
       "Pirates of the Caribbean: At World's End         2007         7.1   \n",
       "Spectre                                          2015         6.8   \n",
       "The Dark Knight Rises                            2012         8.5   \n",
       "John Carter                                      2012         6.6   \n",
       "\n",
       "                                           movie_facebook_likes  \\\n",
       "movie_title                                                       \n",
       "Avatar                                                    33000   \n",
       "Pirates of the Caribbean: At World's End                      0   \n",
       "Spectre                                                   85000   \n",
       "The Dark Knight Rises                                    164000   \n",
       "John Carter                                               24000   \n",
       "\n",
       "                                               director_name      gross  \\\n",
       "movie_title                                                               \n",
       "Avatar                                         James Cameron  760505847   \n",
       "Pirates of the Caribbean: At World's End      Gore Verbinski  309404152   \n",
       "Spectre                                           Sam Mendes  200074175   \n",
       "The Dark Knight Rises                      Christopher Nolan  448130642   \n",
       "John Carter                                   Andrew Stanton   73058679   \n",
       "\n",
       "                                           duration  num_voted_users  \\\n",
       "movie_title                                                            \n",
       "Avatar                                          178           886204   \n",
       "Pirates of the Caribbean: At World's End        169           471220   \n",
       "Spectre                                         148           275868   \n",
       "The Dark Knight Rises                           164          1144337   \n",
       "John Carter                                     132           212204   \n",
       "\n",
       "                                              actor_1_name      actor_2_name  \\\n",
       "movie_title                                                                    \n",
       "Avatar                                         CCH Pounder  Joel David Moore   \n",
       "Pirates of the Caribbean: At World's End       Johnny Depp     Orlando Bloom   \n",
       "Spectre                                    Christoph Waltz      Rory Kinnear   \n",
       "The Dark Knight Rises                            Tom Hardy    Christian Bale   \n",
       "John Carter                                   Daryl Sabara   Samantha Morton   \n",
       "\n",
       "                                                   actor_3_name  \\\n",
       "movie_title                                                       \n",
       "Avatar                                                Wes Studi   \n",
       "Pirates of the Caribbean: At World's End         Jack Davenport   \n",
       "Spectre                                        Stephanie Sigman   \n",
       "The Dark Knight Rises                      Joseph Gordon-Levitt   \n",
       "John Carter                                        Polly Walker   \n",
       "\n",
       "                                           actor_1_facebook_likes  \\\n",
       "movie_title                                                         \n",
       "Avatar                                                       1000   \n",
       "Pirates of the Caribbean: At World's End                    40000   \n",
       "Spectre                                                     11000   \n",
       "The Dark Knight Rises                                       27000   \n",
       "John Carter                                                   640   \n",
       "\n",
       "                                           actor_2_facebook_likes  \\\n",
       "movie_title                                                         \n",
       "Avatar                                                        936   \n",
       "Pirates of the Caribbean: At World's End                     5000   \n",
       "Spectre                                                       393   \n",
       "The Dark Knight Rises                                       23000   \n",
       "John Carter                                                   632   \n",
       "\n",
       "                                           actor_3_facebook_likes  \\\n",
       "movie_title                                                         \n",
       "Avatar                                                        855   \n",
       "Pirates of the Caribbean: At World's End                     1000   \n",
       "Spectre                                                       161   \n",
       "The Dark Knight Rises                                       23000   \n",
       "John Carter                                                   530   \n",
       "\n",
       "                                                                    genres  \n",
       "movie_title                                                                 \n",
       "Avatar                                     Action|Adventure|Fantasy|Sci-Fi  \n",
       "Pirates of the Caribbean: At World's End          Action|Adventure|Fantasy  \n",
       "Spectre                                          Action|Adventure|Thriller  \n",
       "The Dark Knight Rises                                      Action|Thriller  \n",
       "John Carter                                        Action|Adventure|Sci-Fi  "
      ]
     },
     "execution_count": 14,
     "metadata": {},
     "output_type": "execute_result"
    }
   ],
   "source": [
    "# movie_title = selection.index.values.tolist()\n",
    "selection.head()"
   ]
  },
  {
   "cell_type": "code",
   "execution_count": 15,
   "metadata": {},
   "outputs": [
    {
     "data": {
      "image/png": "[encoded data removed]",
      "text/plain": [
       "<Figure size 432x288 with 1 Axes>"
      ]
     },
     "metadata": {
      "needs_background": "light"
     },
     "output_type": "display_data"
    }
   ],
   "source": [
    "plt.scatter(imdb_score,actor_1_facebook_likes)\n",
    "plt.show()"
   ]
  },
  {
   "cell_type": "code",
   "execution_count": 16,
   "metadata": {},
   "outputs": [
    {
     "name": "stdout",
     "output_type": "stream",
     "text": [
      "0\n",
      "22\n"
     ]
    }
   ],
   "source": [
    "print(len(selection[selection['imdb_score'] == 0]))\n",
    "print(len(selection[selection['actor_1_facebook_likes'] == 0]))"
   ]
  },
  {
   "cell_type": "markdown",
   "metadata": {},
   "source": [
    "Er zijn voor 22 nul-waarden voor actor_1_facebook_likes. Omdat er niet duidelijke correlatie is tussen imdb_score en actor_1_facebook_likes, zouden we geen lineaire regressie kunnen toepassen omdat het dat geen duidelijk en eerlijk beeld schetst"
   ]
  },
  {
   "cell_type": "code",
   "execution_count": 17,
   "metadata": {},
   "outputs": [
    {
     "data": {
      "text/plain": [
       "6686.433271643019"
      ]
     },
     "execution_count": 17,
     "metadata": {},
     "output_type": "execute_result"
    }
   ],
   "source": [
    "selection['actor_1_facebook_likes'].mean()"
   ]
  },
  {
   "cell_type": "code",
   "execution_count": 18,
   "metadata": {},
   "outputs": [
    {
     "name": "stdout",
     "output_type": "stream",
     "text": [
      "                                           title_year  imdb_score  \\\n",
      "movie_title                                                         \n",
      "Travelers and Magicians                          2003         7.5   \n",
      "The Gatekeepers                                  2012         7.6   \n",
      "Wal-Mart: The High Cost of Low Price             2005         6.8   \n",
      "Queen of the Mountains                           2014         8.7   \n",
      "Elza                                             2011         6.7   \n",
      "They Will Have to Kill Us First                  2015         7.7   \n",
      "Crop Circles: Quest for Truth                    2002         7.0   \n",
      "Julija in alfa Romeo                             2015         6.4   \n",
      "Faith Connections                                2013         7.0   \n",
      "Mad Hot Ballroom                                 2005         7.5   \n",
      "Born to Fly: Elizabeth Streb vs. Gravity         2014         6.8   \n",
      "51 Birch Street                                  2005         7.5   \n",
      "UnDivided                                        2013         7.8   \n",
      "Ordet                                            1955         8.1   \n",
      "Butterfly Girl                                   2014         8.7   \n",
      "The World Is Mine                                2015         6.5   \n",
      "Antarctic Edge: 70° South                        2015         7.0   \n",
      "Top Spin                                         2014         7.1   \n",
      "Indie Game: The Movie                            2012         7.7   \n",
      "Super Size Me                                    2004         7.3   \n",
      "Cavite                                           2005         6.3   \n",
      "A Plague So Pleasant                             2013         6.3   \n",
      "\n",
      "                                           movie_facebook_likes  \\\n",
      "movie_title                                                       \n",
      "Travelers and Magicians                                     353   \n",
      "The Gatekeepers                                               0   \n",
      "Wal-Mart: The High Cost of Low Price                          0   \n",
      "Queen of the Mountains                                        0   \n",
      "Elza                                                         24   \n",
      "They Will Have to Kill Us First                              34   \n",
      "Crop Circles: Quest for Truth                                32   \n",
      "Julija in alfa Romeo                                         18   \n",
      "Faith Connections                                           126   \n",
      "Mad Hot Ballroom                                            588   \n",
      "Born to Fly: Elizabeth Streb vs. Gravity                     44   \n",
      "51 Birch Street                                              70   \n",
      "UnDivided                                                    53   \n",
      "Ordet                                                       863   \n",
      "Butterfly Girl                                               88   \n",
      "The World Is Mine                                            34   \n",
      "Antarctic Edge: 70° South                                   215   \n",
      "Top Spin                                                    116   \n",
      "Indie Game: The Movie                                         0   \n",
      "Super Size Me                                                 0   \n",
      "Cavite                                                       74   \n",
      "A Plague So Pleasant                                         16   \n",
      "\n",
      "                                                       director_name  \\\n",
      "movie_title                                                            \n",
      "Travelers and Magicians                               Khyentse Norbu   \n",
      "The Gatekeepers                                           Dror Moreh   \n",
      "Wal-Mart: The High Cost of Low Price                Robert Greenwald   \n",
      "Queen of the Mountains                              Sadyk Sher-Niyaz   \n",
      "Elza                                              Mariette Monpierre   \n",
      "They Will Have to Kill Us First                     Johanna Schwartz   \n",
      "Crop Circles: Quest for Truth                        William Gazecki   \n",
      "Julija in alfa Romeo                                   Blaz Zavrsnik   \n",
      "Faith Connections                                          Pan Nalin   \n",
      "Mad Hot Ballroom                                      Marilyn Agrelo   \n",
      "Born to Fly: Elizabeth Streb vs. Gravity              Catherine Gund   \n",
      "51 Birch Street                                           Doug Block   \n",
      "UnDivided                                                 Sam Martin   \n",
      "Ordet                                            Carl Theodor Dreyer   \n",
      "Butterfly Girl                                             Cary Bell   \n",
      "The World Is Mine                          Nicolae Constantin Tanase   \n",
      "Antarctic Edge: 70° South                                Dena Seidel   \n",
      "Top Spin                                                 Sara Newens   \n",
      "Indie Game: The Movie                                  Lisanne Pajot   \n",
      "Super Size Me                                        Morgan Spurlock   \n",
      "Cavite                                              Neill Dela Llana   \n",
      "A Plague So Pleasant                                Benjamin Roberds   \n",
      "\n",
      "                                              gross  duration  \\\n",
      "movie_title                                                     \n",
      "Travelers and Magicians                      505295       108   \n",
      "The Gatekeepers                             2408553       101   \n",
      "Wal-Mart: The High Cost of Low Price              0        20   \n",
      "Queen of the Mountains                            0       135   \n",
      "Elza                                              0        78   \n",
      "They Will Have to Kill Us First                   0       105   \n",
      "Crop Circles: Quest for Truth                     0       115   \n",
      "Julija in alfa Romeo                              0        83   \n",
      "Faith Connections                                 0       115   \n",
      "Mad Hot Ballroom                            8044906       105   \n",
      "Born to Fly: Elizabeth Streb vs. Gravity      21199        82   \n",
      "51 Birch Street                               84689        90   \n",
      "UnDivided                                         0        66   \n",
      "Ordet                                             0       126   \n",
      "Butterfly Girl                                    0        78   \n",
      "The World Is Mine                                 0       104   \n",
      "Antarctic Edge: 70° South                      4914        72   \n",
      "Top Spin                                       5858        80   \n",
      "Indie Game: The Movie                             0       103   \n",
      "Super Size Me                              11529368       100   \n",
      "Cavite                                        70071        80   \n",
      "A Plague So Pleasant                              0        76   \n",
      "\n",
      "                                           num_voted_users  \\\n",
      "movie_title                                                  \n",
      "Travelers and Magicians                               1747   \n",
      "The Gatekeepers                                       4547   \n",
      "Wal-Mart: The High Cost of Low Price                  4120   \n",
      "Queen of the Mountains                                3144   \n",
      "Elza                                                    19   \n",
      "They Will Have to Kill Us First                         74   \n",
      "Crop Circles: Quest for Truth                          204   \n",
      "Julija in alfa Romeo                                    86   \n",
      "Faith Connections                                      113   \n",
      "Mad Hot Ballroom                                      3156   \n",
      "Born to Fly: Elizabeth Streb vs. Gravity                40   \n",
      "51 Birch Street                                        695   \n",
      "UnDivided                                                6   \n",
      "Ordet                                                 9903   \n",
      "Butterfly Girl                                          27   \n",
      "The World Is Mine                                      354   \n",
      "Antarctic Edge: 70° South                              123   \n",
      "Top Spin                                               260   \n",
      "Indie Game: The Movie                                16701   \n",
      "Super Size Me                                        85028   \n",
      "Cavite                                                 589   \n",
      "A Plague So Pleasant                                    38   \n",
      "\n",
      "                                                 actor_1_name  \\\n",
      "movie_title                                                     \n",
      "Travelers and Magicians                       Tshewang Dendup   \n",
      "The Gatekeepers                                    Ami Ayalon   \n",
      "Wal-Mart: The High Cost of Low Price                Lee Scott   \n",
      "Queen of the Mountains                        Elina Abai Kyzy   \n",
      "Elza                                          Stana Roumillac   \n",
      "They Will Have to Kill Us First                   Aliou Touré   \n",
      "Crop Circles: Quest for Truth                 Karen Alexander   \n",
      "Julija in alfa Romeo                       Dario Nozic Serini   \n",
      "Faith Connections                                  Bhole Baba   \n",
      "Mad Hot Ballroom                               Heather Berman   \n",
      "Born to Fly: Elizabeth Streb vs. Gravity      Elizabeth Streb   \n",
      "51 Birch Street                                   Carol Block   \n",
      "UnDivided                                           Sam Adams   \n",
      "Ordet                                           Hanne Aagesen   \n",
      "Butterfly Girl                                  Abigail Evans   \n",
      "The World Is Mine                              Iulia Ciochina   \n",
      "Antarctic Edge: 70° South                        Naderev Sano   \n",
      "Top Spin                                          Ariel Hsing   \n",
      "Indie Game: The Movie                           Jonathan Blow   \n",
      "Super Size Me                                 Chemeeka Walker   \n",
      "Cavite                                            Ian Gamazon   \n",
      "A Plague So Pleasant                              Eva Boehnke   \n",
      "\n",
      "                                                actor_2_name  \\\n",
      "movie_title                                                    \n",
      "Travelers and Magicians                         Lhakpa Dorji   \n",
      "The Gatekeepers                                 Yuval Diskin   \n",
      "Wal-Mart: The High Cost of Low Price              Jon Hunter   \n",
      "Queen of the Mountains                     Aziz Muradillayev   \n",
      "Elza                                       Christophe Cherki   \n",
      "They Will Have to Kill Us First                  Garba Touré   \n",
      "Crop Circles: Quest for Truth                  Colin Andrews   \n",
      "Julija in alfa Romeo                             Spela Colja   \n",
      "Faith Connections                            Pant Shirt Baba   \n",
      "Mad Hot Ballroom                                Eva Carrozza   \n",
      "Born to Fly: Elizabeth Streb vs. Gravity        Sarah Callan   \n",
      "51 Birch Street                                  Ellen Block   \n",
      "UnDivided                                         Steve Duin   \n",
      "Ordet                                       Sylvia Eckhausen   \n",
      "Butterfly Girl                                  Stacie Evans   \n",
      "The World Is Mine                            Ana Maria Guran   \n",
      "Antarctic Edge: 70° South                       Hugh Ducklow   \n",
      "Top Spin                                        Xinhua Jiang   \n",
      "Indie Game: The Movie                        Edmund McMillen   \n",
      "Super Size Me                                 Amanda Kearsan   \n",
      "Cavite                                       Edgar Tancangco   \n",
      "A Plague So Pleasant                           Maxwell Moody   \n",
      "\n",
      "                                                            actor_3_name  \\\n",
      "movie_title                                                                \n",
      "Travelers and Magicians                                      Sonam Kinga   \n",
      "The Gatekeepers                                              Yaakov Peri   \n",
      "Wal-Mart: The High Cost of Low Price                         Matt Hunter   \n",
      "Queen of the Mountains                                  Mirlan Abdulayev   \n",
      "Elza                                                        Teddy Doloir   \n",
      "They Will Have to Kill Us First                              Khaira Arby   \n",
      "Crop Circles: Quest for Truth                             Francine Blake   \n",
      "Julija in alfa Romeo                                     Andrej Nahtigal   \n",
      "Faith Connections                          Shriman Umeshanad Brahmachari   \n",
      "Mad Hot Ballroom                                            Paul Daggett   \n",
      "Born to Fly: Elizabeth Streb vs. Gravity                  Laura Flanders   \n",
      "51 Birch Street                                               Mike Block   \n",
      "UnDivided                                                     Jeff Jacob   \n",
      "Ordet                                                   Ejner Federspiel   \n",
      "Butterfly Girl                                              Emily Gorell   \n",
      "The World Is Mine                                           Ana Vatamanu   \n",
      "Antarctic Edge: 70° South                                     Mike Brett   \n",
      "Top Spin                                                 Michael Landers   \n",
      "Indie Game: The Movie                                          Phil Fish   \n",
      "Super Size Me                                           Amelia Giancarlo   \n",
      "Cavite                                                         Quynn Ton   \n",
      "A Plague So Pleasant                                      David Chandler   \n",
      "\n",
      "                                           actor_1_facebook_likes  \\\n",
      "movie_title                                                         \n",
      "Travelers and Magicians                                         0   \n",
      "The Gatekeepers                                                 0   \n",
      "Wal-Mart: The High Cost of Low Price                            0   \n",
      "Queen of the Mountains                                          0   \n",
      "Elza                                                            0   \n",
      "They Will Have to Kill Us First                                 0   \n",
      "Crop Circles: Quest for Truth                                   0   \n",
      "Julija in alfa Romeo                                            0   \n",
      "Faith Connections                                               0   \n",
      "Mad Hot Ballroom                                                0   \n",
      "Born to Fly: Elizabeth Streb vs. Gravity                        0   \n",
      "51 Birch Street                                                 0   \n",
      "UnDivided                                                       0   \n",
      "Ordet                                                           0   \n",
      "Butterfly Girl                                                  0   \n",
      "The World Is Mine                                               0   \n",
      "Antarctic Edge: 70° South                                       0   \n",
      "Top Spin                                                        0   \n",
      "Indie Game: The Movie                                           0   \n",
      "Super Size Me                                                   0   \n",
      "Cavite                                                          0   \n",
      "A Plague So Pleasant                                            0   \n",
      "\n",
      "                                           actor_2_facebook_likes  \\\n",
      "movie_title                                                         \n",
      "Travelers and Magicians                                         0   \n",
      "The Gatekeepers                                                 0   \n",
      "Wal-Mart: The High Cost of Low Price                            0   \n",
      "Queen of the Mountains                                          0   \n",
      "Elza                                                            0   \n",
      "They Will Have to Kill Us First                                 0   \n",
      "Crop Circles: Quest for Truth                                   0   \n",
      "Julija in alfa Romeo                                            0   \n",
      "Faith Connections                                               0   \n",
      "Mad Hot Ballroom                                                0   \n",
      "Born to Fly: Elizabeth Streb vs. Gravity                        0   \n",
      "51 Birch Street                                                 0   \n",
      "UnDivided                                                       0   \n",
      "Ordet                                                           0   \n",
      "Butterfly Girl                                                  0   \n",
      "The World Is Mine                                               0   \n",
      "Antarctic Edge: 70° South                                       0   \n",
      "Top Spin                                                        0   \n",
      "Indie Game: The Movie                                           0   \n",
      "Super Size Me                                                   0   \n",
      "Cavite                                                          0   \n",
      "A Plague So Pleasant                                            0   \n",
      "\n",
      "                                           actor_3_facebook_likes  \\\n",
      "movie_title                                                         \n",
      "Travelers and Magicians                                         0   \n",
      "The Gatekeepers                                                 0   \n",
      "Wal-Mart: The High Cost of Low Price                            0   \n",
      "Queen of the Mountains                                          0   \n",
      "Elza                                                            0   \n",
      "They Will Have to Kill Us First                                 0   \n",
      "Crop Circles: Quest for Truth                                   0   \n",
      "Julija in alfa Romeo                                            0   \n",
      "Faith Connections                                               0   \n",
      "Mad Hot Ballroom                                                0   \n",
      "Born to Fly: Elizabeth Streb vs. Gravity                        0   \n",
      "51 Birch Street                                                 0   \n",
      "UnDivided                                                       0   \n",
      "Ordet                                                           0   \n",
      "Butterfly Girl                                                  0   \n",
      "The World Is Mine                                               0   \n",
      "Antarctic Edge: 70° South                                       0   \n",
      "Top Spin                                                        0   \n",
      "Indie Game: The Movie                                           0   \n",
      "Super Size Me                                                   0   \n",
      "Cavite                                                          0   \n",
      "A Plague So Pleasant                                            0   \n",
      "\n",
      "                                                                       genres  \n",
      "movie_title                                                                    \n",
      "Travelers and Magicians                                       Adventure|Drama  \n",
      "The Gatekeepers                                               Documentary|War  \n",
      "Wal-Mart: The High Cost of Low Price                              Documentary  \n",
      "Queen of the Mountains                         Action|Biography|Drama|History  \n",
      "Elza                                                                    Drama  \n",
      "They Will Have to Kill Us First                                   Documentary  \n",
      "Crop Circles: Quest for Truth                                     Documentary  \n",
      "Julija in alfa Romeo                                                   Comedy  \n",
      "Faith Connections                                 Biography|Documentary|Drama  \n",
      "Mad Hot Ballroom                                     Documentary|Family|Music  \n",
      "Born to Fly: Elizabeth Streb vs. Gravity   Action|Biography|Documentary|Sport  \n",
      "51 Birch Street                                                   Documentary  \n",
      "UnDivided                                                         Documentary  \n",
      "Ordet                                                           Drama|Fantasy  \n",
      "Butterfly Girl                                                    Documentary  \n",
      "The World Is Mine                                                       Drama  \n",
      "Antarctic Edge: 70° South                               Adventure|Documentary  \n",
      "Top Spin                                                          Documentary  \n",
      "Indie Game: The Movie                                             Documentary  \n",
      "Super Size Me                                        Comedy|Documentary|Drama  \n",
      "Cavite                                                               Thriller  \n",
      "A Plague So Pleasant                                    Drama|Horror|Thriller  \n"
     ]
    }
   ],
   "source": [
    "print(selection[selection['actor_1_facebook_likes']== 0])"
   ]
  },
  {
   "cell_type": "markdown",
   "metadata": {},
   "source": [
    "### De populairste acteur is , Terwijl de populairste film is The Dark Knight is"
   ]
  },
  {
   "cell_type": "code",
   "execution_count": 19,
   "metadata": {},
   "outputs": [],
   "source": [
    "# gemiddelde = actor_1_facebook_likes.mean()\n",
    "# mediaan = actor_1_facebook_likes.median()\n",
    "# modus = actor_1_facebook_likes.mode()\n",
    "# std = actor_1_facebook_likes.std()\n",
    "stats = ['gemiddelde','mediaan','modus','std']\n",
    "\n",
    "def gegevens(variabelen):\n",
    "    gemiddelde = variabelen.mean()\n",
    "    mediaan = variabelen.median()\n",
    "    modus = variabelen.mode()\n",
    "    std = variabelen.std()\n",
    "    return gemiddelde, mediaan, modus, std\n",
    "\n",
    "def printGegevens(variabelen):\n",
    "   gem = (\"Gemiddelde: {} \".format(gegevens(variabelen)[0]))\n",
    "   med = (\"Mediaan: {}\".format(gegevens(variabelen)[1]))\n",
    "   mod = (\"Modus: {} \".format(gegevens(variabelen)[2]))\n",
    "   st =  (\"Std: {}\".format(gegevens(variabelen)[3]))\n",
    "   return gem,med,mod,st\n",
    "\n",
    "# for elem in printGegevens(actor_1_facebook_likes):\n",
    "#     print(elem)\n",
    "    \n",
    "# x = gegevens(actor_1_facebook_likes)\n",
    "# y = gegevens(imdb_score)\n",
    "# plt.plot(stats,x,'ro',label='actor_1_facebook_likes')\n",
    "# plt.plot(y,'go',label='imdb_score')\n",
    "# plt.xlabel('gegevens')\n",
    "# plt.ylabel('aantal')\n",
    "# plt.title('statistieken')\n",
    "# plt.legend()\n",
    "# plt.show()"
   ]
  },
  {
   "cell_type": "code",
   "execution_count": 20,
   "metadata": {},
   "outputs": [],
   "source": [
    "actor_1_name = selection['actor_1_name']\n",
    "actor_2_name = selection['actor_2_name']\n",
    "actor_3_name = selection['actor_3_name']\n",
    "\n",
    "actor_1_facebook_likes = selection['actor_1_facebook_likes']\n",
    "actor_2_facebook_likes = selection['actor_2_facebook_likes']\n",
    "actor_3_facebook_likes = selection['actor_3_facebook_likes']\n",
    "\n",
    "movie_title = selection.index.values.tolist()\n",
    "num_voted_users = selection['num_voted_users']\n",
    "num_voted_usersNULL = selection[selection['num_voted_users'] == 0]\n",
    "\n",
    "imdb_score = selection['imdb_score']"
   ]
  },
  {
   "cell_type": "code",
   "execution_count": 21,
   "metadata": {},
   "outputs": [],
   "source": [
    "totale_actor_likes = actor_1_facebook_likes + actor_2_facebook_likes + actor_3_facebook_likes"
   ]
  },
  {
   "cell_type": "code",
   "execution_count": 22,
   "metadata": {},
   "outputs": [
    {
     "name": "stdout",
     "output_type": "stream",
     "text": [
      "43.40941805469875\n"
     ]
    }
   ],
   "source": [
    "movie_facebook_likes = selection['movie_facebook_likes']\n",
    "aantal_zonder_likes = selection[selection['movie_facebook_likes'] == 0]\n",
    "print((100/len(movie_facebook_likes)) * len(aantal_zonder_likes)) # % wat mist "
   ]
  },
  {
   "cell_type": "code",
   "execution_count": 23,
   "metadata": {},
   "outputs": [],
   "source": [
    "gemiddelde_movie_facebook_likes = selection['movie_facebook_likes'].mean()"
   ]
  },
  {
   "cell_type": "code",
   "execution_count": 24,
   "metadata": {},
   "outputs": [
    {
     "data": {
      "text/plain": [
       "7591.9107546781825"
      ]
     },
     "execution_count": 24,
     "metadata": {},
     "output_type": "execute_result"
    }
   ],
   "source": [
    "gemiddelde_movie_facebook_likes"
   ]
  },
  {
   "cell_type": "code",
   "execution_count": 25,
   "metadata": {},
   "outputs": [],
   "source": [
    "score1 = imdb_score\n",
    "score2 = num_voted_users\n",
    "\n",
    "# score1.sort_values(ascending=False)\n",
    "# score2.sort_values(ascending=False)"
   ]
  },
  {
   "cell_type": "code",
   "execution_count": 26,
   "metadata": {},
   "outputs": [],
   "source": [
    "# plt.scatter(score1,score2)\n",
    "\n",
    "# z = np.polyfit(score1,score2,1)\n",
    "# p = np.poly1d(z)\n",
    "# plt.plot(x,p(x),\"r--\")\n",
    "# plt.show()\n",
    "\n",
    "# print(\"y=%.6fx+(%.6f)\"%(z[0],z[1]))"
   ]
  },
  {
   "cell_type": "markdown",
   "metadata": {},
   "source": [
    "### hoe hoger de imdb_score, hoe hoger het aantal wat gestemd heeft. Dit geeft nog steeds niet volledig inzicht omdat er veel waarden zijn voor num_voted_users die veel te laag zijn om er correlatie in te zien met de imdb_score"
   ]
  },
  {
   "cell_type": "code",
   "execution_count": 27,
   "metadata": {},
   "outputs": [],
   "source": [
    "from sklearn.model_selection import train_test_split\n",
    "\n",
    "X_train, X_test, y_train, y_test = train_test_split(actor_1_facebook_likes, imdb_score, test_size = 0.2, random_state = 0)\n",
    "X_train = X_train.values.reshape(-1,1)\n",
    "X_test = X_test.values.reshape(-1,1)\n",
    "y_train = y_train.values.reshape(-1,1)\n",
    "y_test = y_test.values.reshape(-1,1)"
   ]
  },
  {
   "cell_type": "code",
   "execution_count": 28,
   "metadata": {},
   "outputs": [],
   "source": [
    "# print(X_train.shape,y_train.shape)\n",
    "# print(X_test.shape,y_test.shape)"
   ]
  },
  {
   "cell_type": "code",
   "execution_count": 29,
   "metadata": {},
   "outputs": [],
   "source": [
    "from sklearn.linear_model import LinearRegression\n",
    "\n",
    "lr = LinearRegression()\n",
    "model = lr.fit(X_train,y_train)\n",
    "predictions = lr.predict(X_test)"
   ]
  },
  {
   "cell_type": "code",
   "execution_count": 30,
   "metadata": {},
   "outputs": [
    {
     "name": "stdout",
     "output_type": "stream",
     "text": [
      "[[6.48406123]\n",
      " [6.39517825]\n",
      " [6.37644616]\n",
      " [6.37414632]\n",
      " [6.48961641]]\n",
      "[[7.5]\n",
      " [5.3]\n",
      " [7.8]\n",
      " [3.5]\n",
      " [5.5]]\n"
     ]
    }
   ],
   "source": [
    "print(predictions[0:5])\n",
    "print(y_test[0:5])"
   ]
  },
  {
   "cell_type": "code",
   "execution_count": 31,
   "metadata": {},
   "outputs": [
    {
     "data": {
      "text/plain": [
       "<matplotlib.collections.PathCollection at 0x126250320>"
      ]
     },
     "execution_count": 31,
     "metadata": {},
     "output_type": "execute_result"
    },
    {
     "data": {
      "image/png": "[encoded data removed]",
      "text/plain": [
       "<Figure size 432x288 with 1 Axes>"
      ]
     },
     "metadata": {
      "needs_background": "light"
     },
     "output_type": "display_data"
    }
   ],
   "source": [
    "plt.scatter(y_test,predictions)"
   ]
  },
  {
   "cell_type": "code",
   "execution_count": 32,
   "metadata": {},
   "outputs": [],
   "source": [
    "y_train2 = y_train.astype(int)\n",
    "y_test2 = y_test.astype(int)"
   ]
  },
  {
   "cell_type": "code",
   "execution_count": 33,
   "metadata": {},
   "outputs": [],
   "source": [
    "from sklearn.naive_bayes import GaussianNB\n",
    "from sklearn.metrics import accuracy_score\n",
    "\n",
    "gs = GaussianNB()\n",
    "model_gs = gs.fit(X_train,y_train2)\n",
    "predictions_gs = gs.predict(X_test)\n",
    "\n",
    "gs_score = model_gs.score(X_test,y_test2) * 100"
   ]
  },
  {
   "cell_type": "code",
   "execution_count": 34,
   "metadata": {},
   "outputs": [
    {
     "data": {
      "text/plain": [
       "34.42959917780062"
      ]
     },
     "execution_count": 34,
     "metadata": {},
     "output_type": "execute_result"
    }
   ],
   "source": [
    "gs_score"
   ]
  },
  {
   "cell_type": "markdown",
   "metadata": {},
   "source": [
    "Voordat we alle aantallen hebben afgerond waren er 0, 0-waarden. Nu ronden we alles af op tienduizend-tallen om zo te categoriseren en zijn er 881 waarden die afgerond worden naar 0."
   ]
  },
  {
   "cell_type": "markdown",
   "metadata": {},
   "source": [
    "# OVERIG"
   ]
  },
  {
   "cell_type": "markdown",
   "metadata": {},
   "source": [
    "# Wat is de invloed op populariteit van een film als er een populaire acteur wordt gecast?\n",
    "\n",
    "- bereken de populariteit van een acteur -> naam linken aan facebook-likes\n",
    "- bereken de populariteit van een film -> film linken aan imdb-score"
   ]
  },
  {
   "cell_type": "code",
   "execution_count": 35,
   "metadata": {},
   "outputs": [],
   "source": [
    "actor_1_name = selection['actor_1_name']\n",
    "actor_2_name = selection['actor_2_name']\n",
    "actor_3_name = selection['actor_3_name']\n",
    "\n",
    "actor_1_facebook_likes = selection['actor_1_facebook_likes']\n",
    "actor_2_facebook_likes = selection['actor_2_facebook_likes']\n",
    "actor_3_facebook_likes = selection['actor_3_facebook_likes']\n",
    "\n",
    "movie_title = selection.index.values.tolist()\n",
    "imdb_score = selection['imdb_score']"
   ]
  },
  {
   "cell_type": "code",
   "execution_count": 36,
   "metadata": {},
   "outputs": [
    {
     "data": {
      "text/plain": [
       "(array([ 1.,  2.,  3.,  4.,  5.,  6.,  7.,  8.,  9., 10.]),\n",
       " <a list of 10 Text xticklabel objects>)"
      ]
     },
     "execution_count": 36,
     "metadata": {},
     "output_type": "execute_result"
    },
    {
     "data": {
      "image/png": "[encoded data removed]",
      "text/plain": [
       "<Figure size 432x288 with 1 Axes>"
      ]
     },
     "metadata": {
      "needs_background": "light"
     },
     "output_type": "display_data"
    }
   ],
   "source": [
    "# plt.figure(figsize=(20, 10), dpi=100)\n",
    "plt.scatter(imdb_score,actor_1_facebook_likes)\n",
    "plt.xticks(rotation=90)"
   ]
  },
  {
   "cell_type": "markdown",
   "metadata": {},
   "source": [
    "Wat er duidelijk naar voren komt in het grafiek hierboven is dat er wel degelijk een correlatie is tussen imdb_score van een film en de populariteit van een acteur gemeten met facebook likes. \n",
    "Echter zijn er ook  gevallen waarin de facebook likes niet veel over de film zelf vertelt. In het voorbeeld hierboven speelt de acteur met de meeste likes niet in een film die het best heeft gescoord op imdb."
   ]
  },
  {
   "cell_type": "code",
   "execution_count": 37,
   "metadata": {},
   "outputs": [],
   "source": [
    "# import plotly.express as px\n",
    "# iris = px.data.iris()\n",
    "# fig = px.scatter_3d(iris, x='sepal_length', y='sepal_width', z='petal_width',\n",
    "#               color='species')\n",
    "# fig.show()"
   ]
  },
  {
   "cell_type": "code",
   "execution_count": 38,
   "metadata": {},
   "outputs": [],
   "source": [
    "from sklearn.model_selection import train_test_split"
   ]
  },
  {
   "cell_type": "code",
   "execution_count": 39,
   "metadata": {},
   "outputs": [],
   "source": [
    "X_train, X_test, y_train, y_test = train_test_split(actor_1_facebook_likes,imdb_score,test_size = 0.2, random_state = 0)\n",
    "X_train = X_train.values.reshape(-1,1)\n",
    "X_test = X_test.values.reshape(-1,1)\n",
    "y_train = y_train.values.reshape(-1,1)\n",
    "y_test = y_test.values.reshape(-1,1)"
   ]
  },
  {
   "cell_type": "code",
   "execution_count": 40,
   "metadata": {},
   "outputs": [
    {
     "name": "stdout",
     "output_type": "stream",
     "text": [
      "(3890, 1) (3890, 1)\n",
      "(973, 1) (973, 1)\n"
     ]
    }
   ],
   "source": [
    "print(X_train.shape,y_train.shape)\n",
    "print(X_test.shape,y_test.shape)"
   ]
  },
  {
   "cell_type": "code",
   "execution_count": 41,
   "metadata": {},
   "outputs": [],
   "source": [
    "from sklearn.linear_model import LinearRegression\n",
    "lr = LinearRegression()"
   ]
  },
  {
   "cell_type": "code",
   "execution_count": 42,
   "metadata": {
    "scrolled": true
   },
   "outputs": [],
   "source": [
    "model = lr.fit(X_train,y_train)\n",
    "predictions = lr.predict(X_test)"
   ]
  },
  {
   "cell_type": "markdown",
   "metadata": {},
   "source": [
    "fit functie gebruiken op de train_set om de test_set te voorspellen"
   ]
  },
  {
   "cell_type": "code",
   "execution_count": 43,
   "metadata": {},
   "outputs": [
    {
     "data": {
      "text/plain": [
       "array([[6.48406123],\n",
       "       [6.39517825],\n",
       "       [6.37644616],\n",
       "       [6.37414632],\n",
       "       [6.48961641]])"
      ]
     },
     "execution_count": 43,
     "metadata": {},
     "output_type": "execute_result"
    }
   ],
   "source": [
    "predictions[0:5]"
   ]
  },
  {
   "cell_type": "code",
   "execution_count": 44,
   "metadata": {},
   "outputs": [
    {
     "data": {
      "text/plain": [
       "array([[7.5],\n",
       "       [5.3],\n",
       "       [7.8],\n",
       "       [3.5],\n",
       "       [5.5]])"
      ]
     },
     "execution_count": 44,
     "metadata": {},
     "output_type": "execute_result"
    }
   ],
   "source": [
    "y_test[0:5]"
   ]
  },
  {
   "cell_type": "markdown",
   "metadata": {},
   "source": [
    "Zoals je ziet wijken de voorspellingen heel erg af van de werkelijke test_set"
   ]
  },
  {
   "cell_type": "code",
   "execution_count": 87,
   "metadata": {},
   "outputs": [
    {
     "data": {
      "text/plain": [
       "<matplotlib.collections.PathCollection at 0x1274e9630>"
      ]
     },
     "execution_count": 87,
     "metadata": {},
     "output_type": "execute_result"
    },
    {
     "data": {
      "image/png": "[encoded data removed]",
      "text/plain": [
       "<Figure size 432x288 with 1 Axes>"
      ]
     },
     "metadata": {
      "needs_background": "light"
     },
     "output_type": "display_data"
    }
   ],
   "source": [
    "plt.scatter(y_test,predictions)\n",
    "# x true values en y predictions"
   ]
  },
  {
   "cell_type": "code",
   "execution_count": 46,
   "metadata": {},
   "outputs": [],
   "source": [
    "lr_score = model.score(X_test,y_test) * 100"
   ]
  },
  {
   "cell_type": "code",
   "execution_count": 47,
   "metadata": {},
   "outputs": [
    {
     "data": {
      "text/plain": [
       "0.9596415643765122"
      ]
     },
     "execution_count": 47,
     "metadata": {},
     "output_type": "execute_result"
    }
   ],
   "source": [
    "lr_score"
   ]
  },
  {
   "cell_type": "code",
   "execution_count": 48,
   "metadata": {},
   "outputs": [],
   "source": [
    "# Gaussian Naive Bayes\n",
    "from sklearn.naive_bayes import GaussianNB\n",
    "from sklearn.metrics import accuracy_score"
   ]
  },
  {
   "cell_type": "markdown",
   "metadata": {},
   "source": [
    "Voor het Gaussian algoritme moeten we de float-waarden in de 2D-array converten naar int-waarden"
   ]
  },
  {
   "cell_type": "code",
   "execution_count": 49,
   "metadata": {},
   "outputs": [],
   "source": [
    "y_train2 = y_train.astype(int)\n",
    "y_test2 = y_test.astype(int)\n",
    "\n",
    "gs = GaussianNB()\n",
    "model_gs = gs.fit(X_train,y_train2)\n",
    "predictions_gs = gs.predict(X_test)\n",
    "\n",
    "gs_score = model_gs.score(X_test,y_test2) * 100"
   ]
  },
  {
   "cell_type": "code",
   "execution_count": 50,
   "metadata": {},
   "outputs": [
    {
     "data": {
      "text/plain": [
       "34.42959917780062"
      ]
     },
     "execution_count": 50,
     "metadata": {},
     "output_type": "execute_result"
    }
   ],
   "source": [
    "gs_score"
   ]
  },
  {
   "cell_type": "code",
   "execution_count": 51,
   "metadata": {},
   "outputs": [
    {
     "data": {
      "text/plain": [
       "<matplotlib.collections.PathCollection at 0x1263c4a20>"
      ]
     },
     "execution_count": 51,
     "metadata": {},
     "output_type": "execute_result"
    },
    {
     "data": {
      "image/png": "[encoded data removed]",
      "text/plain": [
       "<Figure size 432x288 with 1 Axes>"
      ]
     },
     "metadata": {
      "needs_background": "light"
     },
     "output_type": "display_data"
    }
   ],
   "source": [
    "plt.scatter(y_test2,predictions_gs) # hier nog even verder naar kijken; wat betekent het"
   ]
  },
  {
   "cell_type": "code",
   "execution_count": 52,
   "metadata": {},
   "outputs": [],
   "source": [
    "from sklearn.svm import SVC\n",
    "\n",
    "svc = SVC()\n",
    "model_svc = svc.fit(X_train, y_train2)\n",
    "predictions_svc = svc.predict(X_test)\n",
    "\n",
    "svc_score = model_svc.score(X_test,y_test2) * 100"
   ]
  },
  {
   "cell_type": "code",
   "execution_count": 53,
   "metadata": {},
   "outputs": [
    {
     "data": {
      "text/plain": [
       "34.943473792394656"
      ]
     },
     "execution_count": 53,
     "metadata": {},
     "output_type": "execute_result"
    }
   ],
   "source": [
    "svc_score"
   ]
  },
  {
   "cell_type": "code",
   "execution_count": 54,
   "metadata": {},
   "outputs": [],
   "source": [
    "from sklearn.tree import DecisionTreeClassifier"
   ]
  },
  {
   "cell_type": "code",
   "execution_count": 55,
   "metadata": {},
   "outputs": [],
   "source": [
    "dt = DecisionTreeClassifier()\n",
    "model_dt = dt.fit(X_train, y_train2)\n",
    "predictions_dt = dt.predict(X_test)\n",
    "\n",
    "dt_score = model_dt.score(X_test,y_test2) * 100"
   ]
  },
  {
   "cell_type": "code",
   "execution_count": 56,
   "metadata": {},
   "outputs": [
    {
     "data": {
      "text/plain": [
       "31.96300102774923"
      ]
     },
     "execution_count": 56,
     "metadata": {},
     "output_type": "execute_result"
    }
   ],
   "source": [
    "dt_score"
   ]
  },
  {
   "cell_type": "code",
   "execution_count": 57,
   "metadata": {},
   "outputs": [],
   "source": [
    "from sklearn.neighbors import KNeighborsClassifier"
   ]
  },
  {
   "cell_type": "code",
   "execution_count": 58,
   "metadata": {},
   "outputs": [],
   "source": [
    "knn = KNeighborsClassifier()\n",
    "model_knn = knn.fit(X_train, y_train2)\n",
    "predictions_knn = knn.predict(X_test)\n",
    "\n",
    "knn_score = model_knn.score(X_test,y_test2) * 100"
   ]
  },
  {
   "cell_type": "code",
   "execution_count": 59,
   "metadata": {},
   "outputs": [
    {
     "data": {
      "text/plain": [
       "31.551901336073996"
      ]
     },
     "execution_count": 59,
     "metadata": {},
     "output_type": "execute_result"
    }
   ],
   "source": [
    "knn_score"
   ]
  },
  {
   "cell_type": "code",
   "execution_count": 60,
   "metadata": {},
   "outputs": [],
   "source": [
    "from sklearn.linear_model import Perceptron"
   ]
  },
  {
   "cell_type": "code",
   "execution_count": 61,
   "metadata": {},
   "outputs": [],
   "source": [
    "perceptron = Perceptron()\n",
    "model_perceptron = perceptron.fit(X_train, y_train2)\n",
    "predictions_perceptron = perceptron.predict(X_test)\n",
    "\n",
    "perceptron_score = model_perceptron.score(X_test,y_test2) * 100"
   ]
  },
  {
   "cell_type": "code",
   "execution_count": 62,
   "metadata": {},
   "outputs": [
    {
     "data": {
      "text/plain": [
       "6.3720452209660845"
      ]
     },
     "execution_count": 62,
     "metadata": {},
     "output_type": "execute_result"
    }
   ],
   "source": [
    "perceptron_score"
   ]
  },
  {
   "cell_type": "code",
   "execution_count": 63,
   "metadata": {},
   "outputs": [],
   "source": [
    "from sklearn.ensemble import RandomForestClassifier"
   ]
  },
  {
   "cell_type": "code",
   "execution_count": 64,
   "metadata": {},
   "outputs": [],
   "source": [
    "randomforest = RandomForestClassifier()\n",
    "model_randomforest = randomforest.fit(X_train, y_train2)\n",
    "predictions_randomforest = randomforest.predict(X_test)\n",
    "randomforest_score = model_randomforest.score(X_test,y_test2) * 100"
   ]
  },
  {
   "cell_type": "code",
   "execution_count": 65,
   "metadata": {},
   "outputs": [
    {
     "data": {
      "text/plain": [
       "32.27132579650565"
      ]
     },
     "execution_count": 65,
     "metadata": {},
     "output_type": "execute_result"
    }
   ],
   "source": [
    "randomforest_score"
   ]
  },
  {
   "cell_type": "code",
   "execution_count": 66,
   "metadata": {},
   "outputs": [],
   "source": [
    "from sklearn.linear_model import SGDClassifier"
   ]
  },
  {
   "cell_type": "code",
   "execution_count": 67,
   "metadata": {},
   "outputs": [],
   "source": [
    "sgd = SGDClassifier()\n",
    "model_sgd = sgd.fit(X_train, y_train2)\n",
    "predictions_sgd = sgd.predict(X_test)\n",
    "sgd_score = model_sgd.score(X_test, y_test2) * 100"
   ]
  },
  {
   "cell_type": "code",
   "execution_count": 68,
   "metadata": {},
   "outputs": [
    {
     "data": {
      "text/plain": [
       "1.9527235354573484"
      ]
     },
     "execution_count": 68,
     "metadata": {},
     "output_type": "execute_result"
    }
   ],
   "source": [
    "sgd_score"
   ]
  },
  {
   "cell_type": "code",
   "execution_count": 69,
   "metadata": {},
   "outputs": [],
   "source": [
    "from sklearn.ensemble import GradientBoostingClassifier"
   ]
  },
  {
   "cell_type": "code",
   "execution_count": 70,
   "metadata": {},
   "outputs": [],
   "source": [
    "gbk = GradientBoostingClassifier()\n",
    "model_gbk = gbk.fit(X_train, y_train2)\n",
    "predictions_gbk = gbk.predict(X_test)\n",
    "gbk_score = model_gbk.score(X_test, y_test2) * 100"
   ]
  },
  {
   "cell_type": "code",
   "execution_count": 71,
   "metadata": {},
   "outputs": [
    {
     "data": {
      "text/plain": [
       "34.224049331963"
      ]
     },
     "execution_count": 71,
     "metadata": {},
     "output_type": "execute_result"
    }
   ],
   "source": [
    "gbk_score"
   ]
  },
  {
   "cell_type": "code",
   "execution_count": 72,
   "metadata": {},
   "outputs": [
    {
     "data": {
      "text/html": [
       "<div>\n",
       "<style scoped>\n",
       "    .dataframe tbody tr th:only-of-type {\n",
       "        vertical-align: middle;\n",
       "    }\n",
       "\n",
       "    .dataframe tbody tr th {\n",
       "        vertical-align: top;\n",
       "    }\n",
       "\n",
       "    .dataframe thead th {\n",
       "        text-align: right;\n",
       "    }\n",
       "</style>\n",
       "<table border=\"1\" class=\"dataframe\">\n",
       "  <thead>\n",
       "    <tr style=\"text-align: right;\">\n",
       "      <th></th>\n",
       "      <th>Model</th>\n",
       "      <th>Score</th>\n",
       "    </tr>\n",
       "  </thead>\n",
       "  <tbody>\n",
       "    <tr>\n",
       "      <th>2</th>\n",
       "      <td>SVC</td>\n",
       "      <td>34.943474</td>\n",
       "    </tr>\n",
       "    <tr>\n",
       "      <th>1</th>\n",
       "      <td>Gaussian</td>\n",
       "      <td>34.429599</td>\n",
       "    </tr>\n",
       "    <tr>\n",
       "      <th>7</th>\n",
       "      <td>GradientBoostingClassifier</td>\n",
       "      <td>34.224049</td>\n",
       "    </tr>\n",
       "    <tr>\n",
       "      <th>3</th>\n",
       "      <td>Decision Tree</td>\n",
       "      <td>31.963001</td>\n",
       "    </tr>\n",
       "    <tr>\n",
       "      <th>4</th>\n",
       "      <td>Kneighbors</td>\n",
       "      <td>31.551901</td>\n",
       "    </tr>\n",
       "    <tr>\n",
       "      <th>5</th>\n",
       "      <td>Perceptron</td>\n",
       "      <td>6.372045</td>\n",
       "    </tr>\n",
       "    <tr>\n",
       "      <th>6</th>\n",
       "      <td>SGDClassifier</td>\n",
       "      <td>1.952724</td>\n",
       "    </tr>\n",
       "    <tr>\n",
       "      <th>0</th>\n",
       "      <td>Logistic Regression</td>\n",
       "      <td>0.959642</td>\n",
       "    </tr>\n",
       "  </tbody>\n",
       "</table>\n",
       "</div>"
      ],
      "text/plain": [
       "                        Model      Score\n",
       "2                         SVC  34.943474\n",
       "1                    Gaussian  34.429599\n",
       "7  GradientBoostingClassifier  34.224049\n",
       "3               Decision Tree  31.963001\n",
       "4                  Kneighbors  31.551901\n",
       "5                  Perceptron   6.372045\n",
       "6               SGDClassifier   1.952724\n",
       "0         Logistic Regression   0.959642"
      ]
     },
     "execution_count": 72,
     "metadata": {},
     "output_type": "execute_result"
    }
   ],
   "source": [
    "vergelijking = pd.DataFrame({'Model':['Logistic Regression','Gaussian','SVC','Decision Tree','Kneighbors','Perceptron','SGDClassifier','GradientBoostingClassifier'],'Score': [lr_score,gs_score,svc_score,dt_score,knn_score,perceptron_score,sgd_score,gbk_score]})\n",
    "vergelijking.sort_values(by='Score',ascending=False)"
   ]
  },
  {
   "cell_type": "markdown",
   "metadata": {},
   "source": [
    "# betere scores krijgen:"
   ]
  },
  {
   "cell_type": "code",
   "execution_count": 73,
   "metadata": {},
   "outputs": [],
   "source": [
    "selection_new = selection\n",
    "actor_1_name_new = selection_new['actor_1_name']\n",
    "actor_1_facebook_likes_new = selection_new['actor_1_facebook_likes']\n",
    "\n",
    "movie_title_new = selection_new.index.values.tolist()\n",
    "imdb_score_new = selection_new['imdb_score']"
   ]
  },
  {
   "cell_type": "code",
   "execution_count": 74,
   "metadata": {},
   "outputs": [
    {
     "data": {
      "image/png": "[encoded data removed]",
      "text/plain": [
       "<Figure size 432x288 with 1 Axes>"
      ]
     },
     "metadata": {
      "needs_background": "light"
     },
     "output_type": "display_data"
    }
   ],
   "source": [
    "plt.scatter(imdb_score_new,actor_1_facebook_likes_new)\n",
    "plt.show()"
   ]
  },
  {
   "cell_type": "code",
   "execution_count": 75,
   "metadata": {},
   "outputs": [
    {
     "name": "stdout",
     "output_type": "stream",
     "text": [
      "0\n",
      "22\n"
     ]
    }
   ],
   "source": [
    "print(len(selection_new[selection_new['imdb_score'] == 0]))\n",
    "print(len(selection_new[selection_new['actor_1_facebook_likes'] == 0]))"
   ]
  },
  {
   "cell_type": "markdown",
   "metadata": {},
   "source": [
    "Er zijn voor 22 nul-waarden voor actor_1_facebook_likes. Omdat er niet duidelijke correlatie is tussen imdb_score en actor_1_facebook_likes, zouden we geen lineaire regressie kunnen toepassen omdat het dat geen duidelijk en eerlijk beeld schetst"
   ]
  },
  {
   "cell_type": "code",
   "execution_count": 76,
   "metadata": {},
   "outputs": [],
   "source": [
    "gemiddelde_actor_1_facebook_likes = selection_new['actor_1_facebook_likes'].mean()"
   ]
  },
  {
   "cell_type": "code",
   "execution_count": 77,
   "metadata": {},
   "outputs": [
    {
     "data": {
      "text/plain": [
       "6686.433271643019"
      ]
     },
     "execution_count": 77,
     "metadata": {},
     "output_type": "execute_result"
    }
   ],
   "source": [
    "gemiddelde_actor_1_facebook_likes"
   ]
  },
  {
   "cell_type": "code",
   "execution_count": 78,
   "metadata": {},
   "outputs": [
    {
     "name": "stdout",
     "output_type": "stream",
     "text": [
      "                                           title_year  imdb_score  \\\n",
      "movie_title                                                         \n",
      "Travelers and Magicians                          2003         7.5   \n",
      "The Gatekeepers                                  2012         7.6   \n",
      "Wal-Mart: The High Cost of Low Price             2005         6.8   \n",
      "Queen of the Mountains                           2014         8.7   \n",
      "Elza                                             2011         6.7   \n",
      "They Will Have to Kill Us First                  2015         7.7   \n",
      "Crop Circles: Quest for Truth                    2002         7.0   \n",
      "Julija in alfa Romeo                             2015         6.4   \n",
      "Faith Connections                                2013         7.0   \n",
      "Mad Hot Ballroom                                 2005         7.5   \n",
      "Born to Fly: Elizabeth Streb vs. Gravity         2014         6.8   \n",
      "51 Birch Street                                  2005         7.5   \n",
      "UnDivided                                        2013         7.8   \n",
      "Ordet                                            1955         8.1   \n",
      "Butterfly Girl                                   2014         8.7   \n",
      "The World Is Mine                                2015         6.5   \n",
      "Antarctic Edge: 70° South                        2015         7.0   \n",
      "Top Spin                                         2014         7.1   \n",
      "Indie Game: The Movie                            2012         7.7   \n",
      "Super Size Me                                    2004         7.3   \n",
      "Cavite                                           2005         6.3   \n",
      "A Plague So Pleasant                             2013         6.3   \n",
      "\n",
      "                                           movie_facebook_likes  \\\n",
      "movie_title                                                       \n",
      "Travelers and Magicians                                     353   \n",
      "The Gatekeepers                                               0   \n",
      "Wal-Mart: The High Cost of Low Price                          0   \n",
      "Queen of the Mountains                                        0   \n",
      "Elza                                                         24   \n",
      "They Will Have to Kill Us First                              34   \n",
      "Crop Circles: Quest for Truth                                32   \n",
      "Julija in alfa Romeo                                         18   \n",
      "Faith Connections                                           126   \n",
      "Mad Hot Ballroom                                            588   \n",
      "Born to Fly: Elizabeth Streb vs. Gravity                     44   \n",
      "51 Birch Street                                              70   \n",
      "UnDivided                                                    53   \n",
      "Ordet                                                       863   \n",
      "Butterfly Girl                                               88   \n",
      "The World Is Mine                                            34   \n",
      "Antarctic Edge: 70° South                                   215   \n",
      "Top Spin                                                    116   \n",
      "Indie Game: The Movie                                         0   \n",
      "Super Size Me                                                 0   \n",
      "Cavite                                                       74   \n",
      "A Plague So Pleasant                                         16   \n",
      "\n",
      "                                                       director_name  \\\n",
      "movie_title                                                            \n",
      "Travelers and Magicians                               Khyentse Norbu   \n",
      "The Gatekeepers                                           Dror Moreh   \n",
      "Wal-Mart: The High Cost of Low Price                Robert Greenwald   \n",
      "Queen of the Mountains                              Sadyk Sher-Niyaz   \n",
      "Elza                                              Mariette Monpierre   \n",
      "They Will Have to Kill Us First                     Johanna Schwartz   \n",
      "Crop Circles: Quest for Truth                        William Gazecki   \n",
      "Julija in alfa Romeo                                   Blaz Zavrsnik   \n",
      "Faith Connections                                          Pan Nalin   \n",
      "Mad Hot Ballroom                                      Marilyn Agrelo   \n",
      "Born to Fly: Elizabeth Streb vs. Gravity              Catherine Gund   \n",
      "51 Birch Street                                           Doug Block   \n",
      "UnDivided                                                 Sam Martin   \n",
      "Ordet                                            Carl Theodor Dreyer   \n",
      "Butterfly Girl                                             Cary Bell   \n",
      "The World Is Mine                          Nicolae Constantin Tanase   \n",
      "Antarctic Edge: 70° South                                Dena Seidel   \n",
      "Top Spin                                                 Sara Newens   \n",
      "Indie Game: The Movie                                  Lisanne Pajot   \n",
      "Super Size Me                                        Morgan Spurlock   \n",
      "Cavite                                              Neill Dela Llana   \n",
      "A Plague So Pleasant                                Benjamin Roberds   \n",
      "\n",
      "                                              gross  duration  \\\n",
      "movie_title                                                     \n",
      "Travelers and Magicians                      505295       108   \n",
      "The Gatekeepers                             2408553       101   \n",
      "Wal-Mart: The High Cost of Low Price              0        20   \n",
      "Queen of the Mountains                            0       135   \n",
      "Elza                                              0        78   \n",
      "They Will Have to Kill Us First                   0       105   \n",
      "Crop Circles: Quest for Truth                     0       115   \n",
      "Julija in alfa Romeo                              0        83   \n",
      "Faith Connections                                 0       115   \n",
      "Mad Hot Ballroom                            8044906       105   \n",
      "Born to Fly: Elizabeth Streb vs. Gravity      21199        82   \n",
      "51 Birch Street                               84689        90   \n",
      "UnDivided                                         0        66   \n",
      "Ordet                                             0       126   \n",
      "Butterfly Girl                                    0        78   \n",
      "The World Is Mine                                 0       104   \n",
      "Antarctic Edge: 70° South                      4914        72   \n",
      "Top Spin                                       5858        80   \n",
      "Indie Game: The Movie                             0       103   \n",
      "Super Size Me                              11529368       100   \n",
      "Cavite                                        70071        80   \n",
      "A Plague So Pleasant                              0        76   \n",
      "\n",
      "                                           num_voted_users  \\\n",
      "movie_title                                                  \n",
      "Travelers and Magicians                               1747   \n",
      "The Gatekeepers                                       4547   \n",
      "Wal-Mart: The High Cost of Low Price                  4120   \n",
      "Queen of the Mountains                                3144   \n",
      "Elza                                                    19   \n",
      "They Will Have to Kill Us First                         74   \n",
      "Crop Circles: Quest for Truth                          204   \n",
      "Julija in alfa Romeo                                    86   \n",
      "Faith Connections                                      113   \n",
      "Mad Hot Ballroom                                      3156   \n",
      "Born to Fly: Elizabeth Streb vs. Gravity                40   \n",
      "51 Birch Street                                        695   \n",
      "UnDivided                                                6   \n",
      "Ordet                                                 9903   \n",
      "Butterfly Girl                                          27   \n",
      "The World Is Mine                                      354   \n",
      "Antarctic Edge: 70° South                              123   \n",
      "Top Spin                                               260   \n",
      "Indie Game: The Movie                                16701   \n",
      "Super Size Me                                        85028   \n",
      "Cavite                                                 589   \n",
      "A Plague So Pleasant                                    38   \n",
      "\n",
      "                                                 actor_1_name  \\\n",
      "movie_title                                                     \n",
      "Travelers and Magicians                       Tshewang Dendup   \n",
      "The Gatekeepers                                    Ami Ayalon   \n",
      "Wal-Mart: The High Cost of Low Price                Lee Scott   \n",
      "Queen of the Mountains                        Elina Abai Kyzy   \n",
      "Elza                                          Stana Roumillac   \n",
      "They Will Have to Kill Us First                   Aliou Touré   \n",
      "Crop Circles: Quest for Truth                 Karen Alexander   \n",
      "Julija in alfa Romeo                       Dario Nozic Serini   \n",
      "Faith Connections                                  Bhole Baba   \n",
      "Mad Hot Ballroom                               Heather Berman   \n",
      "Born to Fly: Elizabeth Streb vs. Gravity      Elizabeth Streb   \n",
      "51 Birch Street                                   Carol Block   \n",
      "UnDivided                                           Sam Adams   \n",
      "Ordet                                           Hanne Aagesen   \n",
      "Butterfly Girl                                  Abigail Evans   \n",
      "The World Is Mine                              Iulia Ciochina   \n",
      "Antarctic Edge: 70° South                        Naderev Sano   \n",
      "Top Spin                                          Ariel Hsing   \n",
      "Indie Game: The Movie                           Jonathan Blow   \n",
      "Super Size Me                                 Chemeeka Walker   \n",
      "Cavite                                            Ian Gamazon   \n",
      "A Plague So Pleasant                              Eva Boehnke   \n",
      "\n",
      "                                                actor_2_name  \\\n",
      "movie_title                                                    \n",
      "Travelers and Magicians                         Lhakpa Dorji   \n",
      "The Gatekeepers                                 Yuval Diskin   \n",
      "Wal-Mart: The High Cost of Low Price              Jon Hunter   \n",
      "Queen of the Mountains                     Aziz Muradillayev   \n",
      "Elza                                       Christophe Cherki   \n",
      "They Will Have to Kill Us First                  Garba Touré   \n",
      "Crop Circles: Quest for Truth                  Colin Andrews   \n",
      "Julija in alfa Romeo                             Spela Colja   \n",
      "Faith Connections                            Pant Shirt Baba   \n",
      "Mad Hot Ballroom                                Eva Carrozza   \n",
      "Born to Fly: Elizabeth Streb vs. Gravity        Sarah Callan   \n",
      "51 Birch Street                                  Ellen Block   \n",
      "UnDivided                                         Steve Duin   \n",
      "Ordet                                       Sylvia Eckhausen   \n",
      "Butterfly Girl                                  Stacie Evans   \n",
      "The World Is Mine                            Ana Maria Guran   \n",
      "Antarctic Edge: 70° South                       Hugh Ducklow   \n",
      "Top Spin                                        Xinhua Jiang   \n",
      "Indie Game: The Movie                        Edmund McMillen   \n",
      "Super Size Me                                 Amanda Kearsan   \n",
      "Cavite                                       Edgar Tancangco   \n",
      "A Plague So Pleasant                           Maxwell Moody   \n",
      "\n",
      "                                                            actor_3_name  \\\n",
      "movie_title                                                                \n",
      "Travelers and Magicians                                      Sonam Kinga   \n",
      "The Gatekeepers                                              Yaakov Peri   \n",
      "Wal-Mart: The High Cost of Low Price                         Matt Hunter   \n",
      "Queen of the Mountains                                  Mirlan Abdulayev   \n",
      "Elza                                                        Teddy Doloir   \n",
      "They Will Have to Kill Us First                              Khaira Arby   \n",
      "Crop Circles: Quest for Truth                             Francine Blake   \n",
      "Julija in alfa Romeo                                     Andrej Nahtigal   \n",
      "Faith Connections                          Shriman Umeshanad Brahmachari   \n",
      "Mad Hot Ballroom                                            Paul Daggett   \n",
      "Born to Fly: Elizabeth Streb vs. Gravity                  Laura Flanders   \n",
      "51 Birch Street                                               Mike Block   \n",
      "UnDivided                                                     Jeff Jacob   \n",
      "Ordet                                                   Ejner Federspiel   \n",
      "Butterfly Girl                                              Emily Gorell   \n",
      "The World Is Mine                                           Ana Vatamanu   \n",
      "Antarctic Edge: 70° South                                     Mike Brett   \n",
      "Top Spin                                                 Michael Landers   \n",
      "Indie Game: The Movie                                          Phil Fish   \n",
      "Super Size Me                                           Amelia Giancarlo   \n",
      "Cavite                                                         Quynn Ton   \n",
      "A Plague So Pleasant                                      David Chandler   \n",
      "\n",
      "                                           actor_1_facebook_likes  \\\n",
      "movie_title                                                         \n",
      "Travelers and Magicians                                         0   \n",
      "The Gatekeepers                                                 0   \n",
      "Wal-Mart: The High Cost of Low Price                            0   \n",
      "Queen of the Mountains                                          0   \n",
      "Elza                                                            0   \n",
      "They Will Have to Kill Us First                                 0   \n",
      "Crop Circles: Quest for Truth                                   0   \n",
      "Julija in alfa Romeo                                            0   \n",
      "Faith Connections                                               0   \n",
      "Mad Hot Ballroom                                                0   \n",
      "Born to Fly: Elizabeth Streb vs. Gravity                        0   \n",
      "51 Birch Street                                                 0   \n",
      "UnDivided                                                       0   \n",
      "Ordet                                                           0   \n",
      "Butterfly Girl                                                  0   \n",
      "The World Is Mine                                               0   \n",
      "Antarctic Edge: 70° South                                       0   \n",
      "Top Spin                                                        0   \n",
      "Indie Game: The Movie                                           0   \n",
      "Super Size Me                                                   0   \n",
      "Cavite                                                          0   \n",
      "A Plague So Pleasant                                            0   \n",
      "\n",
      "                                           actor_2_facebook_likes  \\\n",
      "movie_title                                                         \n",
      "Travelers and Magicians                                         0   \n",
      "The Gatekeepers                                                 0   \n",
      "Wal-Mart: The High Cost of Low Price                            0   \n",
      "Queen of the Mountains                                          0   \n",
      "Elza                                                            0   \n",
      "They Will Have to Kill Us First                                 0   \n",
      "Crop Circles: Quest for Truth                                   0   \n",
      "Julija in alfa Romeo                                            0   \n",
      "Faith Connections                                               0   \n",
      "Mad Hot Ballroom                                                0   \n",
      "Born to Fly: Elizabeth Streb vs. Gravity                        0   \n",
      "51 Birch Street                                                 0   \n",
      "UnDivided                                                       0   \n",
      "Ordet                                                           0   \n",
      "Butterfly Girl                                                  0   \n",
      "The World Is Mine                                               0   \n",
      "Antarctic Edge: 70° South                                       0   \n",
      "Top Spin                                                        0   \n",
      "Indie Game: The Movie                                           0   \n",
      "Super Size Me                                                   0   \n",
      "Cavite                                                          0   \n",
      "A Plague So Pleasant                                            0   \n",
      "\n",
      "                                           actor_3_facebook_likes  \\\n",
      "movie_title                                                         \n",
      "Travelers and Magicians                                         0   \n",
      "The Gatekeepers                                                 0   \n",
      "Wal-Mart: The High Cost of Low Price                            0   \n",
      "Queen of the Mountains                                          0   \n",
      "Elza                                                            0   \n",
      "They Will Have to Kill Us First                                 0   \n",
      "Crop Circles: Quest for Truth                                   0   \n",
      "Julija in alfa Romeo                                            0   \n",
      "Faith Connections                                               0   \n",
      "Mad Hot Ballroom                                                0   \n",
      "Born to Fly: Elizabeth Streb vs. Gravity                        0   \n",
      "51 Birch Street                                                 0   \n",
      "UnDivided                                                       0   \n",
      "Ordet                                                           0   \n",
      "Butterfly Girl                                                  0   \n",
      "The World Is Mine                                               0   \n",
      "Antarctic Edge: 70° South                                       0   \n",
      "Top Spin                                                        0   \n",
      "Indie Game: The Movie                                           0   \n",
      "Super Size Me                                                   0   \n",
      "Cavite                                                          0   \n",
      "A Plague So Pleasant                                            0   \n",
      "\n",
      "                                                                       genres  \n",
      "movie_title                                                                    \n",
      "Travelers and Magicians                                       Adventure|Drama  \n",
      "The Gatekeepers                                               Documentary|War  \n",
      "Wal-Mart: The High Cost of Low Price                              Documentary  \n",
      "Queen of the Mountains                         Action|Biography|Drama|History  \n",
      "Elza                                                                    Drama  \n",
      "They Will Have to Kill Us First                                   Documentary  \n",
      "Crop Circles: Quest for Truth                                     Documentary  \n",
      "Julija in alfa Romeo                                                   Comedy  \n",
      "Faith Connections                                 Biography|Documentary|Drama  \n",
      "Mad Hot Ballroom                                     Documentary|Family|Music  \n",
      "Born to Fly: Elizabeth Streb vs. Gravity   Action|Biography|Documentary|Sport  \n",
      "51 Birch Street                                                   Documentary  \n",
      "UnDivided                                                         Documentary  \n",
      "Ordet                                                           Drama|Fantasy  \n",
      "Butterfly Girl                                                    Documentary  \n",
      "The World Is Mine                                                       Drama  \n",
      "Antarctic Edge: 70° South                               Adventure|Documentary  \n",
      "Top Spin                                                          Documentary  \n",
      "Indie Game: The Movie                                             Documentary  \n",
      "Super Size Me                                        Comedy|Documentary|Drama  \n",
      "Cavite                                                               Thriller  \n",
      "A Plague So Pleasant                                    Drama|Horror|Thriller  \n"
     ]
    }
   ],
   "source": [
    "print(selection_new[selection_new['actor_1_facebook_likes']== 0])"
   ]
  },
  {
   "cell_type": "code",
   "execution_count": 79,
   "metadata": {},
   "outputs": [],
   "source": [
    "selection_new = selection_new.mask(selection_new == 0, gemiddelde_actor_1_facebook_likes).round()"
   ]
  },
  {
   "cell_type": "code",
   "execution_count": 80,
   "metadata": {},
   "outputs": [
    {
     "name": "stdout",
     "output_type": "stream",
     "text": [
      "0\n"
     ]
    }
   ],
   "source": [
    "print(len(selection_new[selection_new['actor_1_facebook_likes'] == 0]))"
   ]
  },
  {
   "cell_type": "code",
   "execution_count": 81,
   "metadata": {},
   "outputs": [
    {
     "data": {
      "text/plain": [
       "(array([ 1.,  2.,  3.,  4.,  5.,  6.,  7.,  8.,  9., 10.]),\n",
       " <a list of 10 Text xticklabel objects>)"
      ]
     },
     "execution_count": 81,
     "metadata": {},
     "output_type": "execute_result"
    },
    {
     "data": {
      "image/png": "[encoded data removed]",
      "text/plain": [
       "<Figure size 432x288 with 1 Axes>"
      ]
     },
     "metadata": {
      "needs_background": "light"
     },
     "output_type": "display_data"
    }
   ],
   "source": [
    "plt.scatter(imdb_score,actor_1_facebook_likes)\n",
    "plt.xticks(rotation=90)"
   ]
  },
  {
   "cell_type": "code",
   "execution_count": 84,
   "metadata": {},
   "outputs": [
    {
     "data": {
      "text/html": [
       "<div>\n",
       "<style scoped>\n",
       "    .dataframe tbody tr th:only-of-type {\n",
       "        vertical-align: middle;\n",
       "    }\n",
       "\n",
       "    .dataframe tbody tr th {\n",
       "        vertical-align: top;\n",
       "    }\n",
       "\n",
       "    .dataframe thead th {\n",
       "        text-align: right;\n",
       "    }\n",
       "</style>\n",
       "<table border=\"1\" class=\"dataframe\">\n",
       "  <thead>\n",
       "    <tr style=\"text-align: right;\">\n",
       "      <th></th>\n",
       "      <th>title_year</th>\n",
       "      <th>imdb_score</th>\n",
       "      <th>movie_facebook_likes</th>\n",
       "      <th>gross</th>\n",
       "      <th>duration</th>\n",
       "      <th>num_voted_users</th>\n",
       "      <th>actor_1_facebook_likes</th>\n",
       "      <th>actor_2_facebook_likes</th>\n",
       "      <th>actor_3_facebook_likes</th>\n",
       "    </tr>\n",
       "  </thead>\n",
       "  <tbody>\n",
       "    <tr>\n",
       "      <th>title_year</th>\n",
       "      <td>1.000000</td>\n",
       "      <td>-0.205250</td>\n",
       "      <td>0.212607</td>\n",
       "      <td>0.062368</td>\n",
       "      <td>-0.014770</td>\n",
       "      <td>0.008412</td>\n",
       "      <td>0.087340</td>\n",
       "      <td>0.107668</td>\n",
       "      <td>0.100156</td>\n",
       "    </tr>\n",
       "    <tr>\n",
       "      <th>imdb_score</th>\n",
       "      <td>-0.205250</td>\n",
       "      <td>1.000000</td>\n",
       "      <td>0.268499</td>\n",
       "      <td>0.195580</td>\n",
       "      <td>0.023605</td>\n",
       "      <td>0.415762</td>\n",
       "      <td>0.084615</td>\n",
       "      <td>0.094257</td>\n",
       "      <td>0.076708</td>\n",
       "    </tr>\n",
       "    <tr>\n",
       "      <th>movie_facebook_likes</th>\n",
       "      <td>0.212607</td>\n",
       "      <td>0.268499</td>\n",
       "      <td>1.000000</td>\n",
       "      <td>0.405269</td>\n",
       "      <td>0.027442</td>\n",
       "      <td>0.543347</td>\n",
       "      <td>0.144643</td>\n",
       "      <td>0.236578</td>\n",
       "      <td>0.220944</td>\n",
       "    </tr>\n",
       "    <tr>\n",
       "      <th>gross</th>\n",
       "      <td>0.062368</td>\n",
       "      <td>0.195580</td>\n",
       "      <td>0.405269</td>\n",
       "      <td>1.000000</td>\n",
       "      <td>0.030743</td>\n",
       "      <td>0.648209</td>\n",
       "      <td>0.160360</td>\n",
       "      <td>0.261522</td>\n",
       "      <td>0.235723</td>\n",
       "    </tr>\n",
       "    <tr>\n",
       "      <th>duration</th>\n",
       "      <td>-0.014770</td>\n",
       "      <td>0.023605</td>\n",
       "      <td>0.027442</td>\n",
       "      <td>0.030743</td>\n",
       "      <td>1.000000</td>\n",
       "      <td>0.044733</td>\n",
       "      <td>0.005471</td>\n",
       "      <td>0.013631</td>\n",
       "      <td>0.008452</td>\n",
       "    </tr>\n",
       "    <tr>\n",
       "      <th>num_voted_users</th>\n",
       "      <td>0.008412</td>\n",
       "      <td>0.415762</td>\n",
       "      <td>0.543347</td>\n",
       "      <td>0.648209</td>\n",
       "      <td>0.044733</td>\n",
       "      <td>1.000000</td>\n",
       "      <td>0.187766</td>\n",
       "      <td>0.253019</td>\n",
       "      <td>0.216284</td>\n",
       "    </tr>\n",
       "    <tr>\n",
       "      <th>actor_1_facebook_likes</th>\n",
       "      <td>0.087340</td>\n",
       "      <td>0.084615</td>\n",
       "      <td>0.144643</td>\n",
       "      <td>0.160360</td>\n",
       "      <td>0.005471</td>\n",
       "      <td>0.187766</td>\n",
       "      <td>1.000000</td>\n",
       "      <td>0.381770</td>\n",
       "      <td>0.204221</td>\n",
       "    </tr>\n",
       "    <tr>\n",
       "      <th>actor_2_facebook_likes</th>\n",
       "      <td>0.107668</td>\n",
       "      <td>0.094257</td>\n",
       "      <td>0.236578</td>\n",
       "      <td>0.261522</td>\n",
       "      <td>0.013631</td>\n",
       "      <td>0.253019</td>\n",
       "      <td>0.381770</td>\n",
       "      <td>1.000000</td>\n",
       "      <td>0.523364</td>\n",
       "    </tr>\n",
       "    <tr>\n",
       "      <th>actor_3_facebook_likes</th>\n",
       "      <td>0.100156</td>\n",
       "      <td>0.076708</td>\n",
       "      <td>0.220944</td>\n",
       "      <td>0.235723</td>\n",
       "      <td>0.008452</td>\n",
       "      <td>0.216284</td>\n",
       "      <td>0.204221</td>\n",
       "      <td>0.523364</td>\n",
       "      <td>1.000000</td>\n",
       "    </tr>\n",
       "  </tbody>\n",
       "</table>\n",
       "</div>"
      ],
      "text/plain": [
       "                        title_year  imdb_score  movie_facebook_likes  \\\n",
       "title_year                1.000000   -0.205250              0.212607   \n",
       "imdb_score               -0.205250    1.000000              0.268499   \n",
       "movie_facebook_likes      0.212607    0.268499              1.000000   \n",
       "gross                     0.062368    0.195580              0.405269   \n",
       "duration                 -0.014770    0.023605              0.027442   \n",
       "num_voted_users           0.008412    0.415762              0.543347   \n",
       "actor_1_facebook_likes    0.087340    0.084615              0.144643   \n",
       "actor_2_facebook_likes    0.107668    0.094257              0.236578   \n",
       "actor_3_facebook_likes    0.100156    0.076708              0.220944   \n",
       "\n",
       "                           gross  duration  num_voted_users  \\\n",
       "title_year              0.062368 -0.014770         0.008412   \n",
       "imdb_score              0.195580  0.023605         0.415762   \n",
       "movie_facebook_likes    0.405269  0.027442         0.543347   \n",
       "gross                   1.000000  0.030743         0.648209   \n",
       "duration                0.030743  1.000000         0.044733   \n",
       "num_voted_users         0.648209  0.044733         1.000000   \n",
       "actor_1_facebook_likes  0.160360  0.005471         0.187766   \n",
       "actor_2_facebook_likes  0.261522  0.013631         0.253019   \n",
       "actor_3_facebook_likes  0.235723  0.008452         0.216284   \n",
       "\n",
       "                        actor_1_facebook_likes  actor_2_facebook_likes  \\\n",
       "title_year                            0.087340                0.107668   \n",
       "imdb_score                            0.084615                0.094257   \n",
       "movie_facebook_likes                  0.144643                0.236578   \n",
       "gross                                 0.160360                0.261522   \n",
       "duration                              0.005471                0.013631   \n",
       "num_voted_users                       0.187766                0.253019   \n",
       "actor_1_facebook_likes                1.000000                0.381770   \n",
       "actor_2_facebook_likes                0.381770                1.000000   \n",
       "actor_3_facebook_likes                0.204221                0.523364   \n",
       "\n",
       "                        actor_3_facebook_likes  \n",
       "title_year                            0.100156  \n",
       "imdb_score                            0.076708  \n",
       "movie_facebook_likes                  0.220944  \n",
       "gross                                 0.235723  \n",
       "duration                              0.008452  \n",
       "num_voted_users                       0.216284  \n",
       "actor_1_facebook_likes                0.204221  \n",
       "actor_2_facebook_likes                0.523364  \n",
       "actor_3_facebook_likes                1.000000  "
      ]
     },
     "execution_count": 84,
     "metadata": {},
     "output_type": "execute_result"
    }
   ],
   "source": [
    "selection_new.corr()"
   ]
  },
  {
   "cell_type": "code",
   "execution_count": 89,
   "metadata": {},
   "outputs": [],
   "source": [
    "actor_1_facebook_likes_new = selection_new['actor_1_facebook_likes']\n",
    "imdb_score_new = selection_new['imdb_score']\n",
    "\n",
    "actor_1_facebook_likes_new = actor_1_facebook_likes_new.values.reshape(-1,1)"
   ]
  },
  {
   "cell_type": "code",
   "execution_count": 95,
   "metadata": {},
   "outputs": [
    {
     "name": "stdout",
     "output_type": "stream",
     "text": [
      "LinearRegression(copy_X=True, fit_intercept=True, n_jobs=None, normalize=False)\n"
     ]
    }
   ],
   "source": [
    "linreg_actor_imdb = lr.fit(actor_1_facebook_likes_new,imdb_score_new)\n",
    "print(linreg_actor_imdb)\n",
    "# print('m: ', linreg_actor_imdb.coef_[0][0])\n",
    "# print('c: ', linreg_actor_imdb.intercept_[0])"
   ]
  },
  {
   "cell_type": "code",
   "execution_count": 98,
   "metadata": {},
   "outputs": [],
   "source": [
    "regressie_actor_imdb = linreg_actor_imdb.predict(actor_1_facebook_likes_new)"
   ]
  }
 ],
 "metadata": {
  "kernelspec": {
   "display_name": "Python 3",
   "language": "python",
   "name": "python3"
  },
  "language_info": {
   "codemirror_mode": {
    "name": "ipython",
    "version": 3
   },
   "file_extension": ".py",
   "mimetype": "text/x-python",
   "name": "python",
   "nbconvert_exporter": "python",
   "pygments_lexer": "ipython3",
   "version": "3.7.0"
  }
 },
 "nbformat": 4,
 "nbformat_minor": 2
}
