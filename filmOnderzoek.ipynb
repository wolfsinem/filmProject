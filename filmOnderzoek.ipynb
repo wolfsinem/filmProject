{
 "cells": [
  {
   "cell_type": "markdown",
   "metadata": {},
   "source": [
    "# Computational Modelling - Martijn, Sinem en Gijs\n",
    "## Het data science proces\n",
    "Voor dit casusopdracht doorlopen we de eerste 4 stappen in het proces.\n",
    "\n",
    "- 1. Data collection, hiervoor hebben we al een dataset toegewezen  gekregen\n",
    "\n",
    "- 2. Data processing, bewerken van de dataset, dit is grotendeels al gedaan\n",
    "\n",
    "- 3. Data cleaning, opzoek naar dubbele en missende waarden\n",
    "\n",
    "- 4. Data exploration & analysishoe kunnen we met deze data de vragen beantwoorden \n",
    "\n",
    "- 5. Model building, relaties tussen variabelen leggen\n",
    "\n",
    "- 6. Visualization, verkenning van de data ondersteunen\n",
    "\n",
    "- 7. Communication, data science pipeline netjes genoteerd inleveren \n",
    "\n",
    "\n",
    "## Onderzoeksvragen:\n",
    "- Verhouding in kijkgedrag, wie gaat er naar de bioscoop, wie kijkt er online?\n",
    "- Wanneer is een film populair genoeg voor een sequel?\n",
    "- Leidt het casten van populaire acteur tot een meer bekeken film?\n",
    "\n",
    "## Eerste verkenning:\n",
    "Voor de eerste verkenning laden we met de python module pandas de file 'movie.csv' in zodat we goed bekijken wat daadwerkelijk in de database staat. We bekijken de dataset op verschillende manieren en hebben eronder \"Notes\" gemaakt zodat we een eerste indruk hebben van hoe de dataset er uitziet."
   ]
  },
  {
   "cell_type": "code",
   "execution_count": 2,
   "metadata": {},
   "outputs": [],
   "source": [
    "# import necessary libraries\n",
    "\n",
    "import pandas as pd\n",
    "import numpy as np\n",
    "\n",
    "import matplotlib.pyplot as plt\n",
    "import seaborn as sns\n",
    "%matplotlib inline\n",
    "\n",
    "import warnings\n",
    "warnings.filterwarnings('ignore')"
   ]
  },
  {
   "cell_type": "code",
   "execution_count": 3,
   "metadata": {},
   "outputs": [],
   "source": [
    "# load dataset\n",
    "movies = pd.read_csv('movie.csv')"
   ]
  },
  {
   "cell_type": "code",
   "execution_count": 11,
   "metadata": {
    "scrolled": true
   },
   "outputs": [
    {
     "data": {
      "text/html": [
       "<div>\n",
       "<style scoped>\n",
       "    .dataframe tbody tr th:only-of-type {\n",
       "        vertical-align: middle;\n",
       "    }\n",
       "\n",
       "    .dataframe tbody tr th {\n",
       "        vertical-align: top;\n",
       "    }\n",
       "\n",
       "    .dataframe thead th {\n",
       "        text-align: right;\n",
       "    }\n",
       "</style>\n",
       "<table border=\"1\" class=\"dataframe\">\n",
       "  <thead>\n",
       "    <tr style=\"text-align: right;\">\n",
       "      <th></th>\n",
       "      <th>color</th>\n",
       "      <th>director_name</th>\n",
       "      <th>num_critic_for_reviews</th>\n",
       "      <th>duration</th>\n",
       "      <th>director_facebook_likes</th>\n",
       "      <th>actor_3_facebook_likes</th>\n",
       "      <th>actor_2_name</th>\n",
       "      <th>actor_1_facebook_likes</th>\n",
       "      <th>gross</th>\n",
       "      <th>genres</th>\n",
       "      <th>...</th>\n",
       "      <th>num_user_for_reviews</th>\n",
       "      <th>language</th>\n",
       "      <th>country</th>\n",
       "      <th>content_rating</th>\n",
       "      <th>budget</th>\n",
       "      <th>title_year</th>\n",
       "      <th>actor_2_facebook_likes</th>\n",
       "      <th>imdb_score</th>\n",
       "      <th>aspect_ratio</th>\n",
       "      <th>movie_facebook_likes</th>\n",
       "    </tr>\n",
       "  </thead>\n",
       "  <tbody>\n",
       "    <tr>\n",
       "      <th>count</th>\n",
       "      <td>5024</td>\n",
       "      <td>4939</td>\n",
       "      <td>4993.000000</td>\n",
       "      <td>5028.000000</td>\n",
       "      <td>4939.000000</td>\n",
       "      <td>5020.000000</td>\n",
       "      <td>5030</td>\n",
       "      <td>5036.000000</td>\n",
       "      <td>4.159000e+03</td>\n",
       "      <td>5043</td>\n",
       "      <td>...</td>\n",
       "      <td>5022.000000</td>\n",
       "      <td>5031</td>\n",
       "      <td>5038</td>\n",
       "      <td>4740</td>\n",
       "      <td>4.551000e+03</td>\n",
       "      <td>4935.000000</td>\n",
       "      <td>5030.000000</td>\n",
       "      <td>5043.000000</td>\n",
       "      <td>4714.000000</td>\n",
       "      <td>5043.000000</td>\n",
       "    </tr>\n",
       "    <tr>\n",
       "      <th>unique</th>\n",
       "      <td>2</td>\n",
       "      <td>2398</td>\n",
       "      <td>NaN</td>\n",
       "      <td>NaN</td>\n",
       "      <td>NaN</td>\n",
       "      <td>NaN</td>\n",
       "      <td>3032</td>\n",
       "      <td>NaN</td>\n",
       "      <td>NaN</td>\n",
       "      <td>914</td>\n",
       "      <td>...</td>\n",
       "      <td>NaN</td>\n",
       "      <td>47</td>\n",
       "      <td>65</td>\n",
       "      <td>18</td>\n",
       "      <td>NaN</td>\n",
       "      <td>NaN</td>\n",
       "      <td>NaN</td>\n",
       "      <td>NaN</td>\n",
       "      <td>NaN</td>\n",
       "      <td>NaN</td>\n",
       "    </tr>\n",
       "    <tr>\n",
       "      <th>top</th>\n",
       "      <td>Color</td>\n",
       "      <td>Steven Spielberg</td>\n",
       "      <td>NaN</td>\n",
       "      <td>NaN</td>\n",
       "      <td>NaN</td>\n",
       "      <td>NaN</td>\n",
       "      <td>Morgan Freeman</td>\n",
       "      <td>NaN</td>\n",
       "      <td>NaN</td>\n",
       "      <td>Drama</td>\n",
       "      <td>...</td>\n",
       "      <td>NaN</td>\n",
       "      <td>English</td>\n",
       "      <td>USA</td>\n",
       "      <td>R</td>\n",
       "      <td>NaN</td>\n",
       "      <td>NaN</td>\n",
       "      <td>NaN</td>\n",
       "      <td>NaN</td>\n",
       "      <td>NaN</td>\n",
       "      <td>NaN</td>\n",
       "    </tr>\n",
       "    <tr>\n",
       "      <th>freq</th>\n",
       "      <td>4815</td>\n",
       "      <td>26</td>\n",
       "      <td>NaN</td>\n",
       "      <td>NaN</td>\n",
       "      <td>NaN</td>\n",
       "      <td>NaN</td>\n",
       "      <td>20</td>\n",
       "      <td>NaN</td>\n",
       "      <td>NaN</td>\n",
       "      <td>236</td>\n",
       "      <td>...</td>\n",
       "      <td>NaN</td>\n",
       "      <td>4704</td>\n",
       "      <td>3807</td>\n",
       "      <td>2118</td>\n",
       "      <td>NaN</td>\n",
       "      <td>NaN</td>\n",
       "      <td>NaN</td>\n",
       "      <td>NaN</td>\n",
       "      <td>NaN</td>\n",
       "      <td>NaN</td>\n",
       "    </tr>\n",
       "    <tr>\n",
       "      <th>mean</th>\n",
       "      <td>NaN</td>\n",
       "      <td>NaN</td>\n",
       "      <td>140.194272</td>\n",
       "      <td>107.201074</td>\n",
       "      <td>686.509212</td>\n",
       "      <td>645.009761</td>\n",
       "      <td>NaN</td>\n",
       "      <td>6560.047061</td>\n",
       "      <td>4.846841e+07</td>\n",
       "      <td>NaN</td>\n",
       "      <td>...</td>\n",
       "      <td>272.770808</td>\n",
       "      <td>NaN</td>\n",
       "      <td>NaN</td>\n",
       "      <td>NaN</td>\n",
       "      <td>3.975262e+07</td>\n",
       "      <td>2002.470517</td>\n",
       "      <td>1651.754473</td>\n",
       "      <td>6.442138</td>\n",
       "      <td>2.220403</td>\n",
       "      <td>7525.964505</td>\n",
       "    </tr>\n",
       "    <tr>\n",
       "      <th>std</th>\n",
       "      <td>NaN</td>\n",
       "      <td>NaN</td>\n",
       "      <td>121.601675</td>\n",
       "      <td>25.197441</td>\n",
       "      <td>2813.328607</td>\n",
       "      <td>1665.041728</td>\n",
       "      <td>NaN</td>\n",
       "      <td>15020.759120</td>\n",
       "      <td>6.845299e+07</td>\n",
       "      <td>NaN</td>\n",
       "      <td>...</td>\n",
       "      <td>377.982886</td>\n",
       "      <td>NaN</td>\n",
       "      <td>NaN</td>\n",
       "      <td>NaN</td>\n",
       "      <td>2.061149e+08</td>\n",
       "      <td>12.474599</td>\n",
       "      <td>4042.438863</td>\n",
       "      <td>1.125116</td>\n",
       "      <td>1.385113</td>\n",
       "      <td>19320.445110</td>\n",
       "    </tr>\n",
       "    <tr>\n",
       "      <th>min</th>\n",
       "      <td>NaN</td>\n",
       "      <td>NaN</td>\n",
       "      <td>1.000000</td>\n",
       "      <td>7.000000</td>\n",
       "      <td>0.000000</td>\n",
       "      <td>0.000000</td>\n",
       "      <td>NaN</td>\n",
       "      <td>0.000000</td>\n",
       "      <td>1.620000e+02</td>\n",
       "      <td>NaN</td>\n",
       "      <td>...</td>\n",
       "      <td>1.000000</td>\n",
       "      <td>NaN</td>\n",
       "      <td>NaN</td>\n",
       "      <td>NaN</td>\n",
       "      <td>2.180000e+02</td>\n",
       "      <td>1916.000000</td>\n",
       "      <td>0.000000</td>\n",
       "      <td>1.600000</td>\n",
       "      <td>1.180000</td>\n",
       "      <td>0.000000</td>\n",
       "    </tr>\n",
       "    <tr>\n",
       "      <th>25%</th>\n",
       "      <td>NaN</td>\n",
       "      <td>NaN</td>\n",
       "      <td>50.000000</td>\n",
       "      <td>93.000000</td>\n",
       "      <td>7.000000</td>\n",
       "      <td>133.000000</td>\n",
       "      <td>NaN</td>\n",
       "      <td>614.000000</td>\n",
       "      <td>5.340988e+06</td>\n",
       "      <td>NaN</td>\n",
       "      <td>...</td>\n",
       "      <td>65.000000</td>\n",
       "      <td>NaN</td>\n",
       "      <td>NaN</td>\n",
       "      <td>NaN</td>\n",
       "      <td>6.000000e+06</td>\n",
       "      <td>1999.000000</td>\n",
       "      <td>281.000000</td>\n",
       "      <td>5.800000</td>\n",
       "      <td>1.850000</td>\n",
       "      <td>0.000000</td>\n",
       "    </tr>\n",
       "    <tr>\n",
       "      <th>50%</th>\n",
       "      <td>NaN</td>\n",
       "      <td>NaN</td>\n",
       "      <td>110.000000</td>\n",
       "      <td>103.000000</td>\n",
       "      <td>49.000000</td>\n",
       "      <td>371.500000</td>\n",
       "      <td>NaN</td>\n",
       "      <td>988.000000</td>\n",
       "      <td>2.551750e+07</td>\n",
       "      <td>NaN</td>\n",
       "      <td>...</td>\n",
       "      <td>156.000000</td>\n",
       "      <td>NaN</td>\n",
       "      <td>NaN</td>\n",
       "      <td>NaN</td>\n",
       "      <td>2.000000e+07</td>\n",
       "      <td>2005.000000</td>\n",
       "      <td>595.000000</td>\n",
       "      <td>6.600000</td>\n",
       "      <td>2.350000</td>\n",
       "      <td>166.000000</td>\n",
       "    </tr>\n",
       "    <tr>\n",
       "      <th>75%</th>\n",
       "      <td>NaN</td>\n",
       "      <td>NaN</td>\n",
       "      <td>195.000000</td>\n",
       "      <td>118.000000</td>\n",
       "      <td>194.500000</td>\n",
       "      <td>636.000000</td>\n",
       "      <td>NaN</td>\n",
       "      <td>11000.000000</td>\n",
       "      <td>6.230944e+07</td>\n",
       "      <td>NaN</td>\n",
       "      <td>...</td>\n",
       "      <td>326.000000</td>\n",
       "      <td>NaN</td>\n",
       "      <td>NaN</td>\n",
       "      <td>NaN</td>\n",
       "      <td>4.500000e+07</td>\n",
       "      <td>2011.000000</td>\n",
       "      <td>918.000000</td>\n",
       "      <td>7.200000</td>\n",
       "      <td>2.350000</td>\n",
       "      <td>3000.000000</td>\n",
       "    </tr>\n",
       "    <tr>\n",
       "      <th>max</th>\n",
       "      <td>NaN</td>\n",
       "      <td>NaN</td>\n",
       "      <td>813.000000</td>\n",
       "      <td>511.000000</td>\n",
       "      <td>23000.000000</td>\n",
       "      <td>23000.000000</td>\n",
       "      <td>NaN</td>\n",
       "      <td>640000.000000</td>\n",
       "      <td>7.605058e+08</td>\n",
       "      <td>NaN</td>\n",
       "      <td>...</td>\n",
       "      <td>5060.000000</td>\n",
       "      <td>NaN</td>\n",
       "      <td>NaN</td>\n",
       "      <td>NaN</td>\n",
       "      <td>1.221550e+10</td>\n",
       "      <td>2016.000000</td>\n",
       "      <td>137000.000000</td>\n",
       "      <td>9.500000</td>\n",
       "      <td>16.000000</td>\n",
       "      <td>349000.000000</td>\n",
       "    </tr>\n",
       "  </tbody>\n",
       "</table>\n",
       "<p>11 rows × 28 columns</p>\n",
       "</div>"
      ],
      "text/plain": [
       "        color     director_name  num_critic_for_reviews     duration  \\\n",
       "count    5024              4939             4993.000000  5028.000000   \n",
       "unique      2              2398                     NaN          NaN   \n",
       "top     Color  Steven Spielberg                     NaN          NaN   \n",
       "freq     4815                26                     NaN          NaN   \n",
       "mean      NaN               NaN              140.194272   107.201074   \n",
       "std       NaN               NaN              121.601675    25.197441   \n",
       "min       NaN               NaN                1.000000     7.000000   \n",
       "25%       NaN               NaN               50.000000    93.000000   \n",
       "50%       NaN               NaN              110.000000   103.000000   \n",
       "75%       NaN               NaN              195.000000   118.000000   \n",
       "max       NaN               NaN              813.000000   511.000000   \n",
       "\n",
       "        director_facebook_likes  actor_3_facebook_likes    actor_2_name  \\\n",
       "count               4939.000000             5020.000000            5030   \n",
       "unique                      NaN                     NaN            3032   \n",
       "top                         NaN                     NaN  Morgan Freeman   \n",
       "freq                        NaN                     NaN              20   \n",
       "mean                 686.509212              645.009761             NaN   \n",
       "std                 2813.328607             1665.041728             NaN   \n",
       "min                    0.000000                0.000000             NaN   \n",
       "25%                    7.000000              133.000000             NaN   \n",
       "50%                   49.000000              371.500000             NaN   \n",
       "75%                  194.500000              636.000000             NaN   \n",
       "max                23000.000000            23000.000000             NaN   \n",
       "\n",
       "        actor_1_facebook_likes         gross genres  ... num_user_for_reviews  \\\n",
       "count              5036.000000  4.159000e+03   5043  ...          5022.000000   \n",
       "unique                     NaN           NaN    914  ...                  NaN   \n",
       "top                        NaN           NaN  Drama  ...                  NaN   \n",
       "freq                       NaN           NaN    236  ...                  NaN   \n",
       "mean               6560.047061  4.846841e+07    NaN  ...           272.770808   \n",
       "std               15020.759120  6.845299e+07    NaN  ...           377.982886   \n",
       "min                   0.000000  1.620000e+02    NaN  ...             1.000000   \n",
       "25%                 614.000000  5.340988e+06    NaN  ...            65.000000   \n",
       "50%                 988.000000  2.551750e+07    NaN  ...           156.000000   \n",
       "75%               11000.000000  6.230944e+07    NaN  ...           326.000000   \n",
       "max              640000.000000  7.605058e+08    NaN  ...          5060.000000   \n",
       "\n",
       "       language  country  content_rating        budget   title_year  \\\n",
       "count      5031     5038            4740  4.551000e+03  4935.000000   \n",
       "unique       47       65              18           NaN          NaN   \n",
       "top     English      USA               R           NaN          NaN   \n",
       "freq       4704     3807            2118           NaN          NaN   \n",
       "mean        NaN      NaN             NaN  3.975262e+07  2002.470517   \n",
       "std         NaN      NaN             NaN  2.061149e+08    12.474599   \n",
       "min         NaN      NaN             NaN  2.180000e+02  1916.000000   \n",
       "25%         NaN      NaN             NaN  6.000000e+06  1999.000000   \n",
       "50%         NaN      NaN             NaN  2.000000e+07  2005.000000   \n",
       "75%         NaN      NaN             NaN  4.500000e+07  2011.000000   \n",
       "max         NaN      NaN             NaN  1.221550e+10  2016.000000   \n",
       "\n",
       "       actor_2_facebook_likes   imdb_score  aspect_ratio movie_facebook_likes  \n",
       "count             5030.000000  5043.000000   4714.000000          5043.000000  \n",
       "unique                    NaN          NaN           NaN                  NaN  \n",
       "top                       NaN          NaN           NaN                  NaN  \n",
       "freq                      NaN          NaN           NaN                  NaN  \n",
       "mean              1651.754473     6.442138      2.220403          7525.964505  \n",
       "std               4042.438863     1.125116      1.385113         19320.445110  \n",
       "min                  0.000000     1.600000      1.180000             0.000000  \n",
       "25%                281.000000     5.800000      1.850000             0.000000  \n",
       "50%                595.000000     6.600000      2.350000           166.000000  \n",
       "75%                918.000000     7.200000      2.350000          3000.000000  \n",
       "max             137000.000000     9.500000     16.000000        349000.000000  \n",
       "\n",
       "[11 rows x 28 columns]"
      ]
     },
     "execution_count": 11,
     "metadata": {},
     "output_type": "execute_result"
    }
   ],
   "source": [
    "# read in and explore data\n",
    "movies.describe(include='all')"
   ]
  },
  {
   "cell_type": "markdown",
   "metadata": {},
   "source": [
    "# Data analyses "
   ]
  },
  {
   "cell_type": "code",
   "execution_count": 8,
   "metadata": {
    "scrolled": true
   },
   "outputs": [
    {
     "data": {
      "text/plain": [
       "Index(['color', 'director_name', 'num_critic_for_reviews', 'duration',\n",
       "       'director_facebook_likes', 'actor_3_facebook_likes', 'actor_2_name',\n",
       "       'actor_1_facebook_likes', 'gross', 'genres', 'actor_1_name',\n",
       "       'movie_title', 'num_voted_users', 'cast_total_facebook_likes',\n",
       "       'actor_3_name', 'facenumber_in_poster', 'plot_keywords',\n",
       "       'movie_imdb_link', 'num_user_for_reviews', 'language', 'country',\n",
       "       'content_rating', 'budget', 'title_year', 'actor_2_facebook_likes',\n",
       "       'imdb_score', 'aspect_ratio', 'movie_facebook_likes'],\n",
       "      dtype='object')"
      ]
     },
     "execution_count": 8,
     "metadata": {},
     "output_type": "execute_result"
    }
   ],
   "source": [
    "# list of features within dataset \n",
    "movies.columns"
   ]
  },
  {
   "cell_type": "markdown",
   "metadata": {},
   "source": [
    "De kolommen die we van plan zijn mee te nemen omdat ze relevant zijn voor de onderzoeksvragen die we hebben opgesteld:\n",
    "\n",
    "- movie_title\n",
    "- title_year\n",
    "- imdb_score\n",
    "- director_name\n",
    "- gross\n",
    "- duration\n",
    "- actor_1_name \n",
    "- actor_2_name\n",
    "- actor_3_name\n",
    "- plot_keywords\n",
    "- content_rating"
   ]
  },
  {
   "cell_type": "code",
   "execution_count": 9,
   "metadata": {},
   "outputs": [
    {
     "data": {
      "text/html": [
       "<div>\n",
       "<style scoped>\n",
       "    .dataframe tbody tr th:only-of-type {\n",
       "        vertical-align: middle;\n",
       "    }\n",
       "\n",
       "    .dataframe tbody tr th {\n",
       "        vertical-align: top;\n",
       "    }\n",
       "\n",
       "    .dataframe thead th {\n",
       "        text-align: right;\n",
       "    }\n",
       "</style>\n",
       "<table border=\"1\" class=\"dataframe\">\n",
       "  <thead>\n",
       "    <tr style=\"text-align: right;\">\n",
       "      <th></th>\n",
       "      <th>color</th>\n",
       "      <th>director_name</th>\n",
       "      <th>num_critic_for_reviews</th>\n",
       "      <th>duration</th>\n",
       "      <th>director_facebook_likes</th>\n",
       "      <th>actor_3_facebook_likes</th>\n",
       "      <th>actor_2_name</th>\n",
       "      <th>actor_1_facebook_likes</th>\n",
       "      <th>gross</th>\n",
       "      <th>genres</th>\n",
       "      <th>...</th>\n",
       "      <th>num_user_for_reviews</th>\n",
       "      <th>language</th>\n",
       "      <th>country</th>\n",
       "      <th>content_rating</th>\n",
       "      <th>budget</th>\n",
       "      <th>title_year</th>\n",
       "      <th>actor_2_facebook_likes</th>\n",
       "      <th>imdb_score</th>\n",
       "      <th>aspect_ratio</th>\n",
       "      <th>movie_facebook_likes</th>\n",
       "    </tr>\n",
       "  </thead>\n",
       "  <tbody>\n",
       "    <tr>\n",
       "      <th>4334</th>\n",
       "      <td>Color</td>\n",
       "      <td>Phil Morrison</td>\n",
       "      <td>41.0</td>\n",
       "      <td>107.0</td>\n",
       "      <td>17.0</td>\n",
       "      <td>322.0</td>\n",
       "      <td>Curtiss Cook</td>\n",
       "      <td>594.0</td>\n",
       "      <td>4556.0</td>\n",
       "      <td>Comedy|Drama</td>\n",
       "      <td>...</td>\n",
       "      <td>23.0</td>\n",
       "      <td>English</td>\n",
       "      <td>USA</td>\n",
       "      <td>R</td>\n",
       "      <td>NaN</td>\n",
       "      <td>2013.0</td>\n",
       "      <td>591.0</td>\n",
       "      <td>5.6</td>\n",
       "      <td>NaN</td>\n",
       "      <td>825</td>\n",
       "    </tr>\n",
       "    <tr>\n",
       "      <th>3389</th>\n",
       "      <td>Color</td>\n",
       "      <td>Will Gluck</td>\n",
       "      <td>262.0</td>\n",
       "      <td>92.0</td>\n",
       "      <td>87.0</td>\n",
       "      <td>424.0</td>\n",
       "      <td>Dan Byrd</td>\n",
       "      <td>15000.0</td>\n",
       "      <td>58401464.0</td>\n",
       "      <td>Comedy|Romance</td>\n",
       "      <td>...</td>\n",
       "      <td>264.0</td>\n",
       "      <td>English</td>\n",
       "      <td>USA</td>\n",
       "      <td>PG-13</td>\n",
       "      <td>8000000.0</td>\n",
       "      <td>2010.0</td>\n",
       "      <td>1000.0</td>\n",
       "      <td>7.1</td>\n",
       "      <td>1.85</td>\n",
       "      <td>19000</td>\n",
       "    </tr>\n",
       "    <tr>\n",
       "      <th>2446</th>\n",
       "      <td>Color</td>\n",
       "      <td>Adrian Lyne</td>\n",
       "      <td>38.0</td>\n",
       "      <td>112.0</td>\n",
       "      <td>213.0</td>\n",
       "      <td>45.0</td>\n",
       "      <td>Karen Young</td>\n",
       "      <td>567.0</td>\n",
       "      <td>6734844.0</td>\n",
       "      <td>Drama|Romance</td>\n",
       "      <td>...</td>\n",
       "      <td>118.0</td>\n",
       "      <td>English</td>\n",
       "      <td>USA</td>\n",
       "      <td>R</td>\n",
       "      <td>17000000.0</td>\n",
       "      <td>1986.0</td>\n",
       "      <td>67.0</td>\n",
       "      <td>5.9</td>\n",
       "      <td>1.85</td>\n",
       "      <td>0</td>\n",
       "    </tr>\n",
       "    <tr>\n",
       "      <th>980</th>\n",
       "      <td>Color</td>\n",
       "      <td>Steven Quale</td>\n",
       "      <td>228.0</td>\n",
       "      <td>89.0</td>\n",
       "      <td>77.0</td>\n",
       "      <td>159.0</td>\n",
       "      <td>Alycia Debnam-Carey</td>\n",
       "      <td>490.0</td>\n",
       "      <td>47553512.0</td>\n",
       "      <td>Action|Thriller</td>\n",
       "      <td>...</td>\n",
       "      <td>210.0</td>\n",
       "      <td>English</td>\n",
       "      <td>USA</td>\n",
       "      <td>PG-13</td>\n",
       "      <td>50000000.0</td>\n",
       "      <td>2014.0</td>\n",
       "      <td>298.0</td>\n",
       "      <td>5.8</td>\n",
       "      <td>1.85</td>\n",
       "      <td>15000</td>\n",
       "    </tr>\n",
       "    <tr>\n",
       "      <th>301</th>\n",
       "      <td>Black and White</td>\n",
       "      <td>Stefen Fangmeier</td>\n",
       "      <td>170.0</td>\n",
       "      <td>104.0</td>\n",
       "      <td>14.0</td>\n",
       "      <td>203.0</td>\n",
       "      <td>Ed Speleers</td>\n",
       "      <td>3000.0</td>\n",
       "      <td>75030163.0</td>\n",
       "      <td>Action|Adventure|Family|Fantasy</td>\n",
       "      <td>...</td>\n",
       "      <td>1690.0</td>\n",
       "      <td>English</td>\n",
       "      <td>USA</td>\n",
       "      <td>PG</td>\n",
       "      <td>100000000.0</td>\n",
       "      <td>2006.0</td>\n",
       "      <td>762.0</td>\n",
       "      <td>5.1</td>\n",
       "      <td>2.35</td>\n",
       "      <td>0</td>\n",
       "    </tr>\n",
       "  </tbody>\n",
       "</table>\n",
       "<p>5 rows × 28 columns</p>\n",
       "</div>"
      ],
      "text/plain": [
       "                 color     director_name  num_critic_for_reviews  duration  \\\n",
       "4334             Color     Phil Morrison                    41.0     107.0   \n",
       "3389             Color        Will Gluck                   262.0      92.0   \n",
       "2446             Color       Adrian Lyne                    38.0     112.0   \n",
       "980              Color      Steven Quale                   228.0      89.0   \n",
       "301    Black and White  Stefen Fangmeier                   170.0     104.0   \n",
       "\n",
       "      director_facebook_likes  actor_3_facebook_likes         actor_2_name  \\\n",
       "4334                     17.0                   322.0         Curtiss Cook   \n",
       "3389                     87.0                   424.0             Dan Byrd   \n",
       "2446                    213.0                    45.0          Karen Young   \n",
       "980                      77.0                   159.0  Alycia Debnam-Carey   \n",
       "301                      14.0                   203.0          Ed Speleers   \n",
       "\n",
       "      actor_1_facebook_likes       gross                           genres  \\\n",
       "4334                   594.0      4556.0                     Comedy|Drama   \n",
       "3389                 15000.0  58401464.0                   Comedy|Romance   \n",
       "2446                   567.0   6734844.0                    Drama|Romance   \n",
       "980                    490.0  47553512.0                  Action|Thriller   \n",
       "301                   3000.0  75030163.0  Action|Adventure|Family|Fantasy   \n",
       "\n",
       "      ... num_user_for_reviews language  country  content_rating       budget  \\\n",
       "4334  ...                 23.0  English      USA               R          NaN   \n",
       "3389  ...                264.0  English      USA           PG-13    8000000.0   \n",
       "2446  ...                118.0  English      USA               R   17000000.0   \n",
       "980   ...                210.0  English      USA           PG-13   50000000.0   \n",
       "301   ...               1690.0  English      USA              PG  100000000.0   \n",
       "\n",
       "      title_year actor_2_facebook_likes imdb_score  aspect_ratio  \\\n",
       "4334      2013.0                  591.0        5.6           NaN   \n",
       "3389      2010.0                 1000.0        7.1          1.85   \n",
       "2446      1986.0                   67.0        5.9          1.85   \n",
       "980       2014.0                  298.0        5.8          1.85   \n",
       "301       2006.0                  762.0        5.1          2.35   \n",
       "\n",
       "     movie_facebook_likes  \n",
       "4334                  825  \n",
       "3389                19000  \n",
       "2446                    0  \n",
       "980                 15000  \n",
       "301                     0  \n",
       "\n",
       "[5 rows x 28 columns]"
      ]
     },
     "execution_count": 9,
     "metadata": {},
     "output_type": "execute_result"
    }
   ],
   "source": [
    "# sample of the dataset \n",
    "movies.sample(5)"
   ]
  },
  {
   "cell_type": "markdown",
   "metadata": {},
   "source": [
    "Observations: \n",
    "\n",
    "- Er zijn in totaal 5038(?) films (inclusief dubbele waarden)\n",
    "- Met movies.duplicated(subset=None,keep='first').sum() zien we hoeveel dubbele waarden er zijn: 45\n",
    "- 4939 director_names\n",
    "- 5030 actor_2_name\n",
    "- 5038 country "
   ]
  },
  {
   "cell_type": "code",
   "execution_count": 6,
   "metadata": {},
   "outputs": [
    {
     "data": {
      "text/plain": [
       "45"
      ]
     },
     "execution_count": 6,
     "metadata": {},
     "output_type": "execute_result"
    }
   ],
   "source": [
    "movies.duplicated(subset=None,keep='first').sum()"
   ]
  },
  {
   "cell_type": "markdown",
   "metadata": {},
   "source": [
    "We kunnen per kolom gaan bekijken hoeveel NULL waarden er per kolom in de dataset zijn d.m.v. pd.isnull().sum()"
   ]
  },
  {
   "cell_type": "code",
   "execution_count": 10,
   "metadata": {},
   "outputs": [
    {
     "data": {
      "text/plain": [
       "color                         19\n",
       "director_name                104\n",
       "num_critic_for_reviews        50\n",
       "duration                      15\n",
       "director_facebook_likes      104\n",
       "actor_3_facebook_likes        23\n",
       "actor_2_name                  13\n",
       "actor_1_facebook_likes         7\n",
       "gross                        884\n",
       "genres                         0\n",
       "actor_1_name                   7\n",
       "movie_title                    0\n",
       "num_voted_users                0\n",
       "cast_total_facebook_likes      0\n",
       "actor_3_name                  23\n",
       "facenumber_in_poster          13\n",
       "plot_keywords                153\n",
       "movie_imdb_link                0\n",
       "num_user_for_reviews          21\n",
       "language                      12\n",
       "country                        5\n",
       "content_rating               303\n",
       "budget                       492\n",
       "title_year                   108\n",
       "actor_2_facebook_likes        13\n",
       "imdb_score                     0\n",
       "aspect_ratio                 329\n",
       "movie_facebook_likes           0\n",
       "dtype: int64"
      ]
     },
     "execution_count": 10,
     "metadata": {},
     "output_type": "execute_result"
    }
   ],
   "source": [
    "pd.isnull(movies).sum()"
   ]
  },
  {
   "cell_type": "markdown",
   "metadata": {},
   "source": [
    "Alle kolommen hebben NULL-waarden behalve: genres, movie_title, num_voted_users, cast_total_facebook_likes, movie_imdb_link, imdb_score.\n",
    "\n",
    "Wat opvalt is dat gross de meeste NULL-waarden heeft. In totaal zijn er voor gross 4.159000e+03\trecords (4159) waarvan er 884 ontbreken. Dit is 21,26%. Aangezien we dit kolom wel willen meenemen is dit een belangrijk punt waar we rekening mee moeten houden bij verdere uitwerkingen"
   ]
  },
  {
   "cell_type": "markdown",
   "metadata": {},
   "source": [
    "# Predictions\n",
    "\n",
    "Aan de hand van de onderzoeksvragen kunnen we ook voorspellingen gaan doen die ons helpen bij het beantwoorden van deze vragen"
   ]
  },
  {
   "cell_type": "markdown",
   "metadata": {},
   "source": [
    "Prediction: Hoe meer likes een bepaald acteur/actrice op facebook krijgt (dus hoe populairder de acteur/actrice is), hoe hoger de kans is dat de film waarin de acteur/actrice in speelt ook meer bekeken wordt.\n",
    "\n",
    "Onderzoeksvraag: leidt het casten van populaire acteur tot meer bekeken film? / welke factoren dragen erbij toe dat een populaire acteur zorgt voor een vaak bekeken film / wat is de correlatie tussen acteur en film (???)"
   ]
  },
  {
   "cell_type": "markdown",
   "metadata": {},
   "source": [
    "We nemen de onderstaande kolommen mee om te meten hoe 'populair' een acteur/actrice is door de facebook-likes te nemen\n",
    "- actor_2_name\n",
    "- actor_3_facebook_likes"
   ]
  },
  {
   "cell_type": "code",
   "execution_count": 26,
   "metadata": {},
   "outputs": [],
   "source": [
    "q = movies['actor_3_facebook_likes'].head(10)"
   ]
  },
  {
   "cell_type": "code",
   "execution_count": 27,
   "metadata": {},
   "outputs": [],
   "source": [
    "r = movies['actor_2_name'].head(10)"
   ]
  },
  {
   "cell_type": "code",
   "execution_count": 29,
   "metadata": {},
   "outputs": [
    {
     "data": {
      "text/plain": [
       "(array([    0.,  5000., 10000., 15000., 20000., 25000.]),\n",
       " <a list of 6 Text xticklabel objects>)"
      ]
     },
     "execution_count": 29,
     "metadata": {},
     "output_type": "execute_result"
    },
    {
     "data": {
      "image/png": "[encoded data removed]",
      "text/plain": [
       "<Figure size 432x288 with 1 Axes>"
      ]
     },
     "metadata": {
      "needs_background": "light"
     },
     "output_type": "display_data"
    }
   ],
   "source": [
    "h = sns.barplot(x=q, y=r, data=movies)\n",
    "plt.xticks(rotation=90)"
   ]
  },
  {
   "cell_type": "markdown",
   "metadata": {},
   "source": [
    "We zien dus dat acteur Christian Bale de meeste facebook-likes heeft en daarmee voorspellen we ook dat hij in de beter bekeken film zit uit die lijst van 10.\n",
    "Daarnaast missen we de likes van Rob Walker, maar het feit dat we nooit van deze man hebben gehoord zal ook genoeg zeggen over zijn facebook likes, het is dus niet waarschijnlijk dat hij Christian Bale inhaalt.\n",
    "\n",
    "Om te kijken of de meest populaire acteurs ook in beter bekeken films zitten gaan we ook het volgende plotten:"
   ]
  },
  {
   "cell_type": "code",
   "execution_count": 20,
   "metadata": {},
   "outputs": [],
   "source": [
    "# als voorbeeld nemen we alleen 10 records\n",
    "# variabele x zijn de film \n",
    "x = movies['movie_title'].head(10)"
   ]
  },
  {
   "cell_type": "code",
   "execution_count": 21,
   "metadata": {},
   "outputs": [],
   "source": [
    "# variabele y zijn de scores die elk film heeft gescoord op IMDB\n",
    "y = movies['imdb_score'].head(10)"
   ]
  },
  {
   "cell_type": "markdown",
   "metadata": {},
   "source": [
    "Als we variabele x en y gaan plotten met behulp van module seaborn kunnen we zien hoe elke film heeft gescoord en welke bijvoorbeeld uitsteekt. "
   ]
  },
  {
   "cell_type": "code",
   "execution_count": 22,
   "metadata": {},
   "outputs": [
    {
     "data": {
      "text/plain": [
       "(array([0., 1., 2., 3., 4., 5., 6., 7., 8., 9.]),\n",
       " <a list of 10 Text xticklabel objects>)"
      ]
     },
     "execution_count": 22,
     "metadata": {},
     "output_type": "execute_result"
    },
    {
     "data": {
      "image/png": "[encoded data removed]",
      "text/plain": [
       "<Figure size 432x288 with 1 Axes>"
      ]
     },
     "metadata": {
      "needs_background": "light"
     },
     "output_type": "display_data"
    }
   ],
   "source": [
    "g = sns.barplot(x=y, y=x, data=movies)\n",
    "plt.xticks(rotation=90)"
   ]
  },
  {
   "cell_type": "markdown",
   "metadata": {},
   "source": [
    "Hogere imdb-score is niet altijd een meer bekeken film. Num_voted_users geeft weer hoeveel mensen er voor een film hebben gestemd. De mensen die hebben gestemd hebben hoogstwaarschijnlijk ook de film bekeken. Dit kolom kunnen we dus als maatstaf nemen. \n",
    "- Movies_title\n",
    "- Num_voted_users\n"
   ]
  },
  {
   "cell_type": "code",
   "execution_count": 15,
   "metadata": {},
   "outputs": [],
   "source": [
    "# de films\n",
    "a = movies['movie_title'].head(10)"
   ]
  },
  {
   "cell_type": "code",
   "execution_count": 23,
   "metadata": {},
   "outputs": [],
   "source": [
    "# aantal stemmen wat een film heeft gescoord\n",
    "b = movies['num_voted_users'].head(10)"
   ]
  },
  {
   "cell_type": "code",
   "execution_count": 24,
   "metadata": {},
   "outputs": [
    {
     "data": {
      "text/plain": [
       "(array([      0.,  200000.,  400000.,  600000.,  800000., 1000000.,\n",
       "        1200000., 1400000.]), <a list of 8 Text xticklabel objects>)"
      ]
     },
     "execution_count": 24,
     "metadata": {},
     "output_type": "execute_result"
    },
    {
     "data": {
      "image/png": "[encoded data removed]",
      "text/plain": [
       "<Figure size 432x288 with 1 Axes>"
      ]
     },
     "metadata": {
      "needs_background": "light"
     },
     "output_type": "display_data"
    }
   ],
   "source": [
    "# bovenstaande data a en b gaan plotten in een grafiek\n",
    "i = sns.barplot(x=b, y=a, data=movies)\n",
    "plt.xticks(rotation=90)"
   ]
  },
  {
   "cell_type": "markdown",
   "metadata": {},
   "source": [
    "De meest bekeken film is in de bovenste voorbeeld ‘The Dark Knight Rises’ en daarbij hoort acteur Christian Bale, die ook de meeste likes heeft. \n",
    "Echter is de film met de minste stemmen ‘John Carter’ waar actrice Samanta Morton bij hoort, die niet de minste likes heeft. \n"
   ]
  }
 ],
 "metadata": {
  "kernelspec": {
   "display_name": "Python 3",
   "language": "python",
   "name": "python3"
  },
  "language_info": {
   "codemirror_mode": {
    "name": "ipython",
    "version": 3
   },
   "file_extension": ".py",
   "mimetype": "text/x-python",
   "name": "python",
   "nbconvert_exporter": "python",
   "pygments_lexer": "ipython3",
   "version": "3.7.0"
  }
 },
 "nbformat": 4,
 "nbformat_minor": 2
}
