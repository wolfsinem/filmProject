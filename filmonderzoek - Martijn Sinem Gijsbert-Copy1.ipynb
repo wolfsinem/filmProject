{
 "cells": [
  {
   "cell_type": "markdown",
   "metadata": {},
   "source": [
    "# Computational Modelling - Martijn, Sinem en Gijs\n",
    "## Het data science proces\n",
    "Voor dit casusopdracht doorlopen we de eerste 4 stappen in het proces.\n",
    "\n",
    "- 1. Data collection, hiervoor hebben we al een dataset toegewezen  gekregen\n",
    "\n",
    "- 2. Data processing, bewerken van de dataset, dit is grotendeels al gedaan\n",
    "\n",
    "- 3. Data cleaning, opzoek naar dubbele en missende waarden\n",
    "\n",
    "- 4. Data exploration & analysishoe kunnen we met deze data de vragen beantwoorden \n",
    "\n",
    "- 5. Model building, relaties tussen variabelen leggen\n",
    "\n",
    "- 6. Visualization, verkenning van de data ondersteunen\n",
    "\n",
    "- 7. Communication, data science pipeline netjes genoteerd inleveren \n",
    "\n",
    "\n",
    "## Onderzoeksvragen:\n",
    "- In hoeverre is de omzet van een film te voorspellen op basis van de populariteit op Facebook en IMDB zelf?\n",
    "- Wat is de verhouding tussen bioscoopgangers en netflixabonnementen?\n",
    "- In hoeverre mate komt een film in aanmerking voor een sequel?\n",
    "- Wat is de invloed op populariteit van een film als er een populaire acteur wordt gecast?\n",
    "\n",
    "## Eerste verkenning:\n",
    "Voor de eerste verkenning laden we met de python module pandas de file 'movie.csv' in zodat we goed bekijken wat daadwerkelijk in de database staat."
   ]
  },
  {
   "cell_type": "code",
   "execution_count": 1,
   "metadata": {},
   "outputs": [],
   "source": [
    "# import necessary libraries\n",
    "\n",
    "import pandas as pd\n",
    "import numpy as np\n",
    "import pandas_profiling\n",
    "\n",
    "import matplotlib.pyplot as plt\n",
    "import seaborn as sns\n",
    "%matplotlib inline\n",
    "\n",
    "import warnings\n",
    "warnings.filterwarnings('ignore')"
   ]
  },
  {
   "cell_type": "code",
   "execution_count": 2,
   "metadata": {},
   "outputs": [],
   "source": [
    "# load dataset\n",
    "movies = pd.read_csv('movie.csv')"
   ]
  },
  {
   "cell_type": "code",
   "execution_count": 3,
   "metadata": {
    "scrolled": true
   },
   "outputs": [
    {
     "data": {
      "text/html": [
       "<div>\n",
       "<style scoped>\n",
       "    .dataframe tbody tr th:only-of-type {\n",
       "        vertical-align: middle;\n",
       "    }\n",
       "\n",
       "    .dataframe tbody tr th {\n",
       "        vertical-align: top;\n",
       "    }\n",
       "\n",
       "    .dataframe thead th {\n",
       "        text-align: right;\n",
       "    }\n",
       "</style>\n",
       "<table border=\"1\" class=\"dataframe\">\n",
       "  <thead>\n",
       "    <tr style=\"text-align: right;\">\n",
       "      <th></th>\n",
       "      <th>color</th>\n",
       "      <th>director_name</th>\n",
       "      <th>num_critic_for_reviews</th>\n",
       "      <th>duration</th>\n",
       "      <th>director_facebook_likes</th>\n",
       "      <th>actor_3_facebook_likes</th>\n",
       "      <th>actor_2_name</th>\n",
       "      <th>actor_1_facebook_likes</th>\n",
       "      <th>gross</th>\n",
       "      <th>genres</th>\n",
       "      <th>...</th>\n",
       "      <th>num_user_for_reviews</th>\n",
       "      <th>language</th>\n",
       "      <th>country</th>\n",
       "      <th>content_rating</th>\n",
       "      <th>budget</th>\n",
       "      <th>title_year</th>\n",
       "      <th>actor_2_facebook_likes</th>\n",
       "      <th>imdb_score</th>\n",
       "      <th>aspect_ratio</th>\n",
       "      <th>movie_facebook_likes</th>\n",
       "    </tr>\n",
       "  </thead>\n",
       "  <tbody>\n",
       "    <tr>\n",
       "      <th>count</th>\n",
       "      <td>5024</td>\n",
       "      <td>4939</td>\n",
       "      <td>4993.000000</td>\n",
       "      <td>5028.000000</td>\n",
       "      <td>4939.000000</td>\n",
       "      <td>5020.000000</td>\n",
       "      <td>5030</td>\n",
       "      <td>5036.000000</td>\n",
       "      <td>4.159000e+03</td>\n",
       "      <td>5043</td>\n",
       "      <td>...</td>\n",
       "      <td>5022.000000</td>\n",
       "      <td>5031</td>\n",
       "      <td>5038</td>\n",
       "      <td>4740</td>\n",
       "      <td>4.551000e+03</td>\n",
       "      <td>4935.000000</td>\n",
       "      <td>5030.000000</td>\n",
       "      <td>5043.000000</td>\n",
       "      <td>4714.000000</td>\n",
       "      <td>5043.000000</td>\n",
       "    </tr>\n",
       "    <tr>\n",
       "      <th>unique</th>\n",
       "      <td>2</td>\n",
       "      <td>2398</td>\n",
       "      <td>NaN</td>\n",
       "      <td>NaN</td>\n",
       "      <td>NaN</td>\n",
       "      <td>NaN</td>\n",
       "      <td>3032</td>\n",
       "      <td>NaN</td>\n",
       "      <td>NaN</td>\n",
       "      <td>914</td>\n",
       "      <td>...</td>\n",
       "      <td>NaN</td>\n",
       "      <td>47</td>\n",
       "      <td>65</td>\n",
       "      <td>18</td>\n",
       "      <td>NaN</td>\n",
       "      <td>NaN</td>\n",
       "      <td>NaN</td>\n",
       "      <td>NaN</td>\n",
       "      <td>NaN</td>\n",
       "      <td>NaN</td>\n",
       "    </tr>\n",
       "    <tr>\n",
       "      <th>top</th>\n",
       "      <td>Color</td>\n",
       "      <td>Steven Spielberg</td>\n",
       "      <td>NaN</td>\n",
       "      <td>NaN</td>\n",
       "      <td>NaN</td>\n",
       "      <td>NaN</td>\n",
       "      <td>Morgan Freeman</td>\n",
       "      <td>NaN</td>\n",
       "      <td>NaN</td>\n",
       "      <td>Drama</td>\n",
       "      <td>...</td>\n",
       "      <td>NaN</td>\n",
       "      <td>English</td>\n",
       "      <td>USA</td>\n",
       "      <td>R</td>\n",
       "      <td>NaN</td>\n",
       "      <td>NaN</td>\n",
       "      <td>NaN</td>\n",
       "      <td>NaN</td>\n",
       "      <td>NaN</td>\n",
       "      <td>NaN</td>\n",
       "    </tr>\n",
       "    <tr>\n",
       "      <th>freq</th>\n",
       "      <td>4815</td>\n",
       "      <td>26</td>\n",
       "      <td>NaN</td>\n",
       "      <td>NaN</td>\n",
       "      <td>NaN</td>\n",
       "      <td>NaN</td>\n",
       "      <td>20</td>\n",
       "      <td>NaN</td>\n",
       "      <td>NaN</td>\n",
       "      <td>236</td>\n",
       "      <td>...</td>\n",
       "      <td>NaN</td>\n",
       "      <td>4704</td>\n",
       "      <td>3807</td>\n",
       "      <td>2118</td>\n",
       "      <td>NaN</td>\n",
       "      <td>NaN</td>\n",
       "      <td>NaN</td>\n",
       "      <td>NaN</td>\n",
       "      <td>NaN</td>\n",
       "      <td>NaN</td>\n",
       "    </tr>\n",
       "    <tr>\n",
       "      <th>mean</th>\n",
       "      <td>NaN</td>\n",
       "      <td>NaN</td>\n",
       "      <td>140.194272</td>\n",
       "      <td>107.201074</td>\n",
       "      <td>686.509212</td>\n",
       "      <td>645.009761</td>\n",
       "      <td>NaN</td>\n",
       "      <td>6560.047061</td>\n",
       "      <td>4.846841e+07</td>\n",
       "      <td>NaN</td>\n",
       "      <td>...</td>\n",
       "      <td>272.770808</td>\n",
       "      <td>NaN</td>\n",
       "      <td>NaN</td>\n",
       "      <td>NaN</td>\n",
       "      <td>3.975262e+07</td>\n",
       "      <td>2002.470517</td>\n",
       "      <td>1651.754473</td>\n",
       "      <td>6.442138</td>\n",
       "      <td>2.220403</td>\n",
       "      <td>7525.964505</td>\n",
       "    </tr>\n",
       "    <tr>\n",
       "      <th>std</th>\n",
       "      <td>NaN</td>\n",
       "      <td>NaN</td>\n",
       "      <td>121.601675</td>\n",
       "      <td>25.197441</td>\n",
       "      <td>2813.328607</td>\n",
       "      <td>1665.041728</td>\n",
       "      <td>NaN</td>\n",
       "      <td>15020.759120</td>\n",
       "      <td>6.845299e+07</td>\n",
       "      <td>NaN</td>\n",
       "      <td>...</td>\n",
       "      <td>377.982886</td>\n",
       "      <td>NaN</td>\n",
       "      <td>NaN</td>\n",
       "      <td>NaN</td>\n",
       "      <td>2.061149e+08</td>\n",
       "      <td>12.474599</td>\n",
       "      <td>4042.438863</td>\n",
       "      <td>1.125116</td>\n",
       "      <td>1.385113</td>\n",
       "      <td>19320.445110</td>\n",
       "    </tr>\n",
       "    <tr>\n",
       "      <th>min</th>\n",
       "      <td>NaN</td>\n",
       "      <td>NaN</td>\n",
       "      <td>1.000000</td>\n",
       "      <td>7.000000</td>\n",
       "      <td>0.000000</td>\n",
       "      <td>0.000000</td>\n",
       "      <td>NaN</td>\n",
       "      <td>0.000000</td>\n",
       "      <td>1.620000e+02</td>\n",
       "      <td>NaN</td>\n",
       "      <td>...</td>\n",
       "      <td>1.000000</td>\n",
       "      <td>NaN</td>\n",
       "      <td>NaN</td>\n",
       "      <td>NaN</td>\n",
       "      <td>2.180000e+02</td>\n",
       "      <td>1916.000000</td>\n",
       "      <td>0.000000</td>\n",
       "      <td>1.600000</td>\n",
       "      <td>1.180000</td>\n",
       "      <td>0.000000</td>\n",
       "    </tr>\n",
       "    <tr>\n",
       "      <th>25%</th>\n",
       "      <td>NaN</td>\n",
       "      <td>NaN</td>\n",
       "      <td>50.000000</td>\n",
       "      <td>93.000000</td>\n",
       "      <td>7.000000</td>\n",
       "      <td>133.000000</td>\n",
       "      <td>NaN</td>\n",
       "      <td>614.000000</td>\n",
       "      <td>5.340988e+06</td>\n",
       "      <td>NaN</td>\n",
       "      <td>...</td>\n",
       "      <td>65.000000</td>\n",
       "      <td>NaN</td>\n",
       "      <td>NaN</td>\n",
       "      <td>NaN</td>\n",
       "      <td>6.000000e+06</td>\n",
       "      <td>1999.000000</td>\n",
       "      <td>281.000000</td>\n",
       "      <td>5.800000</td>\n",
       "      <td>1.850000</td>\n",
       "      <td>0.000000</td>\n",
       "    </tr>\n",
       "    <tr>\n",
       "      <th>50%</th>\n",
       "      <td>NaN</td>\n",
       "      <td>NaN</td>\n",
       "      <td>110.000000</td>\n",
       "      <td>103.000000</td>\n",
       "      <td>49.000000</td>\n",
       "      <td>371.500000</td>\n",
       "      <td>NaN</td>\n",
       "      <td>988.000000</td>\n",
       "      <td>2.551750e+07</td>\n",
       "      <td>NaN</td>\n",
       "      <td>...</td>\n",
       "      <td>156.000000</td>\n",
       "      <td>NaN</td>\n",
       "      <td>NaN</td>\n",
       "      <td>NaN</td>\n",
       "      <td>2.000000e+07</td>\n",
       "      <td>2005.000000</td>\n",
       "      <td>595.000000</td>\n",
       "      <td>6.600000</td>\n",
       "      <td>2.350000</td>\n",
       "      <td>166.000000</td>\n",
       "    </tr>\n",
       "    <tr>\n",
       "      <th>75%</th>\n",
       "      <td>NaN</td>\n",
       "      <td>NaN</td>\n",
       "      <td>195.000000</td>\n",
       "      <td>118.000000</td>\n",
       "      <td>194.500000</td>\n",
       "      <td>636.000000</td>\n",
       "      <td>NaN</td>\n",
       "      <td>11000.000000</td>\n",
       "      <td>6.230944e+07</td>\n",
       "      <td>NaN</td>\n",
       "      <td>...</td>\n",
       "      <td>326.000000</td>\n",
       "      <td>NaN</td>\n",
       "      <td>NaN</td>\n",
       "      <td>NaN</td>\n",
       "      <td>4.500000e+07</td>\n",
       "      <td>2011.000000</td>\n",
       "      <td>918.000000</td>\n",
       "      <td>7.200000</td>\n",
       "      <td>2.350000</td>\n",
       "      <td>3000.000000</td>\n",
       "    </tr>\n",
       "    <tr>\n",
       "      <th>max</th>\n",
       "      <td>NaN</td>\n",
       "      <td>NaN</td>\n",
       "      <td>813.000000</td>\n",
       "      <td>511.000000</td>\n",
       "      <td>23000.000000</td>\n",
       "      <td>23000.000000</td>\n",
       "      <td>NaN</td>\n",
       "      <td>640000.000000</td>\n",
       "      <td>7.605058e+08</td>\n",
       "      <td>NaN</td>\n",
       "      <td>...</td>\n",
       "      <td>5060.000000</td>\n",
       "      <td>NaN</td>\n",
       "      <td>NaN</td>\n",
       "      <td>NaN</td>\n",
       "      <td>1.221550e+10</td>\n",
       "      <td>2016.000000</td>\n",
       "      <td>137000.000000</td>\n",
       "      <td>9.500000</td>\n",
       "      <td>16.000000</td>\n",
       "      <td>349000.000000</td>\n",
       "    </tr>\n",
       "  </tbody>\n",
       "</table>\n",
       "<p>11 rows × 28 columns</p>\n",
       "</div>"
      ],
      "text/plain": [
       "        color     director_name  num_critic_for_reviews     duration  \\\n",
       "count    5024              4939             4993.000000  5028.000000   \n",
       "unique      2              2398                     NaN          NaN   \n",
       "top     Color  Steven Spielberg                     NaN          NaN   \n",
       "freq     4815                26                     NaN          NaN   \n",
       "mean      NaN               NaN              140.194272   107.201074   \n",
       "std       NaN               NaN              121.601675    25.197441   \n",
       "min       NaN               NaN                1.000000     7.000000   \n",
       "25%       NaN               NaN               50.000000    93.000000   \n",
       "50%       NaN               NaN              110.000000   103.000000   \n",
       "75%       NaN               NaN              195.000000   118.000000   \n",
       "max       NaN               NaN              813.000000   511.000000   \n",
       "\n",
       "        director_facebook_likes  actor_3_facebook_likes    actor_2_name  \\\n",
       "count               4939.000000             5020.000000            5030   \n",
       "unique                      NaN                     NaN            3032   \n",
       "top                         NaN                     NaN  Morgan Freeman   \n",
       "freq                        NaN                     NaN              20   \n",
       "mean                 686.509212              645.009761             NaN   \n",
       "std                 2813.328607             1665.041728             NaN   \n",
       "min                    0.000000                0.000000             NaN   \n",
       "25%                    7.000000              133.000000             NaN   \n",
       "50%                   49.000000              371.500000             NaN   \n",
       "75%                  194.500000              636.000000             NaN   \n",
       "max                23000.000000            23000.000000             NaN   \n",
       "\n",
       "        actor_1_facebook_likes         gross genres  ... num_user_for_reviews  \\\n",
       "count              5036.000000  4.159000e+03   5043  ...          5022.000000   \n",
       "unique                     NaN           NaN    914  ...                  NaN   \n",
       "top                        NaN           NaN  Drama  ...                  NaN   \n",
       "freq                       NaN           NaN    236  ...                  NaN   \n",
       "mean               6560.047061  4.846841e+07    NaN  ...           272.770808   \n",
       "std               15020.759120  6.845299e+07    NaN  ...           377.982886   \n",
       "min                   0.000000  1.620000e+02    NaN  ...             1.000000   \n",
       "25%                 614.000000  5.340988e+06    NaN  ...            65.000000   \n",
       "50%                 988.000000  2.551750e+07    NaN  ...           156.000000   \n",
       "75%               11000.000000  6.230944e+07    NaN  ...           326.000000   \n",
       "max              640000.000000  7.605058e+08    NaN  ...          5060.000000   \n",
       "\n",
       "       language  country  content_rating        budget   title_year  \\\n",
       "count      5031     5038            4740  4.551000e+03  4935.000000   \n",
       "unique       47       65              18           NaN          NaN   \n",
       "top     English      USA               R           NaN          NaN   \n",
       "freq       4704     3807            2118           NaN          NaN   \n",
       "mean        NaN      NaN             NaN  3.975262e+07  2002.470517   \n",
       "std         NaN      NaN             NaN  2.061149e+08    12.474599   \n",
       "min         NaN      NaN             NaN  2.180000e+02  1916.000000   \n",
       "25%         NaN      NaN             NaN  6.000000e+06  1999.000000   \n",
       "50%         NaN      NaN             NaN  2.000000e+07  2005.000000   \n",
       "75%         NaN      NaN             NaN  4.500000e+07  2011.000000   \n",
       "max         NaN      NaN             NaN  1.221550e+10  2016.000000   \n",
       "\n",
       "       actor_2_facebook_likes   imdb_score  aspect_ratio movie_facebook_likes  \n",
       "count             5030.000000  5043.000000   4714.000000          5043.000000  \n",
       "unique                    NaN          NaN           NaN                  NaN  \n",
       "top                       NaN          NaN           NaN                  NaN  \n",
       "freq                      NaN          NaN           NaN                  NaN  \n",
       "mean              1651.754473     6.442138      2.220403          7525.964505  \n",
       "std               4042.438863     1.125116      1.385113         19320.445110  \n",
       "min                  0.000000     1.600000      1.180000             0.000000  \n",
       "25%                281.000000     5.800000      1.850000             0.000000  \n",
       "50%                595.000000     6.600000      2.350000           166.000000  \n",
       "75%                918.000000     7.200000      2.350000          3000.000000  \n",
       "max             137000.000000     9.500000     16.000000        349000.000000  \n",
       "\n",
       "[11 rows x 28 columns]"
      ]
     },
     "execution_count": 3,
     "metadata": {},
     "output_type": "execute_result"
    }
   ],
   "source": [
    "# read in and explore data\n",
    "movies.describe(include='all')"
   ]
  },
  {
   "cell_type": "markdown",
   "metadata": {},
   "source": [
    "# Data analyses "
   ]
  },
  {
   "cell_type": "code",
   "execution_count": 4,
   "metadata": {
    "scrolled": true
   },
   "outputs": [
    {
     "data": {
      "text/plain": [
       "Index(['color', 'director_name', 'num_critic_for_reviews', 'duration',\n",
       "       'director_facebook_likes', 'actor_3_facebook_likes', 'actor_2_name',\n",
       "       'actor_1_facebook_likes', 'gross', 'genres', 'actor_1_name',\n",
       "       'movie_title', 'num_voted_users', 'cast_total_facebook_likes',\n",
       "       'actor_3_name', 'facenumber_in_poster', 'plot_keywords',\n",
       "       'movie_imdb_link', 'num_user_for_reviews', 'language', 'country',\n",
       "       'content_rating', 'budget', 'title_year', 'actor_2_facebook_likes',\n",
       "       'imdb_score', 'aspect_ratio', 'movie_facebook_likes'],\n",
       "      dtype='object')"
      ]
     },
     "execution_count": 4,
     "metadata": {},
     "output_type": "execute_result"
    }
   ],
   "source": [
    "# list of features within dataset \n",
    "movies.columns"
   ]
  },
  {
   "cell_type": "markdown",
   "metadata": {},
   "source": [
    "De kolommen die we van plan zijn mee te nemen omdat ze relevant zijn voor de onderzoeksvragen die we hebben opgesteld:\n",
    "\n",
    "- movie_title\n",
    "- title_year\n",
    "- imdb_score\n",
    "- movie_facebook_likes\n",
    "- director_name\n",
    "- gross\n",
    "- duration\n",
    "- num_voted_users\n",
    "- actor_1_name \n",
    "- actor_2_name\n",
    "- actor_3_name\n",
    "- actor_1_facebook_likes\n",
    "- actor_2_facebook_likes\n",
    "- actor_3_facebook_likes\n",
    "- genres"
   ]
  },
  {
   "cell_type": "code",
   "execution_count": 5,
   "metadata": {},
   "outputs": [
    {
     "data": {
      "text/html": [
       "<div>\n",
       "<style scoped>\n",
       "    .dataframe tbody tr th:only-of-type {\n",
       "        vertical-align: middle;\n",
       "    }\n",
       "\n",
       "    .dataframe tbody tr th {\n",
       "        vertical-align: top;\n",
       "    }\n",
       "\n",
       "    .dataframe thead th {\n",
       "        text-align: right;\n",
       "    }\n",
       "</style>\n",
       "<table border=\"1\" class=\"dataframe\">\n",
       "  <thead>\n",
       "    <tr style=\"text-align: right;\">\n",
       "      <th></th>\n",
       "      <th>color</th>\n",
       "      <th>director_name</th>\n",
       "      <th>num_critic_for_reviews</th>\n",
       "      <th>duration</th>\n",
       "      <th>director_facebook_likes</th>\n",
       "      <th>actor_3_facebook_likes</th>\n",
       "      <th>actor_2_name</th>\n",
       "      <th>actor_1_facebook_likes</th>\n",
       "      <th>gross</th>\n",
       "      <th>genres</th>\n",
       "      <th>...</th>\n",
       "      <th>num_user_for_reviews</th>\n",
       "      <th>language</th>\n",
       "      <th>country</th>\n",
       "      <th>content_rating</th>\n",
       "      <th>budget</th>\n",
       "      <th>title_year</th>\n",
       "      <th>actor_2_facebook_likes</th>\n",
       "      <th>imdb_score</th>\n",
       "      <th>aspect_ratio</th>\n",
       "      <th>movie_facebook_likes</th>\n",
       "    </tr>\n",
       "  </thead>\n",
       "  <tbody>\n",
       "    <tr>\n",
       "      <th>4188</th>\n",
       "      <td>Color</td>\n",
       "      <td>Gus Van Sant</td>\n",
       "      <td>63.0</td>\n",
       "      <td>104.0</td>\n",
       "      <td>835.0</td>\n",
       "      <td>535.0</td>\n",
       "      <td>Udo Kier</td>\n",
       "      <td>18000.0</td>\n",
       "      <td>6401336.0</td>\n",
       "      <td>Drama</td>\n",
       "      <td>...</td>\n",
       "      <td>153.0</td>\n",
       "      <td>English</td>\n",
       "      <td>USA</td>\n",
       "      <td>R</td>\n",
       "      <td>2500000.0</td>\n",
       "      <td>1991.0</td>\n",
       "      <td>595.0</td>\n",
       "      <td>7.1</td>\n",
       "      <td>1.78</td>\n",
       "      <td>0</td>\n",
       "    </tr>\n",
       "    <tr>\n",
       "      <th>2208</th>\n",
       "      <td>Color</td>\n",
       "      <td>John Luessenhop</td>\n",
       "      <td>282.0</td>\n",
       "      <td>92.0</td>\n",
       "      <td>34.0</td>\n",
       "      <td>322.0</td>\n",
       "      <td>Keram Malicki-Sánchez</td>\n",
       "      <td>383.0</td>\n",
       "      <td>34334256.0</td>\n",
       "      <td>Horror|Thriller</td>\n",
       "      <td>...</td>\n",
       "      <td>255.0</td>\n",
       "      <td>English</td>\n",
       "      <td>USA</td>\n",
       "      <td>R</td>\n",
       "      <td>11000000.0</td>\n",
       "      <td>2013.0</td>\n",
       "      <td>333.0</td>\n",
       "      <td>4.8</td>\n",
       "      <td>2.35</td>\n",
       "      <td>16000</td>\n",
       "    </tr>\n",
       "    <tr>\n",
       "      <th>4161</th>\n",
       "      <td>Color</td>\n",
       "      <td>Victor Nunez</td>\n",
       "      <td>61.0</td>\n",
       "      <td>113.0</td>\n",
       "      <td>9.0</td>\n",
       "      <td>42.0</td>\n",
       "      <td>Patricia Richardson</td>\n",
       "      <td>402.0</td>\n",
       "      <td>9054736.0</td>\n",
       "      <td>Drama</td>\n",
       "      <td>...</td>\n",
       "      <td>57.0</td>\n",
       "      <td>English</td>\n",
       "      <td>USA</td>\n",
       "      <td>R</td>\n",
       "      <td>2700000.0</td>\n",
       "      <td>1997.0</td>\n",
       "      <td>222.0</td>\n",
       "      <td>7.1</td>\n",
       "      <td>1.66</td>\n",
       "      <td>381</td>\n",
       "    </tr>\n",
       "    <tr>\n",
       "      <th>792</th>\n",
       "      <td>Color</td>\n",
       "      <td>Patrick Gilmore</td>\n",
       "      <td>98.0</td>\n",
       "      <td>85.0</td>\n",
       "      <td>0.0</td>\n",
       "      <td>82.0</td>\n",
       "      <td>Adriano Giannini</td>\n",
       "      <td>11000.0</td>\n",
       "      <td>26288320.0</td>\n",
       "      <td>Adventure|Animation|Comedy|Drama|Family|Fantas...</td>\n",
       "      <td>...</td>\n",
       "      <td>91.0</td>\n",
       "      <td>English</td>\n",
       "      <td>USA</td>\n",
       "      <td>PG</td>\n",
       "      <td>60000000.0</td>\n",
       "      <td>2003.0</td>\n",
       "      <td>102.0</td>\n",
       "      <td>6.7</td>\n",
       "      <td>1.66</td>\n",
       "      <td>880</td>\n",
       "    </tr>\n",
       "    <tr>\n",
       "      <th>1131</th>\n",
       "      <td>Color</td>\n",
       "      <td>Barry Sonnenfeld</td>\n",
       "      <td>87.0</td>\n",
       "      <td>74.0</td>\n",
       "      <td>188.0</td>\n",
       "      <td>865.0</td>\n",
       "      <td>Janeane Garofalo</td>\n",
       "      <td>11000.0</td>\n",
       "      <td>7262288.0</td>\n",
       "      <td>Comedy|Crime|Thriller</td>\n",
       "      <td>...</td>\n",
       "      <td>186.0</td>\n",
       "      <td>English</td>\n",
       "      <td>USA</td>\n",
       "      <td>PG-13</td>\n",
       "      <td>40000000.0</td>\n",
       "      <td>2002.0</td>\n",
       "      <td>1000.0</td>\n",
       "      <td>6.5</td>\n",
       "      <td>1.85</td>\n",
       "      <td>892</td>\n",
       "    </tr>\n",
       "  </tbody>\n",
       "</table>\n",
       "<p>5 rows × 28 columns</p>\n",
       "</div>"
      ],
      "text/plain": [
       "      color     director_name  num_critic_for_reviews  duration  \\\n",
       "4188  Color      Gus Van Sant                    63.0     104.0   \n",
       "2208  Color   John Luessenhop                   282.0      92.0   \n",
       "4161  Color      Victor Nunez                    61.0     113.0   \n",
       "792   Color   Patrick Gilmore                    98.0      85.0   \n",
       "1131  Color  Barry Sonnenfeld                    87.0      74.0   \n",
       "\n",
       "      director_facebook_likes  actor_3_facebook_likes           actor_2_name  \\\n",
       "4188                    835.0                   535.0               Udo Kier   \n",
       "2208                     34.0                   322.0  Keram Malicki-Sánchez   \n",
       "4161                      9.0                    42.0    Patricia Richardson   \n",
       "792                       0.0                    82.0       Adriano Giannini   \n",
       "1131                    188.0                   865.0       Janeane Garofalo   \n",
       "\n",
       "      actor_1_facebook_likes       gross  \\\n",
       "4188                 18000.0   6401336.0   \n",
       "2208                   383.0  34334256.0   \n",
       "4161                   402.0   9054736.0   \n",
       "792                  11000.0  26288320.0   \n",
       "1131                 11000.0   7262288.0   \n",
       "\n",
       "                                                 genres  ...  \\\n",
       "4188                                              Drama  ...   \n",
       "2208                                    Horror|Thriller  ...   \n",
       "4161                                              Drama  ...   \n",
       "792   Adventure|Animation|Comedy|Drama|Family|Fantas...  ...   \n",
       "1131                              Comedy|Crime|Thriller  ...   \n",
       "\n",
       "     num_user_for_reviews language  country  content_rating      budget  \\\n",
       "4188                153.0  English      USA               R   2500000.0   \n",
       "2208                255.0  English      USA               R  11000000.0   \n",
       "4161                 57.0  English      USA               R   2700000.0   \n",
       "792                  91.0  English      USA              PG  60000000.0   \n",
       "1131                186.0  English      USA           PG-13  40000000.0   \n",
       "\n",
       "      title_year actor_2_facebook_likes imdb_score  aspect_ratio  \\\n",
       "4188      1991.0                  595.0        7.1          1.78   \n",
       "2208      2013.0                  333.0        4.8          2.35   \n",
       "4161      1997.0                  222.0        7.1          1.66   \n",
       "792       2003.0                  102.0        6.7          1.66   \n",
       "1131      2002.0                 1000.0        6.5          1.85   \n",
       "\n",
       "     movie_facebook_likes  \n",
       "4188                    0  \n",
       "2208                16000  \n",
       "4161                  381  \n",
       "792                   880  \n",
       "1131                  892  \n",
       "\n",
       "[5 rows x 28 columns]"
      ]
     },
     "execution_count": 5,
     "metadata": {},
     "output_type": "execute_result"
    }
   ],
   "source": [
    "# sample of the dataset \n",
    "movies.sample(5)"
   ]
  },
  {
   "cell_type": "markdown",
   "metadata": {},
   "source": [
    "Observations: \n",
    "\n",
    "- Er zijn in totaal 5038(?) films (inclusief dubbele waarden)\n",
    "- Met movies.duplicated(subset=None,keep='first').sum() zien we hoeveel dubbele waarden er zijn: 45\n",
    "- 4939 director_names\n",
    "- 5030 actor_2_name\n",
    "- 5038 country "
   ]
  },
  {
   "cell_type": "code",
   "execution_count": 6,
   "metadata": {},
   "outputs": [
    {
     "data": {
      "text/plain": [
       "45"
      ]
     },
     "execution_count": 6,
     "metadata": {},
     "output_type": "execute_result"
    }
   ],
   "source": [
    "movies.duplicated(subset=None,keep='first').sum()"
   ]
  },
  {
   "cell_type": "markdown",
   "metadata": {},
   "source": [
    "We kunnen per kolom gaan bekijken hoeveel NULL waarden er per kolom in de dataset zijn d.m.v. pd.isnull().sum()"
   ]
  },
  {
   "cell_type": "code",
   "execution_count": 7,
   "metadata": {},
   "outputs": [
    {
     "data": {
      "text/plain": [
       "color                         19\n",
       "director_name                104\n",
       "num_critic_for_reviews        50\n",
       "duration                      15\n",
       "director_facebook_likes      104\n",
       "actor_3_facebook_likes        23\n",
       "actor_2_name                  13\n",
       "actor_1_facebook_likes         7\n",
       "gross                        884\n",
       "genres                         0\n",
       "actor_1_name                   7\n",
       "movie_title                    0\n",
       "num_voted_users                0\n",
       "cast_total_facebook_likes      0\n",
       "actor_3_name                  23\n",
       "facenumber_in_poster          13\n",
       "plot_keywords                153\n",
       "movie_imdb_link                0\n",
       "num_user_for_reviews          21\n",
       "language                      12\n",
       "country                        5\n",
       "content_rating               303\n",
       "budget                       492\n",
       "title_year                   108\n",
       "actor_2_facebook_likes        13\n",
       "imdb_score                     0\n",
       "aspect_ratio                 329\n",
       "movie_facebook_likes           0\n",
       "dtype: int64"
      ]
     },
     "execution_count": 7,
     "metadata": {},
     "output_type": "execute_result"
    }
   ],
   "source": [
    "pd.isnull(movies).sum()"
   ]
  },
  {
   "cell_type": "markdown",
   "metadata": {},
   "source": [
    "Alle kolommen hebben NULL-waarden behalve: genres, movie_title, num_voted_users, cast_total_facebook_likes, movie_imdb_link, imdb_score.\n",
    "\n",
    "Wat opvalt is dat gross de meeste NULL-waarden heeft. In totaal zijn er voor gross 4.159000e+03\trecords (4159) waarvan er 884 ontbreken. Dit is 21,26%. Aangezien we dit kolom wel willen meenemen is dit een belangrijk punt waar we rekening mee moeten houden bij verdere uitwerkingen"
   ]
  },
  {
   "cell_type": "markdown",
   "metadata": {},
   "source": [
    "# Voorspellingen\n",
    "\n",
    "Aan de hand van de onderzoeksvragen kunnen we ook voorspellingen gaan doen die ons helpen bij het beantwoorden van deze vragen"
   ]
  },
  {
   "cell_type": "markdown",
   "metadata": {},
   "source": [
    "Voorspelling: Hoe meer likes een bepaald acteur/actrice op facebook krijgt (dus hoe populairder de acteur/actrice is), hoe hoger de kans is dat de film waarin de acteur/actrice in speelt ook meer bekeken wordt.\n",
    "\n",
    "Onderzoeksvraag: Wat is de invloed op populariteit van een film als er een populaire acteur wordt gecast?"
   ]
  },
  {
   "cell_type": "markdown",
   "metadata": {},
   "source": [
    "We nemen de onderstaande kolommen mee om te meten hoe 'populair' een acteur/actrice is door de facebook-likes te nemen\n",
    "- actor_2_name\n",
    "- actor_2_facebook_likes"
   ]
  },
  {
   "cell_type": "code",
   "execution_count": 8,
   "metadata": {},
   "outputs": [],
   "source": [
    "q = movies['actor_2_facebook_likes'].head(10)"
   ]
  },
  {
   "cell_type": "code",
   "execution_count": 9,
   "metadata": {},
   "outputs": [],
   "source": [
    "r = movies['actor_2_name'].head(10)"
   ]
  },
  {
   "cell_type": "code",
   "execution_count": 10,
   "metadata": {},
   "outputs": [
    {
     "data": {
      "text/plain": [
       "(array([    0.,  5000., 10000., 15000., 20000., 25000.]),\n",
       " <a list of 6 Text xticklabel objects>)"
      ]
     },
     "execution_count": 10,
     "metadata": {},
     "output_type": "execute_result"
    },
    {
     "data": {
      "image/png": "[encoded data removed]",
      "text/plain": [
       "<Figure size 432x288 with 1 Axes>"
      ]
     },
     "metadata": {
      "needs_background": "light"
     },
     "output_type": "display_data"
    }
   ],
   "source": [
    "h = sns.barplot(x=q, y=r, data=movies)\n",
    "plt.xticks(rotation=90)"
   ]
  },
  {
   "cell_type": "markdown",
   "metadata": {},
   "source": [
    "We zien dus dat acteur Christian Bale de meeste facebook-likes heeft en daarmee voorspellen we ook dat hij in de beter bekeken film zit uit die lijst van 10.\n",
    "Daarnaast missen we de likes van Rob Walker, maar het feit dat we nooit van deze man hebben gehoord zal ook genoeg zeggen over zijn facebook likes, het is dus niet waarschijnlijk dat hij Christian Bale inhaalt.\n",
    "\n",
    "Om te kijken of de meest populaire acteurs ook in beter bekeken films zitten gaan we ook het volgende plotten:"
   ]
  },
  {
   "cell_type": "code",
   "execution_count": 11,
   "metadata": {},
   "outputs": [],
   "source": [
    "# als voorbeeld nemen we alleen 10 records\n",
    "# variabele x zijn de film \n",
    "x = movies['movie_title'].head(10)"
   ]
  },
  {
   "cell_type": "code",
   "execution_count": 12,
   "metadata": {},
   "outputs": [],
   "source": [
    "# variabele y zijn de scores die elk film heeft gescoord op IMDB\n",
    "y = movies['imdb_score'].head(10)"
   ]
  },
  {
   "cell_type": "markdown",
   "metadata": {},
   "source": [
    "Als we variabele x en y gaan plotten met behulp van module seaborn kunnen we zien hoe elke film heeft gescoord en welke bijvoorbeeld uitsteekt. "
   ]
  },
  {
   "cell_type": "code",
   "execution_count": 13,
   "metadata": {},
   "outputs": [
    {
     "data": {
      "text/plain": [
       "(array([0., 1., 2., 3., 4., 5., 6., 7., 8., 9.]),\n",
       " <a list of 10 Text xticklabel objects>)"
      ]
     },
     "execution_count": 13,
     "metadata": {},
     "output_type": "execute_result"
    },
    {
     "data": {
      "image/png": "[encoded data removed]",
      "text/plain": [
       "<Figure size 432x288 with 1 Axes>"
      ]
     },
     "metadata": {
      "needs_background": "light"
     },
     "output_type": "display_data"
    }
   ],
   "source": [
    "g = sns.barplot(x=y, y=x, data=movies)\n",
    "plt.xticks(rotation=90)"
   ]
  },
  {
   "cell_type": "markdown",
   "metadata": {},
   "source": [
    "Hogere imdb-score is niet altijd een meer bekeken film. Num_voted_users geeft weer hoeveel mensen er voor een film hebben gestemd. De mensen die hebben gestemd hebben hoogstwaarschijnlijk ook de film bekeken. Deze kolom kunnen we dus als maatstaf nemen. \n",
    "- Movies_title\n",
    "- Num_voted_users\n"
   ]
  },
  {
   "cell_type": "code",
   "execution_count": 14,
   "metadata": {},
   "outputs": [],
   "source": [
    "# de films\n",
    "a = movies['movie_title'].head(10)"
   ]
  },
  {
   "cell_type": "code",
   "execution_count": 15,
   "metadata": {},
   "outputs": [],
   "source": [
    "# aantal stemmen wat een film heeft gescoord\n",
    "b = movies['num_voted_users'].head(10)"
   ]
  },
  {
   "cell_type": "code",
   "execution_count": 16,
   "metadata": {},
   "outputs": [
    {
     "data": {
      "text/plain": [
       "(array([      0.,  200000.,  400000.,  600000.,  800000., 1000000.,\n",
       "        1200000., 1400000.]), <a list of 8 Text xticklabel objects>)"
      ]
     },
     "execution_count": 16,
     "metadata": {},
     "output_type": "execute_result"
    },
    {
     "data": {
      "image/png": "[encoded data removed]",
      "text/plain": [
       "<Figure size 432x288 with 1 Axes>"
      ]
     },
     "metadata": {
      "needs_background": "light"
     },
     "output_type": "display_data"
    }
   ],
   "source": [
    "# bovenstaande data a en b gaan plotten in een grafiek\n",
    "i = sns.barplot(x=b, y=a, data=movies)\n",
    "plt.xticks(rotation=90)"
   ]
  },
  {
   "cell_type": "markdown",
   "metadata": {},
   "source": [
    "De meest bekeken film is in de bovenste voorbeeld ‘The Dark Knight Rises’ en daarbij hoort acteur Christian Bale, die ook de meeste likes heeft. \n",
    "Echter is de film met de minste stemmen ‘John Carter’ waar actrice Samanta Morton bij hoort, die niet de minste likes heeft. \n"
   ]
  },
  {
   "cell_type": "markdown",
   "metadata": {},
   "source": [
    "# Opschonen Dataset\n",
    "Bij het opschonen van de dataset kunnen we een variabele 'selection' maken die de kolommen meeneemt uit bovenstaande selectie:"
   ]
  },
  {
   "cell_type": "code",
   "execution_count": 17,
   "metadata": {},
   "outputs": [],
   "source": [
    "selection = movies[['movie_title', 'title_year', 'imdb_score', 'movie_facebook_likes', 'director_name', 'gross', 'duration', 'num_voted_users', 'actor_1_name', 'actor_2_name', 'actor_3_name', 'actor_1_facebook_likes', 'actor_2_facebook_likes', 'actor_3_facebook_likes', 'genres']]"
   ]
  },
  {
   "cell_type": "markdown",
   "metadata": {},
   "source": [
    "Als een film geen 'movie_title' heeft zegt de rest van de data niet zoveel meer, dus we kunnen alle rijen zonder 'movie_title' droppen. Daarnaast droppen we ook alle rijen die meer dan 1 NaN waarde hebben. Ook moeten de volledig dubbele rijen eruit gefilterd worden, anders komt precies dezelfde data 2 keer voor"
   ]
  },
  {
   "cell_type": "code",
   "execution_count": 18,
   "metadata": {},
   "outputs": [],
   "source": [
    "selection.dropna(subset=['movie_title'], inplace=True)\n",
    "selection.dropna(thresh=14, inplace=True)\n",
    "selection.drop_duplicates(subset=None, keep='first', inplace=True)"
   ]
  },
  {
   "cell_type": "code",
   "execution_count": 19,
   "metadata": {},
   "outputs": [
    {
     "name": "stdout",
     "output_type": "stream",
     "text": [
      "4863\n"
     ]
    }
   ],
   "source": [
    "print(len(selection))"
   ]
  },
  {
   "cell_type": "markdown",
   "metadata": {},
   "source": [
    "De oorspronkelijke lengte van de dataset was 5043 records, we houden uiteindelijk 4863 records over, wat betekent dat we 3,57% van de dataset kwijtraken"
   ]
  },
  {
   "cell_type": "markdown",
   "metadata": {},
   "source": [
    "Heel veel waarden (zoals title_year) zijn floats, deze moeten allemaal worden omgezet naar int. Ook kan de movie_title als index worden gebruikt, omdat dit een unieke waarde is (dubbele zijn eruit gehaald)"
   ]
  },
  {
   "cell_type": "code",
   "execution_count": 20,
   "metadata": {},
   "outputs": [
    {
     "data": {
      "text/html": [
       "<div>\n",
       "<style scoped>\n",
       "    .dataframe tbody tr th:only-of-type {\n",
       "        vertical-align: middle;\n",
       "    }\n",
       "\n",
       "    .dataframe tbody tr th {\n",
       "        vertical-align: top;\n",
       "    }\n",
       "\n",
       "    .dataframe thead th {\n",
       "        text-align: right;\n",
       "    }\n",
       "</style>\n",
       "<table border=\"1\" class=\"dataframe\">\n",
       "  <thead>\n",
       "    <tr style=\"text-align: right;\">\n",
       "      <th></th>\n",
       "      <th>title_year</th>\n",
       "      <th>imdb_score</th>\n",
       "      <th>movie_facebook_likes</th>\n",
       "      <th>director_name</th>\n",
       "      <th>gross</th>\n",
       "      <th>duration</th>\n",
       "      <th>num_voted_users</th>\n",
       "      <th>actor_1_name</th>\n",
       "      <th>actor_2_name</th>\n",
       "      <th>actor_3_name</th>\n",
       "      <th>actor_1_facebook_likes</th>\n",
       "      <th>actor_2_facebook_likes</th>\n",
       "      <th>actor_3_facebook_likes</th>\n",
       "      <th>genres</th>\n",
       "    </tr>\n",
       "    <tr>\n",
       "      <th>movie_title</th>\n",
       "      <th></th>\n",
       "      <th></th>\n",
       "      <th></th>\n",
       "      <th></th>\n",
       "      <th></th>\n",
       "      <th></th>\n",
       "      <th></th>\n",
       "      <th></th>\n",
       "      <th></th>\n",
       "      <th></th>\n",
       "      <th></th>\n",
       "      <th></th>\n",
       "      <th></th>\n",
       "      <th></th>\n",
       "    </tr>\n",
       "  </thead>\n",
       "  <tbody>\n",
       "    <tr>\n",
       "      <th>Avatar</th>\n",
       "      <td>2009</td>\n",
       "      <td>7.9</td>\n",
       "      <td>33000</td>\n",
       "      <td>James Cameron</td>\n",
       "      <td>760505847</td>\n",
       "      <td>178</td>\n",
       "      <td>886204</td>\n",
       "      <td>CCH Pounder</td>\n",
       "      <td>Joel David Moore</td>\n",
       "      <td>Wes Studi</td>\n",
       "      <td>1000</td>\n",
       "      <td>936</td>\n",
       "      <td>855</td>\n",
       "      <td>Action|Adventure|Fantasy|Sci-Fi</td>\n",
       "    </tr>\n",
       "    <tr>\n",
       "      <th>Pirates of the Caribbean: At World's End</th>\n",
       "      <td>2007</td>\n",
       "      <td>7.1</td>\n",
       "      <td>0</td>\n",
       "      <td>Gore Verbinski</td>\n",
       "      <td>309404152</td>\n",
       "      <td>169</td>\n",
       "      <td>471220</td>\n",
       "      <td>Johnny Depp</td>\n",
       "      <td>Orlando Bloom</td>\n",
       "      <td>Jack Davenport</td>\n",
       "      <td>40000</td>\n",
       "      <td>5000</td>\n",
       "      <td>1000</td>\n",
       "      <td>Action|Adventure|Fantasy</td>\n",
       "    </tr>\n",
       "    <tr>\n",
       "      <th>Spectre</th>\n",
       "      <td>2015</td>\n",
       "      <td>6.8</td>\n",
       "      <td>85000</td>\n",
       "      <td>Sam Mendes</td>\n",
       "      <td>200074175</td>\n",
       "      <td>148</td>\n",
       "      <td>275868</td>\n",
       "      <td>Christoph Waltz</td>\n",
       "      <td>Rory Kinnear</td>\n",
       "      <td>Stephanie Sigman</td>\n",
       "      <td>11000</td>\n",
       "      <td>393</td>\n",
       "      <td>161</td>\n",
       "      <td>Action|Adventure|Thriller</td>\n",
       "    </tr>\n",
       "    <tr>\n",
       "      <th>The Dark Knight Rises</th>\n",
       "      <td>2012</td>\n",
       "      <td>8.5</td>\n",
       "      <td>164000</td>\n",
       "      <td>Christopher Nolan</td>\n",
       "      <td>448130642</td>\n",
       "      <td>164</td>\n",
       "      <td>1144337</td>\n",
       "      <td>Tom Hardy</td>\n",
       "      <td>Christian Bale</td>\n",
       "      <td>Joseph Gordon-Levitt</td>\n",
       "      <td>27000</td>\n",
       "      <td>23000</td>\n",
       "      <td>23000</td>\n",
       "      <td>Action|Thriller</td>\n",
       "    </tr>\n",
       "    <tr>\n",
       "      <th>John Carter</th>\n",
       "      <td>2012</td>\n",
       "      <td>6.6</td>\n",
       "      <td>24000</td>\n",
       "      <td>Andrew Stanton</td>\n",
       "      <td>73058679</td>\n",
       "      <td>132</td>\n",
       "      <td>212204</td>\n",
       "      <td>Daryl Sabara</td>\n",
       "      <td>Samantha Morton</td>\n",
       "      <td>Polly Walker</td>\n",
       "      <td>640</td>\n",
       "      <td>632</td>\n",
       "      <td>530</td>\n",
       "      <td>Action|Adventure|Sci-Fi</td>\n",
       "    </tr>\n",
       "    <tr>\n",
       "      <th>Spider-Man 3</th>\n",
       "      <td>2007</td>\n",
       "      <td>6.2</td>\n",
       "      <td>0</td>\n",
       "      <td>Sam Raimi</td>\n",
       "      <td>336530303</td>\n",
       "      <td>156</td>\n",
       "      <td>383056</td>\n",
       "      <td>J.K. Simmons</td>\n",
       "      <td>James Franco</td>\n",
       "      <td>Kirsten Dunst</td>\n",
       "      <td>24000</td>\n",
       "      <td>11000</td>\n",
       "      <td>4000</td>\n",
       "      <td>Action|Adventure|Romance</td>\n",
       "    </tr>\n",
       "    <tr>\n",
       "      <th>Tangled</th>\n",
       "      <td>2010</td>\n",
       "      <td>7.8</td>\n",
       "      <td>29000</td>\n",
       "      <td>Nathan Greno</td>\n",
       "      <td>200807262</td>\n",
       "      <td>100</td>\n",
       "      <td>294810</td>\n",
       "      <td>Brad Garrett</td>\n",
       "      <td>Donna Murphy</td>\n",
       "      <td>M.C. Gainey</td>\n",
       "      <td>799</td>\n",
       "      <td>553</td>\n",
       "      <td>284</td>\n",
       "      <td>Adventure|Animation|Comedy|Family|Fantasy|Musi...</td>\n",
       "    </tr>\n",
       "    <tr>\n",
       "      <th>Avengers: Age of Ultron</th>\n",
       "      <td>2015</td>\n",
       "      <td>7.5</td>\n",
       "      <td>118000</td>\n",
       "      <td>Joss Whedon</td>\n",
       "      <td>458991599</td>\n",
       "      <td>141</td>\n",
       "      <td>462669</td>\n",
       "      <td>Chris Hemsworth</td>\n",
       "      <td>Robert Downey Jr.</td>\n",
       "      <td>Scarlett Johansson</td>\n",
       "      <td>26000</td>\n",
       "      <td>21000</td>\n",
       "      <td>19000</td>\n",
       "      <td>Action|Adventure|Sci-Fi</td>\n",
       "    </tr>\n",
       "    <tr>\n",
       "      <th>Harry Potter and the Half-Blood Prince</th>\n",
       "      <td>2009</td>\n",
       "      <td>7.5</td>\n",
       "      <td>10000</td>\n",
       "      <td>David Yates</td>\n",
       "      <td>301956980</td>\n",
       "      <td>153</td>\n",
       "      <td>321795</td>\n",
       "      <td>Alan Rickman</td>\n",
       "      <td>Daniel Radcliffe</td>\n",
       "      <td>Rupert Grint</td>\n",
       "      <td>25000</td>\n",
       "      <td>11000</td>\n",
       "      <td>10000</td>\n",
       "      <td>Adventure|Family|Fantasy|Mystery</td>\n",
       "    </tr>\n",
       "    <tr>\n",
       "      <th>Batman v Superman: Dawn of Justice</th>\n",
       "      <td>2016</td>\n",
       "      <td>6.9</td>\n",
       "      <td>197000</td>\n",
       "      <td>Zack Snyder</td>\n",
       "      <td>330249062</td>\n",
       "      <td>183</td>\n",
       "      <td>371639</td>\n",
       "      <td>Henry Cavill</td>\n",
       "      <td>Lauren Cohan</td>\n",
       "      <td>Alan D. Purwin</td>\n",
       "      <td>15000</td>\n",
       "      <td>4000</td>\n",
       "      <td>2000</td>\n",
       "      <td>Action|Adventure|Sci-Fi</td>\n",
       "    </tr>\n",
       "  </tbody>\n",
       "</table>\n",
       "</div>"
      ],
      "text/plain": [
       "                                           title_year  imdb_score  \\\n",
       "movie_title                                                         \n",
       "Avatar                                           2009         7.9   \n",
       "Pirates of the Caribbean: At World's End         2007         7.1   \n",
       "Spectre                                          2015         6.8   \n",
       "The Dark Knight Rises                            2012         8.5   \n",
       "John Carter                                      2012         6.6   \n",
       "Spider-Man 3                                     2007         6.2   \n",
       "Tangled                                          2010         7.8   \n",
       "Avengers: Age of Ultron                          2015         7.5   \n",
       "Harry Potter and the Half-Blood Prince           2009         7.5   \n",
       "Batman v Superman: Dawn of Justice               2016         6.9   \n",
       "\n",
       "                                           movie_facebook_likes  \\\n",
       "movie_title                                                       \n",
       "Avatar                                                    33000   \n",
       "Pirates of the Caribbean: At World's End                      0   \n",
       "Spectre                                                   85000   \n",
       "The Dark Knight Rises                                    164000   \n",
       "John Carter                                               24000   \n",
       "Spider-Man 3                                                  0   \n",
       "Tangled                                                   29000   \n",
       "Avengers: Age of Ultron                                  118000   \n",
       "Harry Potter and the Half-Blood Prince                    10000   \n",
       "Batman v Superman: Dawn of Justice                       197000   \n",
       "\n",
       "                                               director_name      gross  \\\n",
       "movie_title                                                               \n",
       "Avatar                                         James Cameron  760505847   \n",
       "Pirates of the Caribbean: At World's End      Gore Verbinski  309404152   \n",
       "Spectre                                           Sam Mendes  200074175   \n",
       "The Dark Knight Rises                      Christopher Nolan  448130642   \n",
       "John Carter                                   Andrew Stanton   73058679   \n",
       "Spider-Man 3                                       Sam Raimi  336530303   \n",
       "Tangled                                         Nathan Greno  200807262   \n",
       "Avengers: Age of Ultron                          Joss Whedon  458991599   \n",
       "Harry Potter and the Half-Blood Prince           David Yates  301956980   \n",
       "Batman v Superman: Dawn of Justice               Zack Snyder  330249062   \n",
       "\n",
       "                                           duration  num_voted_users  \\\n",
       "movie_title                                                            \n",
       "Avatar                                          178           886204   \n",
       "Pirates of the Caribbean: At World's End        169           471220   \n",
       "Spectre                                         148           275868   \n",
       "The Dark Knight Rises                           164          1144337   \n",
       "John Carter                                     132           212204   \n",
       "Spider-Man 3                                    156           383056   \n",
       "Tangled                                         100           294810   \n",
       "Avengers: Age of Ultron                         141           462669   \n",
       "Harry Potter and the Half-Blood Prince          153           321795   \n",
       "Batman v Superman: Dawn of Justice              183           371639   \n",
       "\n",
       "                                              actor_1_name       actor_2_name  \\\n",
       "movie_title                                                                     \n",
       "Avatar                                         CCH Pounder   Joel David Moore   \n",
       "Pirates of the Caribbean: At World's End       Johnny Depp      Orlando Bloom   \n",
       "Spectre                                    Christoph Waltz       Rory Kinnear   \n",
       "The Dark Knight Rises                            Tom Hardy     Christian Bale   \n",
       "John Carter                                   Daryl Sabara    Samantha Morton   \n",
       "Spider-Man 3                                  J.K. Simmons       James Franco   \n",
       "Tangled                                       Brad Garrett       Donna Murphy   \n",
       "Avengers: Age of Ultron                    Chris Hemsworth  Robert Downey Jr.   \n",
       "Harry Potter and the Half-Blood Prince        Alan Rickman   Daniel Radcliffe   \n",
       "Batman v Superman: Dawn of Justice            Henry Cavill       Lauren Cohan   \n",
       "\n",
       "                                                   actor_3_name  \\\n",
       "movie_title                                                       \n",
       "Avatar                                                Wes Studi   \n",
       "Pirates of the Caribbean: At World's End         Jack Davenport   \n",
       "Spectre                                        Stephanie Sigman   \n",
       "The Dark Knight Rises                      Joseph Gordon-Levitt   \n",
       "John Carter                                        Polly Walker   \n",
       "Spider-Man 3                                      Kirsten Dunst   \n",
       "Tangled                                             M.C. Gainey   \n",
       "Avengers: Age of Ultron                      Scarlett Johansson   \n",
       "Harry Potter and the Half-Blood Prince             Rupert Grint   \n",
       "Batman v Superman: Dawn of Justice               Alan D. Purwin   \n",
       "\n",
       "                                           actor_1_facebook_likes  \\\n",
       "movie_title                                                         \n",
       "Avatar                                                       1000   \n",
       "Pirates of the Caribbean: At World's End                    40000   \n",
       "Spectre                                                     11000   \n",
       "The Dark Knight Rises                                       27000   \n",
       "John Carter                                                   640   \n",
       "Spider-Man 3                                                24000   \n",
       "Tangled                                                       799   \n",
       "Avengers: Age of Ultron                                     26000   \n",
       "Harry Potter and the Half-Blood Prince                      25000   \n",
       "Batman v Superman: Dawn of Justice                          15000   \n",
       "\n",
       "                                           actor_2_facebook_likes  \\\n",
       "movie_title                                                         \n",
       "Avatar                                                        936   \n",
       "Pirates of the Caribbean: At World's End                     5000   \n",
       "Spectre                                                       393   \n",
       "The Dark Knight Rises                                       23000   \n",
       "John Carter                                                   632   \n",
       "Spider-Man 3                                                11000   \n",
       "Tangled                                                       553   \n",
       "Avengers: Age of Ultron                                     21000   \n",
       "Harry Potter and the Half-Blood Prince                      11000   \n",
       "Batman v Superman: Dawn of Justice                           4000   \n",
       "\n",
       "                                           actor_3_facebook_likes  \\\n",
       "movie_title                                                         \n",
       "Avatar                                                        855   \n",
       "Pirates of the Caribbean: At World's End                     1000   \n",
       "Spectre                                                       161   \n",
       "The Dark Knight Rises                                       23000   \n",
       "John Carter                                                   530   \n",
       "Spider-Man 3                                                 4000   \n",
       "Tangled                                                       284   \n",
       "Avengers: Age of Ultron                                     19000   \n",
       "Harry Potter and the Half-Blood Prince                      10000   \n",
       "Batman v Superman: Dawn of Justice                           2000   \n",
       "\n",
       "                                                                                      genres  \n",
       "movie_title                                                                                   \n",
       "Avatar                                                       Action|Adventure|Fantasy|Sci-Fi  \n",
       "Pirates of the Caribbean: At World's End                            Action|Adventure|Fantasy  \n",
       "Spectre                                                            Action|Adventure|Thriller  \n",
       "The Dark Knight Rises                                                        Action|Thriller  \n",
       "John Carter                                                          Action|Adventure|Sci-Fi  \n",
       "Spider-Man 3                                                        Action|Adventure|Romance  \n",
       "Tangled                                    Adventure|Animation|Comedy|Family|Fantasy|Musi...  \n",
       "Avengers: Age of Ultron                                              Action|Adventure|Sci-Fi  \n",
       "Harry Potter and the Half-Blood Prince                      Adventure|Family|Fantasy|Mystery  \n",
       "Batman v Superman: Dawn of Justice                                   Action|Adventure|Sci-Fi  "
      ]
     },
     "execution_count": 20,
     "metadata": {},
     "output_type": "execute_result"
    }
   ],
   "source": [
    "selection[['title_year', 'gross', 'duration', 'actor_1_facebook_likes', 'actor_2_facebook_likes', 'actor_3_facebook_likes']] = selection[['title_year', 'gross', 'duration', 'actor_1_facebook_likes', 'actor_2_facebook_likes', 'actor_3_facebook_likes']].fillna(value=0)\n",
    "selection = selection.astype({'title_year': int, 'gross': int, 'duration': int, 'actor_1_facebook_likes': int, 'actor_2_facebook_likes': int, 'actor_3_facebook_likes': int})\n",
    "selection.set_index('movie_title', inplace=True)\n",
    "selection.head(10)"
   ]
  },
  {
   "cell_type": "markdown",
   "metadata": {},
   "source": [
    "Door selection.dtypes te gebruiken kunnen we zien dat elke kolom nu in het gewenste formaat staat:"
   ]
  },
  {
   "cell_type": "code",
   "execution_count": 21,
   "metadata": {},
   "outputs": [
    {
     "data": {
      "text/plain": [
       "title_year                  int64\n",
       "imdb_score                float64\n",
       "movie_facebook_likes        int64\n",
       "director_name              object\n",
       "gross                       int64\n",
       "duration                    int64\n",
       "num_voted_users             int64\n",
       "actor_1_name               object\n",
       "actor_2_name               object\n",
       "actor_3_name               object\n",
       "actor_1_facebook_likes      int64\n",
       "actor_2_facebook_likes      int64\n",
       "actor_3_facebook_likes      int64\n",
       "genres                     object\n",
       "dtype: object"
      ]
     },
     "execution_count": 21,
     "metadata": {},
     "output_type": "execute_result"
    }
   ],
   "source": [
    "selection.dtypes"
   ]
  },
  {
   "cell_type": "markdown",
   "metadata": {},
   "source": [
    "# Dataset\n",
    "Voor de dataset hebben we 2 opties: We hebben een IMDb dataset gevonden acteurs en hun populariteit. Daarnaast willen we meer data voor de eerste onderzoeksvraag. Hier zijn enkele bronnen voor, onder andere op filmonderzoek.nl We zijn nog aan het kijken of we hier een dataset vandaan kunnen halen om te gebruiken voor de eerste onderzoeksvraag."
   ]
  },
  {
   "cell_type": "code",
   "execution_count": 22,
   "metadata": {},
   "outputs": [],
   "source": [
    "# selection.profile_report(style={'full_width':True})"
   ]
  },
  {
   "cell_type": "markdown",
   "metadata": {},
   "source": [
    "Nu we de data grotendeels hebben opgeschoond en alleen de kolommen meenemen die relevant zijn voor de onderzoeksvragen kunnen we verder. \n",
    "*selection* is de nieuwe dataset die we gaan gebruiken en deze bevat zoals hieronder is te zien 0 NULL waarden. "
   ]
  },
  {
   "cell_type": "code",
   "execution_count": 23,
   "metadata": {},
   "outputs": [
    {
     "data": {
      "text/plain": [
       "title_year                0\n",
       "imdb_score                0\n",
       "movie_facebook_likes      0\n",
       "director_name             0\n",
       "gross                     0\n",
       "duration                  0\n",
       "num_voted_users           0\n",
       "actor_1_name              0\n",
       "actor_2_name              0\n",
       "actor_3_name              0\n",
       "actor_1_facebook_likes    0\n",
       "actor_2_facebook_likes    0\n",
       "actor_3_facebook_likes    0\n",
       "genres                    0\n",
       "dtype: int64"
      ]
     },
     "execution_count": 23,
     "metadata": {},
     "output_type": "execute_result"
    }
   ],
   "source": [
    "pd.isnull(selection).sum() "
   ]
  },
  {
   "cell_type": "code",
   "execution_count": 24,
   "metadata": {},
   "outputs": [
    {
     "data": {
      "text/html": [
       "<div>\n",
       "<style scoped>\n",
       "    .dataframe tbody tr th:only-of-type {\n",
       "        vertical-align: middle;\n",
       "    }\n",
       "\n",
       "    .dataframe tbody tr th {\n",
       "        vertical-align: top;\n",
       "    }\n",
       "\n",
       "    .dataframe thead th {\n",
       "        text-align: right;\n",
       "    }\n",
       "</style>\n",
       "<table border=\"1\" class=\"dataframe\">\n",
       "  <thead>\n",
       "    <tr style=\"text-align: right;\">\n",
       "      <th></th>\n",
       "      <th>title_year</th>\n",
       "      <th>imdb_score</th>\n",
       "      <th>movie_facebook_likes</th>\n",
       "      <th>director_name</th>\n",
       "      <th>gross</th>\n",
       "      <th>duration</th>\n",
       "      <th>num_voted_users</th>\n",
       "      <th>actor_1_name</th>\n",
       "      <th>actor_2_name</th>\n",
       "      <th>actor_3_name</th>\n",
       "      <th>actor_1_facebook_likes</th>\n",
       "      <th>actor_2_facebook_likes</th>\n",
       "      <th>actor_3_facebook_likes</th>\n",
       "      <th>genres</th>\n",
       "    </tr>\n",
       "    <tr>\n",
       "      <th>movie_title</th>\n",
       "      <th></th>\n",
       "      <th></th>\n",
       "      <th></th>\n",
       "      <th></th>\n",
       "      <th></th>\n",
       "      <th></th>\n",
       "      <th></th>\n",
       "      <th></th>\n",
       "      <th></th>\n",
       "      <th></th>\n",
       "      <th></th>\n",
       "      <th></th>\n",
       "      <th></th>\n",
       "      <th></th>\n",
       "    </tr>\n",
       "  </thead>\n",
       "  <tbody>\n",
       "    <tr>\n",
       "      <th>Avatar</th>\n",
       "      <td>2009</td>\n",
       "      <td>7.9</td>\n",
       "      <td>33000</td>\n",
       "      <td>James Cameron</td>\n",
       "      <td>760505847</td>\n",
       "      <td>178</td>\n",
       "      <td>886204</td>\n",
       "      <td>CCH Pounder</td>\n",
       "      <td>Joel David Moore</td>\n",
       "      <td>Wes Studi</td>\n",
       "      <td>1000</td>\n",
       "      <td>936</td>\n",
       "      <td>855</td>\n",
       "      <td>Action|Adventure|Fantasy|Sci-Fi</td>\n",
       "    </tr>\n",
       "    <tr>\n",
       "      <th>Pirates of the Caribbean: At World's End</th>\n",
       "      <td>2007</td>\n",
       "      <td>7.1</td>\n",
       "      <td>0</td>\n",
       "      <td>Gore Verbinski</td>\n",
       "      <td>309404152</td>\n",
       "      <td>169</td>\n",
       "      <td>471220</td>\n",
       "      <td>Johnny Depp</td>\n",
       "      <td>Orlando Bloom</td>\n",
       "      <td>Jack Davenport</td>\n",
       "      <td>40000</td>\n",
       "      <td>5000</td>\n",
       "      <td>1000</td>\n",
       "      <td>Action|Adventure|Fantasy</td>\n",
       "    </tr>\n",
       "    <tr>\n",
       "      <th>Spectre</th>\n",
       "      <td>2015</td>\n",
       "      <td>6.8</td>\n",
       "      <td>85000</td>\n",
       "      <td>Sam Mendes</td>\n",
       "      <td>200074175</td>\n",
       "      <td>148</td>\n",
       "      <td>275868</td>\n",
       "      <td>Christoph Waltz</td>\n",
       "      <td>Rory Kinnear</td>\n",
       "      <td>Stephanie Sigman</td>\n",
       "      <td>11000</td>\n",
       "      <td>393</td>\n",
       "      <td>161</td>\n",
       "      <td>Action|Adventure|Thriller</td>\n",
       "    </tr>\n",
       "    <tr>\n",
       "      <th>The Dark Knight Rises</th>\n",
       "      <td>2012</td>\n",
       "      <td>8.5</td>\n",
       "      <td>164000</td>\n",
       "      <td>Christopher Nolan</td>\n",
       "      <td>448130642</td>\n",
       "      <td>164</td>\n",
       "      <td>1144337</td>\n",
       "      <td>Tom Hardy</td>\n",
       "      <td>Christian Bale</td>\n",
       "      <td>Joseph Gordon-Levitt</td>\n",
       "      <td>27000</td>\n",
       "      <td>23000</td>\n",
       "      <td>23000</td>\n",
       "      <td>Action|Thriller</td>\n",
       "    </tr>\n",
       "    <tr>\n",
       "      <th>John Carter</th>\n",
       "      <td>2012</td>\n",
       "      <td>6.6</td>\n",
       "      <td>24000</td>\n",
       "      <td>Andrew Stanton</td>\n",
       "      <td>73058679</td>\n",
       "      <td>132</td>\n",
       "      <td>212204</td>\n",
       "      <td>Daryl Sabara</td>\n",
       "      <td>Samantha Morton</td>\n",
       "      <td>Polly Walker</td>\n",
       "      <td>640</td>\n",
       "      <td>632</td>\n",
       "      <td>530</td>\n",
       "      <td>Action|Adventure|Sci-Fi</td>\n",
       "    </tr>\n",
       "    <tr>\n",
       "      <th>Spider-Man 3</th>\n",
       "      <td>2007</td>\n",
       "      <td>6.2</td>\n",
       "      <td>0</td>\n",
       "      <td>Sam Raimi</td>\n",
       "      <td>336530303</td>\n",
       "      <td>156</td>\n",
       "      <td>383056</td>\n",
       "      <td>J.K. Simmons</td>\n",
       "      <td>James Franco</td>\n",
       "      <td>Kirsten Dunst</td>\n",
       "      <td>24000</td>\n",
       "      <td>11000</td>\n",
       "      <td>4000</td>\n",
       "      <td>Action|Adventure|Romance</td>\n",
       "    </tr>\n",
       "    <tr>\n",
       "      <th>Tangled</th>\n",
       "      <td>2010</td>\n",
       "      <td>7.8</td>\n",
       "      <td>29000</td>\n",
       "      <td>Nathan Greno</td>\n",
       "      <td>200807262</td>\n",
       "      <td>100</td>\n",
       "      <td>294810</td>\n",
       "      <td>Brad Garrett</td>\n",
       "      <td>Donna Murphy</td>\n",
       "      <td>M.C. Gainey</td>\n",
       "      <td>799</td>\n",
       "      <td>553</td>\n",
       "      <td>284</td>\n",
       "      <td>Adventure|Animation|Comedy|Family|Fantasy|Musi...</td>\n",
       "    </tr>\n",
       "    <tr>\n",
       "      <th>Avengers: Age of Ultron</th>\n",
       "      <td>2015</td>\n",
       "      <td>7.5</td>\n",
       "      <td>118000</td>\n",
       "      <td>Joss Whedon</td>\n",
       "      <td>458991599</td>\n",
       "      <td>141</td>\n",
       "      <td>462669</td>\n",
       "      <td>Chris Hemsworth</td>\n",
       "      <td>Robert Downey Jr.</td>\n",
       "      <td>Scarlett Johansson</td>\n",
       "      <td>26000</td>\n",
       "      <td>21000</td>\n",
       "      <td>19000</td>\n",
       "      <td>Action|Adventure|Sci-Fi</td>\n",
       "    </tr>\n",
       "    <tr>\n",
       "      <th>Harry Potter and the Half-Blood Prince</th>\n",
       "      <td>2009</td>\n",
       "      <td>7.5</td>\n",
       "      <td>10000</td>\n",
       "      <td>David Yates</td>\n",
       "      <td>301956980</td>\n",
       "      <td>153</td>\n",
       "      <td>321795</td>\n",
       "      <td>Alan Rickman</td>\n",
       "      <td>Daniel Radcliffe</td>\n",
       "      <td>Rupert Grint</td>\n",
       "      <td>25000</td>\n",
       "      <td>11000</td>\n",
       "      <td>10000</td>\n",
       "      <td>Adventure|Family|Fantasy|Mystery</td>\n",
       "    </tr>\n",
       "    <tr>\n",
       "      <th>Batman v Superman: Dawn of Justice</th>\n",
       "      <td>2016</td>\n",
       "      <td>6.9</td>\n",
       "      <td>197000</td>\n",
       "      <td>Zack Snyder</td>\n",
       "      <td>330249062</td>\n",
       "      <td>183</td>\n",
       "      <td>371639</td>\n",
       "      <td>Henry Cavill</td>\n",
       "      <td>Lauren Cohan</td>\n",
       "      <td>Alan D. Purwin</td>\n",
       "      <td>15000</td>\n",
       "      <td>4000</td>\n",
       "      <td>2000</td>\n",
       "      <td>Action|Adventure|Sci-Fi</td>\n",
       "    </tr>\n",
       "  </tbody>\n",
       "</table>\n",
       "</div>"
      ],
      "text/plain": [
       "                                           title_year  imdb_score  \\\n",
       "movie_title                                                         \n",
       "Avatar                                           2009         7.9   \n",
       "Pirates of the Caribbean: At World's End         2007         7.1   \n",
       "Spectre                                          2015         6.8   \n",
       "The Dark Knight Rises                            2012         8.5   \n",
       "John Carter                                      2012         6.6   \n",
       "Spider-Man 3                                     2007         6.2   \n",
       "Tangled                                          2010         7.8   \n",
       "Avengers: Age of Ultron                          2015         7.5   \n",
       "Harry Potter and the Half-Blood Prince           2009         7.5   \n",
       "Batman v Superman: Dawn of Justice               2016         6.9   \n",
       "\n",
       "                                           movie_facebook_likes  \\\n",
       "movie_title                                                       \n",
       "Avatar                                                    33000   \n",
       "Pirates of the Caribbean: At World's End                      0   \n",
       "Spectre                                                   85000   \n",
       "The Dark Knight Rises                                    164000   \n",
       "John Carter                                               24000   \n",
       "Spider-Man 3                                                  0   \n",
       "Tangled                                                   29000   \n",
       "Avengers: Age of Ultron                                  118000   \n",
       "Harry Potter and the Half-Blood Prince                    10000   \n",
       "Batman v Superman: Dawn of Justice                       197000   \n",
       "\n",
       "                                               director_name      gross  \\\n",
       "movie_title                                                               \n",
       "Avatar                                         James Cameron  760505847   \n",
       "Pirates of the Caribbean: At World's End      Gore Verbinski  309404152   \n",
       "Spectre                                           Sam Mendes  200074175   \n",
       "The Dark Knight Rises                      Christopher Nolan  448130642   \n",
       "John Carter                                   Andrew Stanton   73058679   \n",
       "Spider-Man 3                                       Sam Raimi  336530303   \n",
       "Tangled                                         Nathan Greno  200807262   \n",
       "Avengers: Age of Ultron                          Joss Whedon  458991599   \n",
       "Harry Potter and the Half-Blood Prince           David Yates  301956980   \n",
       "Batman v Superman: Dawn of Justice               Zack Snyder  330249062   \n",
       "\n",
       "                                           duration  num_voted_users  \\\n",
       "movie_title                                                            \n",
       "Avatar                                          178           886204   \n",
       "Pirates of the Caribbean: At World's End        169           471220   \n",
       "Spectre                                         148           275868   \n",
       "The Dark Knight Rises                           164          1144337   \n",
       "John Carter                                     132           212204   \n",
       "Spider-Man 3                                    156           383056   \n",
       "Tangled                                         100           294810   \n",
       "Avengers: Age of Ultron                         141           462669   \n",
       "Harry Potter and the Half-Blood Prince          153           321795   \n",
       "Batman v Superman: Dawn of Justice              183           371639   \n",
       "\n",
       "                                              actor_1_name       actor_2_name  \\\n",
       "movie_title                                                                     \n",
       "Avatar                                         CCH Pounder   Joel David Moore   \n",
       "Pirates of the Caribbean: At World's End       Johnny Depp      Orlando Bloom   \n",
       "Spectre                                    Christoph Waltz       Rory Kinnear   \n",
       "The Dark Knight Rises                            Tom Hardy     Christian Bale   \n",
       "John Carter                                   Daryl Sabara    Samantha Morton   \n",
       "Spider-Man 3                                  J.K. Simmons       James Franco   \n",
       "Tangled                                       Brad Garrett       Donna Murphy   \n",
       "Avengers: Age of Ultron                    Chris Hemsworth  Robert Downey Jr.   \n",
       "Harry Potter and the Half-Blood Prince        Alan Rickman   Daniel Radcliffe   \n",
       "Batman v Superman: Dawn of Justice            Henry Cavill       Lauren Cohan   \n",
       "\n",
       "                                                   actor_3_name  \\\n",
       "movie_title                                                       \n",
       "Avatar                                                Wes Studi   \n",
       "Pirates of the Caribbean: At World's End         Jack Davenport   \n",
       "Spectre                                        Stephanie Sigman   \n",
       "The Dark Knight Rises                      Joseph Gordon-Levitt   \n",
       "John Carter                                        Polly Walker   \n",
       "Spider-Man 3                                      Kirsten Dunst   \n",
       "Tangled                                             M.C. Gainey   \n",
       "Avengers: Age of Ultron                      Scarlett Johansson   \n",
       "Harry Potter and the Half-Blood Prince             Rupert Grint   \n",
       "Batman v Superman: Dawn of Justice               Alan D. Purwin   \n",
       "\n",
       "                                           actor_1_facebook_likes  \\\n",
       "movie_title                                                         \n",
       "Avatar                                                       1000   \n",
       "Pirates of the Caribbean: At World's End                    40000   \n",
       "Spectre                                                     11000   \n",
       "The Dark Knight Rises                                       27000   \n",
       "John Carter                                                   640   \n",
       "Spider-Man 3                                                24000   \n",
       "Tangled                                                       799   \n",
       "Avengers: Age of Ultron                                     26000   \n",
       "Harry Potter and the Half-Blood Prince                      25000   \n",
       "Batman v Superman: Dawn of Justice                          15000   \n",
       "\n",
       "                                           actor_2_facebook_likes  \\\n",
       "movie_title                                                         \n",
       "Avatar                                                        936   \n",
       "Pirates of the Caribbean: At World's End                     5000   \n",
       "Spectre                                                       393   \n",
       "The Dark Knight Rises                                       23000   \n",
       "John Carter                                                   632   \n",
       "Spider-Man 3                                                11000   \n",
       "Tangled                                                       553   \n",
       "Avengers: Age of Ultron                                     21000   \n",
       "Harry Potter and the Half-Blood Prince                      11000   \n",
       "Batman v Superman: Dawn of Justice                           4000   \n",
       "\n",
       "                                           actor_3_facebook_likes  \\\n",
       "movie_title                                                         \n",
       "Avatar                                                        855   \n",
       "Pirates of the Caribbean: At World's End                     1000   \n",
       "Spectre                                                       161   \n",
       "The Dark Knight Rises                                       23000   \n",
       "John Carter                                                   530   \n",
       "Spider-Man 3                                                 4000   \n",
       "Tangled                                                       284   \n",
       "Avengers: Age of Ultron                                     19000   \n",
       "Harry Potter and the Half-Blood Prince                      10000   \n",
       "Batman v Superman: Dawn of Justice                           2000   \n",
       "\n",
       "                                                                                      genres  \n",
       "movie_title                                                                                   \n",
       "Avatar                                                       Action|Adventure|Fantasy|Sci-Fi  \n",
       "Pirates of the Caribbean: At World's End                            Action|Adventure|Fantasy  \n",
       "Spectre                                                            Action|Adventure|Thriller  \n",
       "The Dark Knight Rises                                                        Action|Thriller  \n",
       "John Carter                                                          Action|Adventure|Sci-Fi  \n",
       "Spider-Man 3                                                        Action|Adventure|Romance  \n",
       "Tangled                                    Adventure|Animation|Comedy|Family|Fantasy|Musi...  \n",
       "Avengers: Age of Ultron                                              Action|Adventure|Sci-Fi  \n",
       "Harry Potter and the Half-Blood Prince                      Adventure|Family|Fantasy|Mystery  \n",
       "Batman v Superman: Dawn of Justice                                   Action|Adventure|Sci-Fi  "
      ]
     },
     "execution_count": 24,
     "metadata": {},
     "output_type": "execute_result"
    }
   ],
   "source": [
    "selection.head(10)"
   ]
  },
  {
   "cell_type": "code",
   "execution_count": 72,
   "metadata": {},
   "outputs": [
    {
     "data": {
      "image/png": "[encoded data removed]",
      "text/plain": [
       "<Figure size 432x288 with 1 Axes>"
      ]
     },
     "metadata": {
      "needs_background": "light"
     },
     "output_type": "display_data"
    }
   ],
   "source": [
    "sns.boxplot(x=selection['num_voted_users'], color='lime')\n",
    "plt.xlabel('Score on IMDB', fontsize=14)\n",
    "plt.show()"
   ]
  },
  {
   "cell_type": "markdown",
   "metadata": {},
   "source": [
    "# num_voted_users"
   ]
  },
  {
   "cell_type": "code",
   "execution_count": 69,
   "metadata": {},
   "outputs": [],
   "source": [
    "selection['num_voted_users'] = selection['num_voted_users'].round(-4)"
   ]
  },
  {
   "cell_type": "code",
   "execution_count": 75,
   "metadata": {},
   "outputs": [
    {
     "data": {
      "text/plain": [
       "movie_title\n",
       "Avatar                                        890000\n",
       "Pirates of the Caribbean: At World's End      470000\n",
       "Spectre                                       280000\n",
       "The Dark Knight Rises                        1140000\n",
       "John Carter                                   210000\n",
       "Spider-Man 3                                  380000\n",
       "Tangled                                       290000\n",
       "Avengers: Age of Ultron                       460000\n",
       "Harry Potter and the Half-Blood Prince        320000\n",
       "Batman v Superman: Dawn of Justice            370000\n",
       "Name: num_voted_users, dtype: int64"
      ]
     },
     "execution_count": 75,
     "metadata": {},
     "output_type": "execute_result"
    }
   ],
   "source": [
    "selection['num_voted_users'].head(10)"
   ]
  },
  {
   "cell_type": "code",
   "execution_count": 120,
   "metadata": {},
   "outputs": [
    {
     "name": "stdout",
     "output_type": "stream",
     "text": [
      "4863\n"
     ]
    }
   ],
   "source": [
    "num_voted_users = selection['num_voted_users']\n",
    "print(len(num_voted_users)) "
   ]
  },
  {
   "cell_type": "code",
   "execution_count": 132,
   "metadata": {},
   "outputs": [],
   "source": [
    "actor_1_name = selection['actor_1_name']\n",
    "actor_2_name = selection['actor_2_name']\n",
    "actor_3_name = selection['actor_3_name']\n",
    "\n",
    "actor_1_facebook_likes = selection['actor_1_facebook_likes']\n",
    "actor_2_facebook_likes = selection['actor_2_facebook_likes']\n",
    "actor_3_facebook_likes = selection['actor_3_facebook_likes']\n",
    "\n",
    "movie_title = selection.index.values.tolist()\n",
    "num_voted_users = selection['num_voted_users']\n",
    "num_voted_users1 = selection[selection['num_voted_users'] ==0]\n",
    "\n",
    "imdb_score = selection['imdb_score']"
   ]
  },
  {
   "cell_type": "code",
   "execution_count": 134,
   "metadata": {},
   "outputs": [
    {
     "name": "stdout",
     "output_type": "stream",
     "text": [
      "881\n"
     ]
    }
   ],
   "source": [
    "print(len(num_voted_users1))"
   ]
  },
  {
   "cell_type": "raw",
   "metadata": {},
   "source": [
    "Er zijn 881 waarden met 0 waarden, deze kunnen we opvullen door te interpoleren"
   ]
  },
  {
   "cell_type": "code",
   "execution_count": null,
   "metadata": {},
   "outputs": [],
   "source": []
  },
  {
   "cell_type": "code",
   "execution_count": 126,
   "metadata": {},
   "outputs": [],
   "source": [
    "from sklearn.model_selection import train_test_split\n",
    "\n",
    "X_train, X_test, y_train, y_test = train_test_split(actor_1_facebook_likes, num_voted_users, test_size = 0.2, random_state = 0)\n",
    "X_train = X_train.values.reshape(-1,1)\n",
    "X_test = X_test.values.reshape(-1,1)\n",
    "y_train = y_train.values.reshape(-1,1)\n",
    "y_test = y_test.values.reshape(-1,1)"
   ]
  },
  {
   "cell_type": "code",
   "execution_count": 96,
   "metadata": {},
   "outputs": [],
   "source": [
    "# print(X_train.shape,y_train.shape)\n",
    "# print(X_test.shape,y_test.shape)"
   ]
  },
  {
   "cell_type": "code",
   "execution_count": 105,
   "metadata": {},
   "outputs": [],
   "source": [
    "from sklearn.linear_model import LinearRegression\n",
    "\n",
    "lr = LinearRegression()\n",
    "model = lr.fit(X_train,y_train)\n",
    "predictions = lr.predict(X_test)"
   ]
  },
  {
   "cell_type": "code",
   "execution_count": 106,
   "metadata": {},
   "outputs": [
    {
     "name": "stdout",
     "output_type": "stream",
     "text": [
      "[[106135.1693882 ]\n",
      " [ 81482.16547067]\n",
      " [ 76286.54489505]\n",
      " [ 75648.64841868]\n",
      " [107675.98213305]]\n",
      "[[ 30000]\n",
      " [ 10000]\n",
      " [160000]\n",
      " [     0]\n",
      " [ 10000]]\n"
     ]
    }
   ],
   "source": [
    "print(predictions[0:5])\n",
    "print(y_test[0:5])"
   ]
  },
  {
   "cell_type": "code",
   "execution_count": 107,
   "metadata": {},
   "outputs": [
    {
     "data": {
      "text/plain": [
       "<matplotlib.collections.PathCollection at 0x124c8a358>"
      ]
     },
     "execution_count": 107,
     "metadata": {},
     "output_type": "execute_result"
    },
    {
     "data": {
      "image/png": "[encoded data removed]",
      "text/plain": [
       "<Figure size 432x288 with 1 Axes>"
      ]
     },
     "metadata": {
      "needs_background": "light"
     },
     "output_type": "display_data"
    }
   ],
   "source": [
    "plt.scatter(y_test,predictions)"
   ]
  },
  {
   "cell_type": "code",
   "execution_count": 111,
   "metadata": {},
   "outputs": [],
   "source": [
    "y_train2 = y_train.astype(int)\n",
    "y_test2 = y_test.astype(int)"
   ]
  },
  {
   "cell_type": "code",
   "execution_count": 114,
   "metadata": {},
   "outputs": [],
   "source": [
    "from sklearn.naive_bayes import GaussianNB\n",
    "from sklearn.metrics import accuracy_score\n",
    "\n",
    "gs = GaussianNB()\n",
    "model_gs = gs.fit(X_train,y_train2)\n",
    "predictions_gs = gs.predict(X_test)\n",
    "\n",
    "gs_score = model_gs.score(X_test,y_test2) * 100"
   ]
  },
  {
   "cell_type": "code",
   "execution_count": 115,
   "metadata": {},
   "outputs": [
    {
     "data": {
      "text/plain": [
       "11.921891058581705"
      ]
     },
     "execution_count": 115,
     "metadata": {},
     "output_type": "execute_result"
    }
   ],
   "source": [
    "gs_score"
   ]
  },
  {
   "cell_type": "markdown",
   "metadata": {},
   "source": [
    "Voordat we alle aantallen hebben afgerond waren er 0, 0-waarden. Nu ronden we alles af op tienduizend-tallen om zo te categoriseren en zijn er 881 waarden die afgerond worden naar 0."
   ]
  },
  {
   "cell_type": "markdown",
   "metadata": {},
   "source": [
    "# OVERIG"
   ]
  },
  {
   "cell_type": "markdown",
   "metadata": {},
   "source": [
    "# Wat is de invloed op populariteit van een film als er een populaire acteur wordt gecast?\n",
    "\n",
    "- bereken de populariteit van een acteur -> naam linken aan facebook-likes\n",
    "- bereken de populariteit van een film -> film linken aan imdb-score"
   ]
  },
  {
   "cell_type": "code",
   "execution_count": 89,
   "metadata": {},
   "outputs": [],
   "source": [
    "actor_1_name = selection['actor_1_name']\n",
    "actor_2_name = selection['actor_2_name']\n",
    "actor_3_name = selection['actor_3_name']\n",
    "\n",
    "actor_1_facebook_likes = selection['actor_1_facebook_likes']\n",
    "actor_2_facebook_likes = selection['actor_2_facebook_likes']\n",
    "actor_3_facebook_likes = selection['actor_3_facebook_likes']\n",
    "\n",
    "movie_title = selection.index.values.tolist()\n",
    "imdb_score = selection['imdb_score']"
   ]
  },
  {
   "cell_type": "code",
   "execution_count": 27,
   "metadata": {},
   "outputs": [
    {
     "data": {
      "text/plain": [
       "(array([-100000.,       0.,  100000.,  200000.,  300000.,  400000.,\n",
       "         500000.,  600000.,  700000.]), <a list of 9 Text xticklabel objects>)"
      ]
     },
     "execution_count": 27,
     "metadata": {},
     "output_type": "execute_result"
    },
    {
     "data": {
      "image/png": "[encoded data removed]",
      "text/plain": [
       "<Figure size 432x288 with 1 Axes>"
      ]
     },
     "metadata": {
      "needs_background": "light"
     },
     "output_type": "display_data"
    }
   ],
   "source": [
    "# plt.figure(figsize=(20, 10), dpi=100)\n",
    "plt.scatter(actor_1_facebook_likes,imdb_score)\n",
    "plt.xticks(rotation=90)"
   ]
  },
  {
   "cell_type": "markdown",
   "metadata": {},
   "source": [
    "Wat er duidelijk naar voren komt in het grafiek hierboven is dat er wel degelijk een correlatie is tussen imdb_score van een film en de populariteit van een acteur gemeten met facebook likes. \n",
    "Echter zijn er ook  gevallen waarin de facebook likes niet veel over de film zelf vertelt. In het voorbeeld hierboven speelt de acteur met de meeste likes niet in een film die het best heeft gescoord op imdb."
   ]
  },
  {
   "cell_type": "code",
   "execution_count": 28,
   "metadata": {},
   "outputs": [],
   "source": [
    "# import plotly.express as px\n",
    "# iris = px.data.iris()\n",
    "# fig = px.scatter_3d(iris, x='sepal_length', y='sepal_width', z='petal_width',\n",
    "#               color='species')\n",
    "# fig.show()"
   ]
  },
  {
   "cell_type": "code",
   "execution_count": 29,
   "metadata": {},
   "outputs": [],
   "source": [
    "from sklearn.model_selection import train_test_split"
   ]
  },
  {
   "cell_type": "code",
   "execution_count": 30,
   "metadata": {},
   "outputs": [],
   "source": [
    "X_train, X_test, y_train, y_test = train_test_split(actor_1_facebook_likes, imdb_score, test_size = 0.2, random_state = 0)\n",
    "X_train = X_train.values.reshape(-1,1)\n",
    "X_test = X_test.values.reshape(-1,1)\n",
    "y_train = y_train.values.reshape(-1,1)\n",
    "y_test = y_test.values.reshape(-1,1)"
   ]
  },
  {
   "cell_type": "code",
   "execution_count": 31,
   "metadata": {},
   "outputs": [
    {
     "name": "stdout",
     "output_type": "stream",
     "text": [
      "(3890, 1) (3890, 1)\n",
      "(973, 1) (973, 1)\n"
     ]
    }
   ],
   "source": [
    "print(X_train.shape,y_train.shape)\n",
    "print(X_test.shape,y_test.shape)"
   ]
  },
  {
   "cell_type": "code",
   "execution_count": 32,
   "metadata": {},
   "outputs": [],
   "source": [
    "from sklearn.linear_model import LinearRegression\n",
    "lr = LinearRegression()"
   ]
  },
  {
   "cell_type": "code",
   "execution_count": 33,
   "metadata": {
    "scrolled": true
   },
   "outputs": [],
   "source": [
    "model = lr.fit(X_train,y_train)\n",
    "predictions = lr.predict(X_test)"
   ]
  },
  {
   "cell_type": "markdown",
   "metadata": {},
   "source": [
    "fit functie gebruiken op de train_set om de test_set te voorspellen"
   ]
  },
  {
   "cell_type": "code",
   "execution_count": 34,
   "metadata": {},
   "outputs": [
    {
     "data": {
      "text/plain": [
       "array([[6.48406123],\n",
       "       [6.39517825],\n",
       "       [6.37644616],\n",
       "       [6.37414632],\n",
       "       [6.48961641]])"
      ]
     },
     "execution_count": 34,
     "metadata": {},
     "output_type": "execute_result"
    }
   ],
   "source": [
    "predictions[0:5]"
   ]
  },
  {
   "cell_type": "code",
   "execution_count": 35,
   "metadata": {},
   "outputs": [
    {
     "data": {
      "text/plain": [
       "array([[7.5],\n",
       "       [5.3],\n",
       "       [7.8],\n",
       "       [3.5],\n",
       "       [5.5]])"
      ]
     },
     "execution_count": 35,
     "metadata": {},
     "output_type": "execute_result"
    }
   ],
   "source": [
    "y_test[0:5]"
   ]
  },
  {
   "cell_type": "markdown",
   "metadata": {},
   "source": [
    "Zoals je ziet wijken de voorspellingen heel erg af van de werkelijke test_set"
   ]
  },
  {
   "cell_type": "code",
   "execution_count": 36,
   "metadata": {},
   "outputs": [
    {
     "data": {
      "text/plain": [
       "<matplotlib.collections.PathCollection at 0x1242fc518>"
      ]
     },
     "execution_count": 36,
     "metadata": {},
     "output_type": "execute_result"
    },
    {
     "data": {
      "image/png": "[encoded data removed]",
      "text/plain": [
       "<Figure size 432x288 with 1 Axes>"
      ]
     },
     "metadata": {
      "needs_background": "light"
     },
     "output_type": "display_data"
    }
   ],
   "source": [
    "plt.scatter(y_test,predictions)\n",
    "# x true values en y predictions"
   ]
  },
  {
   "cell_type": "code",
   "execution_count": 37,
   "metadata": {},
   "outputs": [],
   "source": [
    "lr_score = model.score(X_test,y_test) * 100"
   ]
  },
  {
   "cell_type": "code",
   "execution_count": 38,
   "metadata": {},
   "outputs": [
    {
     "data": {
      "text/plain": [
       "0.9596415643765122"
      ]
     },
     "execution_count": 38,
     "metadata": {},
     "output_type": "execute_result"
    }
   ],
   "source": [
    "lr_score"
   ]
  },
  {
   "cell_type": "code",
   "execution_count": 39,
   "metadata": {},
   "outputs": [],
   "source": [
    "# Gaussian Naive Bayes\n",
    "from sklearn.naive_bayes import GaussianNB\n",
    "from sklearn.metrics import accuracy_score"
   ]
  },
  {
   "cell_type": "markdown",
   "metadata": {},
   "source": [
    "Voor het Gaussian algoritme moeten we de float-waarden in de 2D-array converten naar int-waarden"
   ]
  },
  {
   "cell_type": "code",
   "execution_count": 40,
   "metadata": {},
   "outputs": [],
   "source": [
    "y_train2 = y_train.astype(int)\n",
    "y_test2 = y_test.astype(int)\n",
    "\n",
    "gs = GaussianNB()\n",
    "model_gs = gs.fit(X_train,y_train2)\n",
    "predictions_gs = gs.predict(X_test)\n",
    "\n",
    "gs_score = model_gs.score(X_test,y_test2) * 100"
   ]
  },
  {
   "cell_type": "code",
   "execution_count": 41,
   "metadata": {},
   "outputs": [
    {
     "data": {
      "text/plain": [
       "34.42959917780062"
      ]
     },
     "execution_count": 41,
     "metadata": {},
     "output_type": "execute_result"
    }
   ],
   "source": [
    "gs_score"
   ]
  },
  {
   "cell_type": "code",
   "execution_count": 42,
   "metadata": {},
   "outputs": [
    {
     "data": {
      "text/plain": [
       "<matplotlib.collections.PathCollection at 0x1243f19b0>"
      ]
     },
     "execution_count": 42,
     "metadata": {},
     "output_type": "execute_result"
    },
    {
     "data": {
      "image/png": "[encoded data removed]",
      "text/plain": [
       "<Figure size 432x288 with 1 Axes>"
      ]
     },
     "metadata": {
      "needs_background": "light"
     },
     "output_type": "display_data"
    }
   ],
   "source": [
    "plt.scatter(y_test2,predictions_gs) # hier nog even verder naar kijken; wat betekent het"
   ]
  },
  {
   "cell_type": "code",
   "execution_count": 43,
   "metadata": {},
   "outputs": [],
   "source": [
    "from sklearn.svm import SVC\n",
    "\n",
    "svc = SVC()\n",
    "model_svc = svc.fit(X_train, y_train2)\n",
    "predictions_svc = svc.predict(X_test)\n",
    "\n",
    "svc_score = model_svc.score(X_test,y_test2) * 100"
   ]
  },
  {
   "cell_type": "code",
   "execution_count": 44,
   "metadata": {},
   "outputs": [
    {
     "data": {
      "text/plain": [
       "34.943473792394656"
      ]
     },
     "execution_count": 44,
     "metadata": {},
     "output_type": "execute_result"
    }
   ],
   "source": [
    "svc_score"
   ]
  },
  {
   "cell_type": "code",
   "execution_count": 45,
   "metadata": {},
   "outputs": [],
   "source": [
    "from sklearn.tree import DecisionTreeClassifier"
   ]
  },
  {
   "cell_type": "code",
   "execution_count": 46,
   "metadata": {},
   "outputs": [],
   "source": [
    "dt = DecisionTreeClassifier()\n",
    "model_dt = dt.fit(X_train, y_train2)\n",
    "predictions_dt = dt.predict(X_test)\n",
    "\n",
    "dt_score = model_dt.score(X_test,y_test2) * 100"
   ]
  },
  {
   "cell_type": "code",
   "execution_count": 47,
   "metadata": {},
   "outputs": [
    {
     "data": {
      "text/plain": [
       "31.96300102774923"
      ]
     },
     "execution_count": 47,
     "metadata": {},
     "output_type": "execute_result"
    }
   ],
   "source": [
    "dt_score"
   ]
  },
  {
   "cell_type": "code",
   "execution_count": 48,
   "metadata": {},
   "outputs": [],
   "source": [
    "from sklearn.neighbors import KNeighborsClassifier"
   ]
  },
  {
   "cell_type": "code",
   "execution_count": 49,
   "metadata": {},
   "outputs": [],
   "source": [
    "knn = KNeighborsClassifier()\n",
    "model_knn = knn.fit(X_train, y_train2)\n",
    "predictions_knn = knn.predict(X_test)\n",
    "\n",
    "knn_score = model_knn.score(X_test,y_test2) * 100"
   ]
  },
  {
   "cell_type": "code",
   "execution_count": 50,
   "metadata": {},
   "outputs": [
    {
     "data": {
      "text/plain": [
       "31.551901336073996"
      ]
     },
     "execution_count": 50,
     "metadata": {},
     "output_type": "execute_result"
    }
   ],
   "source": [
    "knn_score"
   ]
  },
  {
   "cell_type": "code",
   "execution_count": 51,
   "metadata": {},
   "outputs": [],
   "source": [
    "from sklearn.linear_model import Perceptron"
   ]
  },
  {
   "cell_type": "code",
   "execution_count": 52,
   "metadata": {},
   "outputs": [],
   "source": [
    "perceptron = Perceptron()\n",
    "model_perceptron = perceptron.fit(X_train, y_train2)\n",
    "predictions_perceptron = perceptron.predict(X_test)\n",
    "\n",
    "perceptron_score = model_perceptron.score(X_test,y_test2) * 100"
   ]
  },
  {
   "cell_type": "code",
   "execution_count": 53,
   "metadata": {},
   "outputs": [
    {
     "data": {
      "text/plain": [
       "6.3720452209660845"
      ]
     },
     "execution_count": 53,
     "metadata": {},
     "output_type": "execute_result"
    }
   ],
   "source": [
    "perceptron_score"
   ]
  },
  {
   "cell_type": "code",
   "execution_count": 54,
   "metadata": {},
   "outputs": [],
   "source": [
    "from sklearn.ensemble import RandomForestClassifier"
   ]
  },
  {
   "cell_type": "code",
   "execution_count": 55,
   "metadata": {},
   "outputs": [],
   "source": [
    "randomforest = RandomForestClassifier()\n",
    "model_randomforest = randomforest.fit(X_train, y_train2)\n",
    "predictions_randomforest = randomforest.predict(X_test)\n",
    "\n",
    "randomforest_score = model_randomforest.score(X_test,y_test2) * 100"
   ]
  },
  {
   "cell_type": "code",
   "execution_count": 56,
   "metadata": {},
   "outputs": [
    {
     "data": {
      "text/plain": [
       "32.06577595066803"
      ]
     },
     "execution_count": 56,
     "metadata": {},
     "output_type": "execute_result"
    }
   ],
   "source": [
    "randomforest_score"
   ]
  },
  {
   "cell_type": "code",
   "execution_count": 57,
   "metadata": {},
   "outputs": [],
   "source": [
    "from sklearn.linear_model import SGDClassifier"
   ]
  },
  {
   "cell_type": "code",
   "execution_count": 58,
   "metadata": {},
   "outputs": [],
   "source": [
    "sgd = SGDClassifier()\n",
    "model_sgd = sgd.fit(X_train, y_train2)\n",
    "predictions_sgd = sgd.predict(X_test)\n",
    "\n",
    "sgd_score = model_sgd.score(X_test, y_test2) * 100"
   ]
  },
  {
   "cell_type": "code",
   "execution_count": 59,
   "metadata": {},
   "outputs": [
    {
     "data": {
      "text/plain": [
       "27.646454265159303"
      ]
     },
     "execution_count": 59,
     "metadata": {},
     "output_type": "execute_result"
    }
   ],
   "source": [
    "sgd_score"
   ]
  },
  {
   "cell_type": "code",
   "execution_count": 60,
   "metadata": {},
   "outputs": [],
   "source": [
    "from sklearn.ensemble import GradientBoostingClassifier"
   ]
  },
  {
   "cell_type": "code",
   "execution_count": 61,
   "metadata": {},
   "outputs": [],
   "source": [
    "gbk = GradientBoostingClassifier()\n",
    "\n",
    "model_gbk = gbk.fit(X_train, y_train2)\n",
    "predictions_gbk = gbk.predict(X_test)\n",
    "\n",
    "gbk_score = model_gbk.score(X_test, y_test2) * 100"
   ]
  },
  {
   "cell_type": "code",
   "execution_count": 62,
   "metadata": {},
   "outputs": [
    {
     "data": {
      "text/plain": [
       "34.224049331963"
      ]
     },
     "execution_count": 62,
     "metadata": {},
     "output_type": "execute_result"
    }
   ],
   "source": [
    "gbk_score"
   ]
  },
  {
   "cell_type": "code",
   "execution_count": 63,
   "metadata": {},
   "outputs": [
    {
     "data": {
      "text/html": [
       "<div>\n",
       "<style scoped>\n",
       "    .dataframe tbody tr th:only-of-type {\n",
       "        vertical-align: middle;\n",
       "    }\n",
       "\n",
       "    .dataframe tbody tr th {\n",
       "        vertical-align: top;\n",
       "    }\n",
       "\n",
       "    .dataframe thead th {\n",
       "        text-align: right;\n",
       "    }\n",
       "</style>\n",
       "<table border=\"1\" class=\"dataframe\">\n",
       "  <thead>\n",
       "    <tr style=\"text-align: right;\">\n",
       "      <th></th>\n",
       "      <th>Model</th>\n",
       "      <th>Score</th>\n",
       "    </tr>\n",
       "  </thead>\n",
       "  <tbody>\n",
       "    <tr>\n",
       "      <th>2</th>\n",
       "      <td>SVC</td>\n",
       "      <td>34.943474</td>\n",
       "    </tr>\n",
       "    <tr>\n",
       "      <th>1</th>\n",
       "      <td>Gaussian</td>\n",
       "      <td>34.429599</td>\n",
       "    </tr>\n",
       "    <tr>\n",
       "      <th>7</th>\n",
       "      <td>GradientBoostingClassifier</td>\n",
       "      <td>34.224049</td>\n",
       "    </tr>\n",
       "    <tr>\n",
       "      <th>3</th>\n",
       "      <td>Decision Tree</td>\n",
       "      <td>31.963001</td>\n",
       "    </tr>\n",
       "    <tr>\n",
       "      <th>4</th>\n",
       "      <td>Kneighbors</td>\n",
       "      <td>31.551901</td>\n",
       "    </tr>\n",
       "    <tr>\n",
       "      <th>6</th>\n",
       "      <td>SGDClassifier</td>\n",
       "      <td>27.646454</td>\n",
       "    </tr>\n",
       "    <tr>\n",
       "      <th>5</th>\n",
       "      <td>Perceptron</td>\n",
       "      <td>6.372045</td>\n",
       "    </tr>\n",
       "    <tr>\n",
       "      <th>0</th>\n",
       "      <td>Logistic Regression</td>\n",
       "      <td>0.959642</td>\n",
       "    </tr>\n",
       "  </tbody>\n",
       "</table>\n",
       "</div>"
      ],
      "text/plain": [
       "                        Model      Score\n",
       "2                         SVC  34.943474\n",
       "1                    Gaussian  34.429599\n",
       "7  GradientBoostingClassifier  34.224049\n",
       "3               Decision Tree  31.963001\n",
       "4                  Kneighbors  31.551901\n",
       "6               SGDClassifier  27.646454\n",
       "5                  Perceptron   6.372045\n",
       "0         Logistic Regression   0.959642"
      ]
     },
     "execution_count": 63,
     "metadata": {},
     "output_type": "execute_result"
    }
   ],
   "source": [
    "vergelijking = pd.DataFrame({'Model':['Logistic Regression','Gaussian','SVC','Decision Tree','Kneighbors','Perceptron','SGDClassifier','GradientBoostingClassifier'],'Score': [lr_score,gs_score,svc_score,dt_score,knn_score,perceptron_score,sgd_score,gbk_score]})\n",
    "vergelijking.sort_values(by='Score',ascending=False)"
   ]
  }
 ],
 "metadata": {
  "kernelspec": {
   "display_name": "Python 3",
   "language": "python",
   "name": "python3"
  },
  "language_info": {
   "codemirror_mode": {
    "name": "ipython",
    "version": 3
   },
   "file_extension": ".py",
   "mimetype": "text/x-python",
   "name": "python",
   "nbconvert_exporter": "python",
   "pygments_lexer": "ipython3",
   "version": "3.7.0"
  }
 },
 "nbformat": 4,
 "nbformat_minor": 2
}
